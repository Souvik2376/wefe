{
 "cells": [
  {
   "cell_type": "markdown",
   "metadata": {},
   "source": [
    "# WEFE Rankings and Correlations.\n",
    "\n",
    "The following code will show how to perform a massive amount of bias testing on different bias criteria (gender, ethnicity and religion) and using different embedding models and metrics. Then, from the above, we will create rankings according to the evaluated bias criteria and plot their correlations.\n",
    "\n",
    "The final idea of this is to see if, through the different bias rankings we calculate, we can safely say that there are embeddings that are less biased than others or not.\n",
    "\n",
    "For this, \n",
    "\n",
    "1. We create the queries. These are separated by type of bias explored: gender, ethnicity and religion.\n",
    "\n",
    "2. We indicate the list of embeddings to be loaded later. Only public model support is shown in the gensim API (it will be updated later).\n",
    "\n",
    "3. We create some runners, which are just wrappers to make the queries compatible and the results more robust.\n",
    "\n",
    "\n",
    "4. We will execute the queries on all the embeddings and using all the metrics.\n",
    "\n",
    "5. We will create rankings of the results by evaluated bias criteria and also an overall, which contains the sum of all previous rankings.\n",
    "\n",
    "6. We graph the rankings.\n",
    "\n",
    "7. We calculate and graph the correlations of the rankings.\n",
    "\n",
    "\n",
    "\n",
    "In general, this code takes about an hour to run.\n"
   ]
  },
  {
   "cell_type": "code",
   "execution_count": 2,
   "metadata": {
    "ExecuteTime": {
     "end_time": "2020-04-07T20:28:05.587473Z",
     "start_time": "2020-04-07T20:28:05.540394Z"
    }
   },
   "outputs": [],
   "source": [
    "%load_ext autoreload\n",
    "%autoreload 2"
   ]
  },
  {
   "cell_type": "code",
   "execution_count": 88,
   "metadata": {
    "ExecuteTime": {
     "end_time": "2020-04-07T20:55:11.763259Z",
     "start_time": "2020-04-07T20:55:11.655512Z"
    }
   },
   "outputs": [],
   "source": [
    "import pandas as pd\n",
    "import numpy as np\n",
    "from functools import reduce\n",
    "import gensim.downloader as api\n",
    "import os\n",
    "\n",
    "from wefe.datasets import load_weat, fetch_eds, fetch_debias_multiclass, fetch_debiaswe, load_bingliu\n",
    "from wefe.query import Query\n",
    "from wefe.word_embedding_model import WordEmbeddingModel\n",
    "from wefe.metrics import WEAT, RNSB, RND\n",
    "\n",
    "\n",
    "from wefe.utils import run_queries, plot_queries_results, create_ranking, plot_ranking, calculate_ranking_correlations, plot_ranking_correlations\n",
    "from plotly.subplots import make_subplots"
   ]
  },
  {
   "cell_type": "markdown",
   "metadata": {},
   "source": [
    "## Queries\n",
    "\n",
    "### Load the word sets"
   ]
  },
  {
   "cell_type": "code",
   "execution_count": 4,
   "metadata": {
    "ExecuteTime": {
     "end_time": "2020-04-07T20:28:38.601576Z",
     "start_time": "2020-04-07T20:28:30.934270Z"
    }
   },
   "outputs": [
    {
     "output_type": "stream",
     "name": "stdout",
     "text": "Fetching file...\npatool: Extracting ./lexicon.rar ...\npatool: running C:\\ProgramData\\chocolatey\\bin\\7z.EXE x -o./ -- ./lexicon.rar\npatool: ... ./lexicon.rar extracted to `./'.\n"
    }
   ],
   "source": [
    "WEAT_wordsets = load_weat()\n",
    "RND_wordsets = fetch_eds()\n",
    "sentiments_wordsets = load_bingliu()\n",
    "debias_multiclass_wordsets = fetch_debias_multiclass()"
   ]
  },
  {
   "cell_type": "markdown",
   "metadata": {},
   "source": [
    "### Create the ethnicity Queries\n"
   ]
  },
  {
   "cell_type": "code",
   "execution_count": 5,
   "metadata": {
    "ExecuteTime": {
     "end_time": "2020-04-07T20:28:38.971456Z",
     "start_time": "2020-04-07T20:28:38.846005Z"
    }
   },
   "outputs": [],
   "source": [
    "\n",
    "eth_1 = Query([RND_wordsets['names_white'], RND_wordsets['names_black']],\n",
    "              [WEAT_wordsets['pleasant_5'], WEAT_wordsets['unpleasant_5']],\n",
    "              ['White last names', 'Black last names'],\n",
    "              ['Pleasant', 'Unpleasant'])\n",
    "\n",
    "eth_2 = Query([RND_wordsets['names_white'], RND_wordsets['names_asian']],\n",
    "              [WEAT_wordsets['pleasant_5'], WEAT_wordsets['unpleasant_5']],\n",
    "              ['White last names', 'Asian last names'],\n",
    "              ['Pleasant', 'Unpleasant'])\n",
    "\n",
    "eth_3 = Query([RND_wordsets['names_white'], RND_wordsets['names_hispanic']],\n",
    "              [WEAT_wordsets['pleasant_5'], WEAT_wordsets['unpleasant_5']],\n",
    "              ['White last names', 'Hispanic last names'],\n",
    "              ['Pleasant', 'Unpleasant'])\n",
    "\n",
    "eth_4 = Query(\n",
    "    [RND_wordsets['names_white'], RND_wordsets['names_black']],\n",
    "    [RND_wordsets['occupations_white'], RND_wordsets['occupations_black']],\n",
    "    ['White last names', 'Black last names'],\n",
    "    ['Occupations white', 'Occupations black'])\n",
    "\n",
    "eth_5 = Query(\n",
    "    [RND_wordsets['names_white'], RND_wordsets['names_asian']],\n",
    "    [RND_wordsets['occupations_white'], RND_wordsets['occupations_asian']],\n",
    "    ['White last names', 'Asian last names'],\n",
    "    ['Occupations white', 'Occupations asian'])\n",
    "\n",
    "eth_6 = Query(\n",
    "    [RND_wordsets['names_white'], RND_wordsets['names_hispanic']],\n",
    "    [RND_wordsets['occupations_white'], RND_wordsets['occupations_hispanic']],\n",
    "    ['White last names', 'Hispanic last names'],\n",
    "    ['Occupations white', 'Occupations hispanic'])\n",
    "\n",
    "eth_sent_1 = Query([RND_wordsets['names_white'], RND_wordsets['names_black']],\n",
    "                   [\n",
    "                       sentiments_wordsets['positive_words'],\n",
    "                       sentiments_wordsets['negative_words']\n",
    "                   ], ['White last names', 'Black last names'],\n",
    "                   ['Positive words', 'Negative words'])\n",
    "\n",
    "eth_sent_2 = Query([RND_wordsets['names_white'], RND_wordsets['names_asian']],\n",
    "                   [\n",
    "                       sentiments_wordsets['positive_words'],\n",
    "                       sentiments_wordsets['negative_words']\n",
    "                   ], ['White last names', 'Asian last names'],\n",
    "                   ['Positive words', 'Negative words'])\n",
    "\n",
    "eth_sent_3 = Query(\n",
    "    [RND_wordsets['names_white'], RND_wordsets['names_hispanic']], [\n",
    "        sentiments_wordsets['positive_words'],\n",
    "        sentiments_wordsets['negative_words']\n",
    "    ], ['White last names', 'Hispanic last names'],\n",
    "    ['Positive words', 'Negative words'])\n",
    "\n",
    "ethnicity_queries = [\n",
    "    eth_1, eth_2, eth_3, eth_4, eth_5, eth_6, eth_sent_1, eth_sent_2,\n",
    "    eth_sent_3\n",
    "]"
   ]
  },
  {
   "cell_type": "markdown",
   "metadata": {},
   "source": [
    "### Create gender queries"
   ]
  },
  {
   "cell_type": "code",
   "execution_count": 6,
   "metadata": {
    "ExecuteTime": {
     "end_time": "2020-04-07T20:32:40.285226Z",
     "start_time": "2020-04-07T20:32:40.166602Z"
    }
   },
   "outputs": [],
   "source": [
    "gender_1 = Query([RND_wordsets['male_terms'], RND_wordsets['female_terms']],\n",
    "                 [WEAT_wordsets['career'], WEAT_wordsets['family']],\n",
    "                 ['Male terms', 'Female terms'], ['Career', 'Family'])\n",
    "\n",
    "gender_2 = Query([RND_wordsets['male_terms'], RND_wordsets['female_terms']],\n",
    "                 [WEAT_wordsets['math'], WEAT_wordsets['arts']],\n",
    "                 ['Male terms', 'Female terms'], ['Math', 'Arts'])\n",
    "\n",
    "gender_3 = Query([RND_wordsets['male_terms'], RND_wordsets['female_terms']],\n",
    "                 [WEAT_wordsets['science'], WEAT_wordsets['arts_2']],\n",
    "                 ['Male terms', 'Female terms'], ['Science', 'Arts'])\n",
    "\n",
    "gender_4 = Query([RND_wordsets['male_terms'], RND_wordsets['female_terms']], [\n",
    "    RND_wordsets['adjectives_intelligence'],\n",
    "    RND_wordsets['adjectives_appearance']\n",
    "], ['Male terms', 'Female terms'], ['Intelligence', 'Appearence'])\n",
    "\n",
    "gender_5 = Query([RND_wordsets['male_terms'], RND_wordsets['female_terms']], [\n",
    "    RND_wordsets['adjectives_intelligence'],\n",
    "    RND_wordsets['adjectives_sensitive']\n",
    "], ['Male terms', 'Female terms'], ['Intelligence', 'Sensitive'])\n",
    "\n",
    "gender_6 = Query([RND_wordsets['male_terms'], RND_wordsets['female_terms']],\n",
    "                 [WEAT_wordsets['pleasant_5'], WEAT_wordsets['unpleasant_5']],\n",
    "                 ['Male terms', 'Female terms'], ['Pleasant', 'Unpleasant'])\n",
    "\n",
    "gender_sent_1 = Query(\n",
    "    [RND_wordsets['male_terms'], RND_wordsets['female_terms']], [\n",
    "        sentiments_wordsets['positive_words'],\n",
    "        sentiments_wordsets['negative_words']\n",
    "    ], ['Male terms', 'Female terms'], ['Positive words', 'Negative words'])\n",
    "\n",
    "gender_role_1 = Query(\n",
    "    [RND_wordsets['male_terms'], RND_wordsets['female_terms']], [\n",
    "        debias_multiclass_wordsets['male_roles'],\n",
    "        debias_multiclass_wordsets['female_roles']\n",
    "    ], ['Male terms', 'Female terms'], ['Man Roles', 'Woman Roles'])\n",
    "\n",
    "gender_queries = [\n",
    "    gender_1, gender_2, gender_3, gender_4, gender_5, gender_sent_1,\n",
    "    gender_role_1\n",
    "]"
   ]
  },
  {
   "cell_type": "markdown",
   "metadata": {},
   "source": [
    "### Create religion queries"
   ]
  },
  {
   "cell_type": "code",
   "execution_count": 7,
   "metadata": {
    "ExecuteTime": {
     "end_time": "2020-04-07T20:32:40.678170Z",
     "start_time": "2020-04-07T20:32:40.550503Z"
    }
   },
   "outputs": [],
   "source": [
    "rel_1 = Query([\n",
    "    debias_multiclass_wordsets['christianity_terms'],\n",
    "    debias_multiclass_wordsets['islam_terms']\n",
    "], [WEAT_wordsets['pleasant_5'], WEAT_wordsets['unpleasant_5']],\n",
    "              ['Christianity terms', 'Islam terms'],\n",
    "              ['Pleasant', 'Unpleasant'])\n",
    "\n",
    "rel_2 = Query([\n",
    "    debias_multiclass_wordsets['christianity_terms'],\n",
    "    debias_multiclass_wordsets['judaism_terms']\n",
    "], [WEAT_wordsets['pleasant_5'], WEAT_wordsets['unpleasant_5']],\n",
    "              ['Christianity terms', 'Judaism terms'],\n",
    "              ['Pleasant', 'Unpleasant'])\n",
    "\n",
    "rel_3 = Query([\n",
    "    debias_multiclass_wordsets['islam_terms'],\n",
    "    debias_multiclass_wordsets['judaism_terms']\n",
    "], [WEAT_wordsets['pleasant_5'], WEAT_wordsets['unpleasant_5']],\n",
    "              ['Islam terms', 'Judaism terms'], ['Pleasant', 'Unpleasant'])\n",
    "\n",
    "rel_4 = Query([\n",
    "    debias_multiclass_wordsets['christianity_terms'],\n",
    "    debias_multiclass_wordsets['islam_terms']\n",
    "], [\n",
    "    debias_multiclass_wordsets['christian_related_words'],\n",
    "    debias_multiclass_wordsets['muslim_related_words']\n",
    "], ['Christianity terms', 'Islam terms'],\n",
    "              ['Christian related words', 'Muslim related words'])\n",
    "\n",
    "rel_5 = Query([\n",
    "    debias_multiclass_wordsets['christianity_terms'],\n",
    "    debias_multiclass_wordsets['judaism_terms']\n",
    "], [\n",
    "    debias_multiclass_wordsets['christian_related_words'],\n",
    "    debias_multiclass_wordsets['jew_related_words']\n",
    "], ['Christianity terms', 'Jew terms'],\n",
    "              ['Christian related words', 'Jew related words'])\n",
    "\n",
    "rel_6 = Query([\n",
    "    debias_multiclass_wordsets['islam_terms'],\n",
    "    debias_multiclass_wordsets['judaism_terms']\n",
    "], [\n",
    "    debias_multiclass_wordsets['muslim_related_words'],\n",
    "    debias_multiclass_wordsets['jew_related_words']\n",
    "], ['Islam terms', 'Jew terms'], ['Musilm related words', 'Jew related words'])\n",
    "\n",
    "rel_sent_1 = Query([\n",
    "    debias_multiclass_wordsets['christianity_terms'],\n",
    "    debias_multiclass_wordsets['islam_terms']\n",
    "], [\n",
    "    sentiments_wordsets['positive_words'],\n",
    "    sentiments_wordsets['negative_words']\n",
    "], ['Christianity terms', 'Islam terms'], ['Positive words', 'Negative words'])\n",
    "\n",
    "rel_sent_2 = Query([\n",
    "    debias_multiclass_wordsets['christianity_terms'],\n",
    "    debias_multiclass_wordsets['judaism_terms']\n",
    "], [\n",
    "    sentiments_wordsets['positive_words'],\n",
    "    sentiments_wordsets['negative_words']\n",
    "], ['Christianity terms', 'Jew terms'], ['Positive words', 'Negative words'])\n",
    "\n",
    "rel_sent_3 = Query([\n",
    "    debias_multiclass_wordsets['islam_terms'],\n",
    "    debias_multiclass_wordsets['judaism_terms']\n",
    "], [\n",
    "    sentiments_wordsets['positive_words'],\n",
    "    sentiments_wordsets['negative_words']\n",
    "], ['Islam terms', 'Jew terms'], ['Positive words', 'Negative words'])\n",
    "\n",
    "religion_queries = [\n",
    "    rel_1, rel_2, rel_3, rel_4, rel_5, rel_6, rel_sent_1, rel_sent_2,\n",
    "    rel_sent_3\n",
    "]"
   ]
  },
  {
   "cell_type": "code",
   "execution_count": 8,
   "metadata": {
    "ExecuteTime": {
     "end_time": "2020-04-07T21:43:06.905094Z",
     "start_time": "2020-04-07T21:43:06.795365Z"
    }
   },
   "outputs": [],
   "source": [
    "queries_sets = [[gender_queries, 'Gender'],\n",
    "                           [ethnicity_queries, 'Ethnicity'],\n",
    "                           [religion_queries, 'Religion']]"
   ]
  },
  {
   "cell_type": "markdown",
   "metadata": {},
   "source": [
    "## Models\n",
    "\n",
    "### Set the models list"
   ]
  },
  {
   "cell_type": "code",
   "execution_count": 9,
   "metadata": {
    "ExecuteTime": {
     "end_time": "2020-04-07T21:43:03.991466Z",
     "start_time": "2020-04-07T21:43:03.871440Z"
    }
   },
   "outputs": [],
   "source": [
    "models = [\n",
    "    {\n",
    "        'name': 'glove-twitter-200',\n",
    "        'type': 'gensim'\n",
    "    },\n",
    "    {\n",
    "        'name': 'glove-twitter-100',\n",
    "        'type': 'gensim'\n",
    "    },\n",
    "    {\n",
    "        'name': 'glove-wiki-gigaword-100',\n",
    "        'type': 'gensim'\n",
    "    },\n",
    "    {\n",
    "        'name': 'glove-wiki-gigaword-200',\n",
    "        'type': 'gensim'\n",
    "    },\n",
    "    {\n",
    "        'name': 'glove-wiki-gigaword-300',\n",
    "        'type': 'gensim'\n",
    "    },\n",
    "    {\n",
    "        'name': 'word2vec-google-news-300',\n",
    "        'type': 'gensim'\n",
    "    },\n",
    "    {\n",
    "        'name': 'fasttext-wiki-news-subwords-300',\n",
    "        'type': 'gensim'\n",
    "    },\n",
    "    {\n",
    "        'name': 'conceptnet-numberbatch-17-06-300',\n",
    "        'type': 'gensim',\n",
    "        'prefix' : '/c/en/'\n",
    "    },\n",
    "]"
   ]
  },
  {
   "cell_type": "markdown",
   "metadata": {},
   "source": [
    "## Metrics\n",
    "\n",
    "## Metrics wrappers"
   ]
  },
  {
   "cell_type": "code",
   "execution_count": 10,
   "metadata": {
    "ExecuteTime": {
     "end_time": "2020-04-07T21:43:02.112387Z",
     "start_time": "2020-04-07T21:43:01.977735Z"
    }
   },
   "outputs": [],
   "source": [
    "RNSB_NUM_ITERS = 30\n",
    "\n",
    "\n",
    "def evaluate_WEAT(queries_set, models_arr):\n",
    "    return run_queries(WEAT,\n",
    "                       queries_set[0],\n",
    "                       models_arr,\n",
    "                       queries_set_name=queries_set[1],\n",
    "                       include_average_by_embedding='include',\n",
    "                       warn_filtered_words=False)\n",
    "\n",
    "# this wrapper sets WEAT to return the effect size\n",
    "def evaluate_WEAT_effect_size(queries_set, models_arr):\n",
    "    return run_queries(WEAT,\n",
    "                       queries_set[0],\n",
    "                       models_arr,\n",
    "                       queries_set_name=queries_set[1],\n",
    "                       metric_params={'return_effect_size': True},\n",
    "                       include_average_by_embedding='include',\n",
    "                       warn_filtered_words=False)\n",
    "\n",
    "# this wrapper transform the template of the default queries (2,2) \n",
    "# to the RND compatible template (2,1)  \n",
    "# to do this, it uses the get_subqueries method and then, \n",
    "# check that there are no replicas\n",
    "def evaluate_RND(queries_set, models_arr):\n",
    "\n",
    "    subqueries_arr = []\n",
    "    for query in queries_set[0]:\n",
    "        subqueries = query.get_subqueries((2, 1))\n",
    "        # not so quick duplicated check\n",
    "        subq_0_duplicated = False\n",
    "        subq_1_duplicated = False\n",
    "        for subq in subqueries_arr:\n",
    "            if subqueries[0].query_name_ == subq.query_name_:\n",
    "                subq_0_duplicated = True\n",
    "            if subqueries[1].query_name_ == subq.query_name_:\n",
    "                subq_1_duplicated = True\n",
    "        if not subq_0_duplicated:\n",
    "            subqueries_arr.append(subqueries[0])\n",
    "        if not subq_1_duplicated:\n",
    "            subqueries_arr.append(subqueries[1])\n",
    "\n",
    "    return run_queries(RND,\n",
    "                       subqueries_arr,\n",
    "                       models_arr,\n",
    "                       queries_set_name=queries_set[1],\n",
    "                       include_average_by_embedding='include',\n",
    "                       warn_filtered_words=False)\n",
    "\n",
    "\n",
    "# this wrapper  makes RNSB evaluate N times and then averages them. \n",
    "# since results vary with each run, this allows for more robust results. \n",
    "def evaluate_RNSB(queries_set, models_arr):\n",
    "\n",
    "    RNSB_scores_iter = []\n",
    "    ommited = 0\n",
    "\n",
    "    # run several times the metric to calculate the avg scores.\n",
    "    # it avoids outliers.\n",
    "    for i in range(RNSB_NUM_ITERS):\n",
    "        try:\n",
    "            RNSB_scores_iter.append(\n",
    "                run_queries(RNSB,\n",
    "                            queries_set[0],\n",
    "                            models_arr,\n",
    "                            queries_set_name=queries_set[1],\n",
    "                            include_average_by_embedding='include',\n",
    "                            warn_filtered_words=False))\n",
    "        except Exception as e:\n",
    "            ommited += 1\n",
    "    if ommited != 0:\n",
    "        print('\\tIterations ommited: {}'.format(ommited))\n",
    "    RNSB_scores = reduce(\n",
    "        (lambda x, y: x + y), RNSB_scores_iter) / RNSB_NUM_ITERS\n",
    "\n",
    "    return RNSB_scores\n",
    "\n",
    "\n",
    "runners = [[evaluate_WEAT, 'WEAT'], [evaluate_WEAT_effect_size, 'WEAT_EZ'],\n",
    "           [evaluate_RND, 'RND'], [evaluate_RNSB, 'RNSB']]"
   ]
  },
  {
   "cell_type": "markdown",
   "metadata": {},
   "source": [
    "## Run the experimentas\n",
    "\n",
    "\n",
    "The following code will run the experiments varying these three variables: \n",
    "\n",
    "- metrics = WEAT, WEAT effect size, RND, RNSB\n",
    "\n",
    "- queries = Gender, Ethnicity and Religion.\n",
    "\n",
    "- embeddings = all specified before."
   ]
  },
  {
   "cell_type": "code",
   "execution_count": 11,
   "metadata": {
    "ExecuteTime": {
     "end_time": "2020-04-07T22:14:03.845673Z",
     "start_time": "2020-04-07T22:14:03.726237Z"
    }
   },
   "outputs": [],
   "source": [
    "def run_all(runners, queries_sets, models):\n",
    "\n",
    "    if not os.path.exists('./results'):\n",
    "        os.mkdir('./results')\n",
    "\n",
    "    # the models are loaded in a deferred way so as not to saturate the RAM\n",
    "    for model in models:\n",
    "        try:\n",
    "            print(\"Loading {}\".format(model['name']))\n",
    "            loaded_model = WordEmbeddingModel(\n",
    "                api.load(model['name']), model['name'],\n",
    "                vocab_prefix=models[-1]['prefix']\n",
    "                if 'prefix' in models[-1] else None)\n",
    "            print(\"Load complete. Running experiments...\")\n",
    "        except Exception as e:\n",
    "            print('Error loading: {}. Error: {} .Breaking.'.format(\n",
    "                model['name'], e))\n",
    "            break\n",
    "\n",
    "        for metric in runners:\n",
    "            for queries_set in queries_sets:\n",
    "                results = metric[0](queries_set, [loaded_model])\n",
    "                if os.path.isfile('./results/{}_{}.csv'.format(\n",
    "                        queries_set[1], metric[1])):\n",
    "                    saved_results = pd.read_csv(\n",
    "                        './results/{}_{}.csv'.format(queries_set[1],\n",
    "                                                     metric[1]), index_col=0)\n",
    "                    results = pd.concat([results, saved_results], axis=0)\n",
    "                results.to_csv('./results/{}_{}.csv'.format(\n",
    "                    queries_set[1], metric[1]))\n",
    "        print(\n",
    "            'The experiments were successful.\\n----------------------------------\\n'\n",
    "        )\n",
    ""
   ]
  },
  {
   "cell_type": "markdown",
   "metadata": {},
   "source": [
    "### Run!"
   ]
  },
  {
   "cell_type": "code",
   "execution_count": 28,
   "metadata": {
    "ExecuteTime": {
     "end_time": "2020-04-07T22:55:36.412087Z",
     "start_time": "2020-04-07T22:14:06.596884Z"
    }
   },
   "outputs": [
    {
     "output_type": "stream",
     "name": "stdout",
     "text": "Loading conceptnet-numberbatch-17-06-300\nLoad complete. Running experiments...\n\tIterations ommited: 1\nThe experiments were successful.\n----------------------------------\n\n"
    }
   ],
   "source": [
    "run_all(runners, queries_sets, models)"
   ]
  },
  {
   "cell_type": "markdown",
   "metadata": {},
   "source": [
    "## Rankings\n",
    "\n",
    "The following function will make the rankings from the previous results. \n",
    "It also will create the overall ranking, which is only the sum of the other rankings.\n",
    "Finally, the output will contain the rankings and it plots."
   ]
  },
  {
   "cell_type": "code",
   "execution_count": 72,
   "metadata": {
    "tags": [
     "outputPrepend"
    ]
   },
   "outputs": [],
   "source": [
    "def make_rankings(runners, queries_sets):\n",
    "    rankings = []\n",
    "    ranking_plots = []\n",
    "    for queries_set in queries_sets:\n",
    "        queries_set_name = queries_set[1]\n",
    "        results_by_queries_set = []\n",
    "        for metric in runners:\n",
    "            metric_name = metric[1]\n",
    "            current_result = pd.read_csv(\n",
    "                './results/{}_{}.csv'.format(queries_set_name, metric_name),\n",
    "                index_col=0)\n",
    "            # change the name of the average column to WEAT effect size. \n",
    "            if metric_name == 'WEAT_EZ':\n",
    "                current_result.columns = list(current_result.columns)[0:-1] + [\n",
    "                    list(current_result.columns)[-1].replace(\n",
    "                        \"WEAT\", \"WEAT EZ\")\n",
    "                ]\n",
    "            results_by_queries_set.append(current_result)\n",
    "        current_ranking = create_ranking(results_by_queries_set)\n",
    "        current_ranking.columns = map(lambda x: x.split(':')[0] , current_ranking.columns)\n",
    "\n",
    "        ranking_plot = plot_ranking(current_ranking, use_metric_as_facet=False)\n",
    "        ranking_plot.update_layout(width=1200)\n",
    "        rankings.append(current_ranking)\n",
    "        ranking_plots.append(ranking_plot)\n",
    "\n",
    "\n",
    "    general_ranking = reduce(lambda x, y: x.add(y, fill_value=0),  rankings)\n",
    "    general_ranking_plot = plot_ranking(general_ranking, use_metric_as_facet=False)\n",
    "    general_ranking_plot.update_layout(width=1200)\n",
    "\n",
    "    rankings.append(general_ranking)\n",
    "    ranking_plots.append(general_ranking_plot)\n",
    "\n",
    "    return rankings, ranking_plots\n",
    "\n",
    "\n",
    "rankings, ranking_plots = make_rankings(runners, queries_sets)"
   ]
  },
  {
   "cell_type": "markdown",
   "metadata": {},
   "source": [
    "### Gender Rankings"
   ]
  },
  {
   "cell_type": "code",
   "execution_count": 73,
   "metadata": {},
   "outputs": [
    {
     "output_type": "execute_result",
     "data": {
      "text/plain": "                                  WEAT  WEAT EZ  RND  RNSB\nmodel_name                                                \nconceptnet-numberbatch-17-06-300     1        1    1     1\nfasttext-wiki-news-subwords-300      3        7    2     2\nword2vec-google-news-300             6        8    3     3\nglove-wiki-gigaword-300              5        5    6     8\nglove-wiki-gigaword-200              8        6    8     7\nglove-wiki-gigaword-100              7        4    7     6\nglove-twitter-100                    4        3    5     4\nglove-twitter-200                    2        2    4     5",
      "text/html": "<div>\n<style scoped>\n    .dataframe tbody tr th:only-of-type {\n        vertical-align: middle;\n    }\n\n    .dataframe tbody tr th {\n        vertical-align: top;\n    }\n\n    .dataframe thead th {\n        text-align: right;\n    }\n</style>\n<table border=\"1\" class=\"dataframe\">\n  <thead>\n    <tr style=\"text-align: right;\">\n      <th></th>\n      <th>WEAT</th>\n      <th>WEAT EZ</th>\n      <th>RND</th>\n      <th>RNSB</th>\n    </tr>\n    <tr>\n      <th>model_name</th>\n      <th></th>\n      <th></th>\n      <th></th>\n      <th></th>\n    </tr>\n  </thead>\n  <tbody>\n    <tr>\n      <th>conceptnet-numberbatch-17-06-300</th>\n      <td>1</td>\n      <td>1</td>\n      <td>1</td>\n      <td>1</td>\n    </tr>\n    <tr>\n      <th>fasttext-wiki-news-subwords-300</th>\n      <td>3</td>\n      <td>7</td>\n      <td>2</td>\n      <td>2</td>\n    </tr>\n    <tr>\n      <th>word2vec-google-news-300</th>\n      <td>6</td>\n      <td>8</td>\n      <td>3</td>\n      <td>3</td>\n    </tr>\n    <tr>\n      <th>glove-wiki-gigaword-300</th>\n      <td>5</td>\n      <td>5</td>\n      <td>6</td>\n      <td>8</td>\n    </tr>\n    <tr>\n      <th>glove-wiki-gigaword-200</th>\n      <td>8</td>\n      <td>6</td>\n      <td>8</td>\n      <td>7</td>\n    </tr>\n    <tr>\n      <th>glove-wiki-gigaword-100</th>\n      <td>7</td>\n      <td>4</td>\n      <td>7</td>\n      <td>6</td>\n    </tr>\n    <tr>\n      <th>glove-twitter-100</th>\n      <td>4</td>\n      <td>3</td>\n      <td>5</td>\n      <td>4</td>\n    </tr>\n    <tr>\n      <th>glove-twitter-200</th>\n      <td>2</td>\n      <td>2</td>\n      <td>4</td>\n      <td>5</td>\n    </tr>\n  </tbody>\n</table>\n</div>"
     },
     "metadata": {},
     "execution_count": 73
    }
   ],
   "source": [
    "rankings[0]"
   ]
  },
  {
   "cell_type": "code",
   "execution_count": 79,
   "metadata": {},
   "outputs": [
    {
     "output_type": "display_data",
     "data": {
      "application/vnd.plotly.v1+json": {
       "config": {
        "plotlyServerURL": "https://plot.ly"
       },
       "data": [
        {
         "alignmentgroup": "True",
         "hoverlabel": {
          "namelength": 0
         },
         "hovertemplate": "Metric=WEAT<br>Ranking=%{x}<br>Embedding model=%{y}",
         "legendgroup": "Metric=WEAT",
         "marker": {
          "color": "#636efa"
         },
         "name": "WEAT",
         "offsetgroup": "Metric=WEAT",
         "orientation": "h",
         "showlegend": true,
         "textposition": "auto",
         "type": "bar",
         "x": [
          1,
          3,
          6,
          5,
          8,
          7,
          4,
          2
         ],
         "xaxis": "x",
         "y": [
          "conceptnet-numberbatch-17-06-300",
          "fasttext-wiki-news-subwords-300",
          "word2vec-google-news-300",
          "glove-wiki-gigaword-300",
          "glove-wiki-gigaword-200",
          "glove-wiki-gigaword-100",
          "glove-twitter-100",
          "glove-twitter-200"
         ],
         "yaxis": "y"
        },
        {
         "alignmentgroup": "True",
         "hoverlabel": {
          "namelength": 0
         },
         "hovertemplate": "Metric=WEAT EZ<br>Ranking=%{x}<br>Embedding model=%{y}",
         "legendgroup": "Metric=WEAT EZ",
         "marker": {
          "color": "#EF553B"
         },
         "name": "WEAT EZ",
         "offsetgroup": "Metric=WEAT EZ",
         "orientation": "h",
         "showlegend": true,
         "textposition": "auto",
         "type": "bar",
         "x": [
          1,
          7,
          8,
          5,
          6,
          4,
          3,
          2
         ],
         "xaxis": "x",
         "y": [
          "conceptnet-numberbatch-17-06-300",
          "fasttext-wiki-news-subwords-300",
          "word2vec-google-news-300",
          "glove-wiki-gigaword-300",
          "glove-wiki-gigaword-200",
          "glove-wiki-gigaword-100",
          "glove-twitter-100",
          "glove-twitter-200"
         ],
         "yaxis": "y"
        },
        {
         "alignmentgroup": "True",
         "hoverlabel": {
          "namelength": 0
         },
         "hovertemplate": "Metric=RND<br>Ranking=%{x}<br>Embedding model=%{y}",
         "legendgroup": "Metric=RND",
         "marker": {
          "color": "#00cc96"
         },
         "name": "RND",
         "offsetgroup": "Metric=RND",
         "orientation": "h",
         "showlegend": true,
         "textposition": "auto",
         "type": "bar",
         "x": [
          1,
          2,
          3,
          6,
          8,
          7,
          5,
          4
         ],
         "xaxis": "x",
         "y": [
          "conceptnet-numberbatch-17-06-300",
          "fasttext-wiki-news-subwords-300",
          "word2vec-google-news-300",
          "glove-wiki-gigaword-300",
          "glove-wiki-gigaword-200",
          "glove-wiki-gigaword-100",
          "glove-twitter-100",
          "glove-twitter-200"
         ],
         "yaxis": "y"
        },
        {
         "alignmentgroup": "True",
         "hoverlabel": {
          "namelength": 0
         },
         "hovertemplate": "Metric=RNSB<br>Ranking=%{x}<br>Embedding model=%{y}",
         "legendgroup": "Metric=RNSB",
         "marker": {
          "color": "#ab63fa"
         },
         "name": "RNSB",
         "offsetgroup": "Metric=RNSB",
         "orientation": "h",
         "showlegend": true,
         "textposition": "auto",
         "type": "bar",
         "x": [
          1,
          2,
          3,
          8,
          7,
          6,
          4,
          5
         ],
         "xaxis": "x",
         "y": [
          "conceptnet-numberbatch-17-06-300",
          "fasttext-wiki-news-subwords-300",
          "word2vec-google-news-300",
          "glove-wiki-gigaword-300",
          "glove-wiki-gigaword-200",
          "glove-wiki-gigaword-100",
          "glove-twitter-100",
          "glove-twitter-200"
         ],
         "yaxis": "y"
        }
       ],
       "layout": {
        "barmode": "stack",
        "legend": {
         "tracegroupgap": 0
        },
        "margin": {
         "t": 60
        },
        "showlegend": false,
        "template": {
         "data": {
          "bar": [
           {
            "error_x": {
             "color": "#2a3f5f"
            },
            "error_y": {
             "color": "#2a3f5f"
            },
            "marker": {
             "line": {
              "color": "#E5ECF6",
              "width": 0.5
             }
            },
            "type": "bar"
           }
          ],
          "barpolar": [
           {
            "marker": {
             "line": {
              "color": "#E5ECF6",
              "width": 0.5
             }
            },
            "type": "barpolar"
           }
          ],
          "carpet": [
           {
            "aaxis": {
             "endlinecolor": "#2a3f5f",
             "gridcolor": "white",
             "linecolor": "white",
             "minorgridcolor": "white",
             "startlinecolor": "#2a3f5f"
            },
            "baxis": {
             "endlinecolor": "#2a3f5f",
             "gridcolor": "white",
             "linecolor": "white",
             "minorgridcolor": "white",
             "startlinecolor": "#2a3f5f"
            },
            "type": "carpet"
           }
          ],
          "choropleth": [
           {
            "colorbar": {
             "outlinewidth": 0,
             "ticks": ""
            },
            "type": "choropleth"
           }
          ],
          "contour": [
           {
            "colorbar": {
             "outlinewidth": 0,
             "ticks": ""
            },
            "colorscale": [
             [
              0,
              "#0d0887"
             ],
             [
              0.1111111111111111,
              "#46039f"
             ],
             [
              0.2222222222222222,
              "#7201a8"
             ],
             [
              0.3333333333333333,
              "#9c179e"
             ],
             [
              0.4444444444444444,
              "#bd3786"
             ],
             [
              0.5555555555555556,
              "#d8576b"
             ],
             [
              0.6666666666666666,
              "#ed7953"
             ],
             [
              0.7777777777777778,
              "#fb9f3a"
             ],
             [
              0.8888888888888888,
              "#fdca26"
             ],
             [
              1,
              "#f0f921"
             ]
            ],
            "type": "contour"
           }
          ],
          "contourcarpet": [
           {
            "colorbar": {
             "outlinewidth": 0,
             "ticks": ""
            },
            "type": "contourcarpet"
           }
          ],
          "heatmap": [
           {
            "colorbar": {
             "outlinewidth": 0,
             "ticks": ""
            },
            "colorscale": [
             [
              0,
              "#0d0887"
             ],
             [
              0.1111111111111111,
              "#46039f"
             ],
             [
              0.2222222222222222,
              "#7201a8"
             ],
             [
              0.3333333333333333,
              "#9c179e"
             ],
             [
              0.4444444444444444,
              "#bd3786"
             ],
             [
              0.5555555555555556,
              "#d8576b"
             ],
             [
              0.6666666666666666,
              "#ed7953"
             ],
             [
              0.7777777777777778,
              "#fb9f3a"
             ],
             [
              0.8888888888888888,
              "#fdca26"
             ],
             [
              1,
              "#f0f921"
             ]
            ],
            "type": "heatmap"
           }
          ],
          "heatmapgl": [
           {
            "colorbar": {
             "outlinewidth": 0,
             "ticks": ""
            },
            "colorscale": [
             [
              0,
              "#0d0887"
             ],
             [
              0.1111111111111111,
              "#46039f"
             ],
             [
              0.2222222222222222,
              "#7201a8"
             ],
             [
              0.3333333333333333,
              "#9c179e"
             ],
             [
              0.4444444444444444,
              "#bd3786"
             ],
             [
              0.5555555555555556,
              "#d8576b"
             ],
             [
              0.6666666666666666,
              "#ed7953"
             ],
             [
              0.7777777777777778,
              "#fb9f3a"
             ],
             [
              0.8888888888888888,
              "#fdca26"
             ],
             [
              1,
              "#f0f921"
             ]
            ],
            "type": "heatmapgl"
           }
          ],
          "histogram": [
           {
            "marker": {
             "colorbar": {
              "outlinewidth": 0,
              "ticks": ""
             }
            },
            "type": "histogram"
           }
          ],
          "histogram2d": [
           {
            "colorbar": {
             "outlinewidth": 0,
             "ticks": ""
            },
            "colorscale": [
             [
              0,
              "#0d0887"
             ],
             [
              0.1111111111111111,
              "#46039f"
             ],
             [
              0.2222222222222222,
              "#7201a8"
             ],
             [
              0.3333333333333333,
              "#9c179e"
             ],
             [
              0.4444444444444444,
              "#bd3786"
             ],
             [
              0.5555555555555556,
              "#d8576b"
             ],
             [
              0.6666666666666666,
              "#ed7953"
             ],
             [
              0.7777777777777778,
              "#fb9f3a"
             ],
             [
              0.8888888888888888,
              "#fdca26"
             ],
             [
              1,
              "#f0f921"
             ]
            ],
            "type": "histogram2d"
           }
          ],
          "histogram2dcontour": [
           {
            "colorbar": {
             "outlinewidth": 0,
             "ticks": ""
            },
            "colorscale": [
             [
              0,
              "#0d0887"
             ],
             [
              0.1111111111111111,
              "#46039f"
             ],
             [
              0.2222222222222222,
              "#7201a8"
             ],
             [
              0.3333333333333333,
              "#9c179e"
             ],
             [
              0.4444444444444444,
              "#bd3786"
             ],
             [
              0.5555555555555556,
              "#d8576b"
             ],
             [
              0.6666666666666666,
              "#ed7953"
             ],
             [
              0.7777777777777778,
              "#fb9f3a"
             ],
             [
              0.8888888888888888,
              "#fdca26"
             ],
             [
              1,
              "#f0f921"
             ]
            ],
            "type": "histogram2dcontour"
           }
          ],
          "mesh3d": [
           {
            "colorbar": {
             "outlinewidth": 0,
             "ticks": ""
            },
            "type": "mesh3d"
           }
          ],
          "parcoords": [
           {
            "line": {
             "colorbar": {
              "outlinewidth": 0,
              "ticks": ""
             }
            },
            "type": "parcoords"
           }
          ],
          "pie": [
           {
            "automargin": true,
            "type": "pie"
           }
          ],
          "scatter": [
           {
            "marker": {
             "colorbar": {
              "outlinewidth": 0,
              "ticks": ""
             }
            },
            "type": "scatter"
           }
          ],
          "scatter3d": [
           {
            "line": {
             "colorbar": {
              "outlinewidth": 0,
              "ticks": ""
             }
            },
            "marker": {
             "colorbar": {
              "outlinewidth": 0,
              "ticks": ""
             }
            },
            "type": "scatter3d"
           }
          ],
          "scattercarpet": [
           {
            "marker": {
             "colorbar": {
              "outlinewidth": 0,
              "ticks": ""
             }
            },
            "type": "scattercarpet"
           }
          ],
          "scattergeo": [
           {
            "marker": {
             "colorbar": {
              "outlinewidth": 0,
              "ticks": ""
             }
            },
            "type": "scattergeo"
           }
          ],
          "scattergl": [
           {
            "marker": {
             "colorbar": {
              "outlinewidth": 0,
              "ticks": ""
             }
            },
            "type": "scattergl"
           }
          ],
          "scattermapbox": [
           {
            "marker": {
             "colorbar": {
              "outlinewidth": 0,
              "ticks": ""
             }
            },
            "type": "scattermapbox"
           }
          ],
          "scatterpolar": [
           {
            "marker": {
             "colorbar": {
              "outlinewidth": 0,
              "ticks": ""
             }
            },
            "type": "scatterpolar"
           }
          ],
          "scatterpolargl": [
           {
            "marker": {
             "colorbar": {
              "outlinewidth": 0,
              "ticks": ""
             }
            },
            "type": "scatterpolargl"
           }
          ],
          "scatterternary": [
           {
            "marker": {
             "colorbar": {
              "outlinewidth": 0,
              "ticks": ""
             }
            },
            "type": "scatterternary"
           }
          ],
          "surface": [
           {
            "colorbar": {
             "outlinewidth": 0,
             "ticks": ""
            },
            "colorscale": [
             [
              0,
              "#0d0887"
             ],
             [
              0.1111111111111111,
              "#46039f"
             ],
             [
              0.2222222222222222,
              "#7201a8"
             ],
             [
              0.3333333333333333,
              "#9c179e"
             ],
             [
              0.4444444444444444,
              "#bd3786"
             ],
             [
              0.5555555555555556,
              "#d8576b"
             ],
             [
              0.6666666666666666,
              "#ed7953"
             ],
             [
              0.7777777777777778,
              "#fb9f3a"
             ],
             [
              0.8888888888888888,
              "#fdca26"
             ],
             [
              1,
              "#f0f921"
             ]
            ],
            "type": "surface"
           }
          ],
          "table": [
           {
            "cells": {
             "fill": {
              "color": "#EBF0F8"
             },
             "line": {
              "color": "white"
             }
            },
            "header": {
             "fill": {
              "color": "#C8D4E3"
             },
             "line": {
              "color": "white"
             }
            },
            "type": "table"
           }
          ]
         },
         "layout": {
          "annotationdefaults": {
           "arrowcolor": "#2a3f5f",
           "arrowhead": 0,
           "arrowwidth": 1
          },
          "coloraxis": {
           "colorbar": {
            "outlinewidth": 0,
            "ticks": ""
           }
          },
          "colorscale": {
           "diverging": [
            [
             0,
             "#8e0152"
            ],
            [
             0.1,
             "#c51b7d"
            ],
            [
             0.2,
             "#de77ae"
            ],
            [
             0.3,
             "#f1b6da"
            ],
            [
             0.4,
             "#fde0ef"
            ],
            [
             0.5,
             "#f7f7f7"
            ],
            [
             0.6,
             "#e6f5d0"
            ],
            [
             0.7,
             "#b8e186"
            ],
            [
             0.8,
             "#7fbc41"
            ],
            [
             0.9,
             "#4d9221"
            ],
            [
             1,
             "#276419"
            ]
           ],
           "sequential": [
            [
             0,
             "#0d0887"
            ],
            [
             0.1111111111111111,
             "#46039f"
            ],
            [
             0.2222222222222222,
             "#7201a8"
            ],
            [
             0.3333333333333333,
             "#9c179e"
            ],
            [
             0.4444444444444444,
             "#bd3786"
            ],
            [
             0.5555555555555556,
             "#d8576b"
            ],
            [
             0.6666666666666666,
             "#ed7953"
            ],
            [
             0.7777777777777778,
             "#fb9f3a"
            ],
            [
             0.8888888888888888,
             "#fdca26"
            ],
            [
             1,
             "#f0f921"
            ]
           ],
           "sequentialminus": [
            [
             0,
             "#0d0887"
            ],
            [
             0.1111111111111111,
             "#46039f"
            ],
            [
             0.2222222222222222,
             "#7201a8"
            ],
            [
             0.3333333333333333,
             "#9c179e"
            ],
            [
             0.4444444444444444,
             "#bd3786"
            ],
            [
             0.5555555555555556,
             "#d8576b"
            ],
            [
             0.6666666666666666,
             "#ed7953"
            ],
            [
             0.7777777777777778,
             "#fb9f3a"
            ],
            [
             0.8888888888888888,
             "#fdca26"
            ],
            [
             1,
             "#f0f921"
            ]
           ]
          },
          "colorway": [
           "#636efa",
           "#EF553B",
           "#00cc96",
           "#ab63fa",
           "#FFA15A",
           "#19d3f3",
           "#FF6692",
           "#B6E880",
           "#FF97FF",
           "#FECB52"
          ],
          "font": {
           "color": "#2a3f5f"
          },
          "geo": {
           "bgcolor": "white",
           "lakecolor": "white",
           "landcolor": "#E5ECF6",
           "showlakes": true,
           "showland": true,
           "subunitcolor": "white"
          },
          "hoverlabel": {
           "align": "left"
          },
          "hovermode": "closest",
          "mapbox": {
           "style": "light"
          },
          "paper_bgcolor": "white",
          "plot_bgcolor": "#E5ECF6",
          "polar": {
           "angularaxis": {
            "gridcolor": "white",
            "linecolor": "white",
            "ticks": ""
           },
           "bgcolor": "#E5ECF6",
           "radialaxis": {
            "gridcolor": "white",
            "linecolor": "white",
            "ticks": ""
           }
          },
          "scene": {
           "xaxis": {
            "backgroundcolor": "#E5ECF6",
            "gridcolor": "white",
            "gridwidth": 2,
            "linecolor": "white",
            "showbackground": true,
            "ticks": "",
            "zerolinecolor": "white"
           },
           "yaxis": {
            "backgroundcolor": "#E5ECF6",
            "gridcolor": "white",
            "gridwidth": 2,
            "linecolor": "white",
            "showbackground": true,
            "ticks": "",
            "zerolinecolor": "white"
           },
           "zaxis": {
            "backgroundcolor": "#E5ECF6",
            "gridcolor": "white",
            "gridwidth": 2,
            "linecolor": "white",
            "showbackground": true,
            "ticks": "",
            "zerolinecolor": "white"
           }
          },
          "shapedefaults": {
           "line": {
            "color": "#2a3f5f"
           }
          },
          "ternary": {
           "aaxis": {
            "gridcolor": "white",
            "linecolor": "white",
            "ticks": ""
           },
           "baxis": {
            "gridcolor": "white",
            "linecolor": "white",
            "ticks": ""
           },
           "bgcolor": "#E5ECF6",
           "caxis": {
            "gridcolor": "white",
            "linecolor": "white",
            "ticks": ""
           }
          },
          "title": {
           "x": 0.05
          },
          "xaxis": {
           "automargin": true,
           "gridcolor": "white",
           "linecolor": "white",
           "ticks": "",
           "title": {
            "standoff": 15
           },
           "zerolinecolor": "white",
           "zerolinewidth": 2
          },
          "yaxis": {
           "automargin": true,
           "gridcolor": "white",
           "linecolor": "white",
           "ticks": "",
           "title": {
            "standoff": 15
           },
           "zerolinecolor": "white",
           "zerolinewidth": 2
          }
         }
        },
        "width": 1200,
        "xaxis": {
         "anchor": "y",
         "domain": [
          0,
          1
         ],
         "title": {
          "text": "Ranking"
         }
        },
        "yaxis": {
         "anchor": "x",
         "categoryorder": "total ascending",
         "domain": [
          0,
          1
         ],
         "tickfont": {
          "size": 10
         },
         "title": {
          "text": ""
         }
        }
       }
      }
     },
     "metadata": {}
    }
   ],
   "source": [
    "ranking_plots[0].show()"
   ]
  },
  {
   "cell_type": "markdown",
   "metadata": {},
   "source": [
    "### Ethnicity Rankings"
   ]
  },
  {
   "cell_type": "code",
   "execution_count": 74,
   "metadata": {},
   "outputs": [
    {
     "output_type": "execute_result",
     "data": {
      "text/plain": "                                  WEAT  WEAT EZ  RND  RNSB\nmodel_name                                                \nconceptnet-numberbatch-17-06-300     1        2    1     1\nfasttext-wiki-news-subwords-300      2        1    2     2\nword2vec-google-news-300             3        3    3     3\nglove-wiki-gigaword-300              6        7    8     7\nglove-wiki-gigaword-200              7        6    7     6\nglove-wiki-gigaword-100              8        8    6     8\nglove-twitter-100                    5        5    5     4\nglove-twitter-200                    4        4    4     5",
      "text/html": "<div>\n<style scoped>\n    .dataframe tbody tr th:only-of-type {\n        vertical-align: middle;\n    }\n\n    .dataframe tbody tr th {\n        vertical-align: top;\n    }\n\n    .dataframe thead th {\n        text-align: right;\n    }\n</style>\n<table border=\"1\" class=\"dataframe\">\n  <thead>\n    <tr style=\"text-align: right;\">\n      <th></th>\n      <th>WEAT</th>\n      <th>WEAT EZ</th>\n      <th>RND</th>\n      <th>RNSB</th>\n    </tr>\n    <tr>\n      <th>model_name</th>\n      <th></th>\n      <th></th>\n      <th></th>\n      <th></th>\n    </tr>\n  </thead>\n  <tbody>\n    <tr>\n      <th>conceptnet-numberbatch-17-06-300</th>\n      <td>1</td>\n      <td>2</td>\n      <td>1</td>\n      <td>1</td>\n    </tr>\n    <tr>\n      <th>fasttext-wiki-news-subwords-300</th>\n      <td>2</td>\n      <td>1</td>\n      <td>2</td>\n      <td>2</td>\n    </tr>\n    <tr>\n      <th>word2vec-google-news-300</th>\n      <td>3</td>\n      <td>3</td>\n      <td>3</td>\n      <td>3</td>\n    </tr>\n    <tr>\n      <th>glove-wiki-gigaword-300</th>\n      <td>6</td>\n      <td>7</td>\n      <td>8</td>\n      <td>7</td>\n    </tr>\n    <tr>\n      <th>glove-wiki-gigaword-200</th>\n      <td>7</td>\n      <td>6</td>\n      <td>7</td>\n      <td>6</td>\n    </tr>\n    <tr>\n      <th>glove-wiki-gigaword-100</th>\n      <td>8</td>\n      <td>8</td>\n      <td>6</td>\n      <td>8</td>\n    </tr>\n    <tr>\n      <th>glove-twitter-100</th>\n      <td>5</td>\n      <td>5</td>\n      <td>5</td>\n      <td>4</td>\n    </tr>\n    <tr>\n      <th>glove-twitter-200</th>\n      <td>4</td>\n      <td>4</td>\n      <td>4</td>\n      <td>5</td>\n    </tr>\n  </tbody>\n</table>\n</div>"
     },
     "metadata": {},
     "execution_count": 74
    }
   ],
   "source": [
    "rankings[1]"
   ]
  },
  {
   "cell_type": "code",
   "execution_count": 81,
   "metadata": {},
   "outputs": [
    {
     "output_type": "display_data",
     "data": {
      "application/vnd.plotly.v1+json": {
       "config": {
        "plotlyServerURL": "https://plot.ly"
       },
       "data": [
        {
         "alignmentgroup": "True",
         "hoverlabel": {
          "namelength": 0
         },
         "hovertemplate": "Metric=WEAT<br>Ranking=%{x}<br>Embedding model=%{y}",
         "legendgroup": "Metric=WEAT",
         "marker": {
          "color": "#636efa"
         },
         "name": "WEAT",
         "offsetgroup": "Metric=WEAT",
         "orientation": "h",
         "showlegend": true,
         "textposition": "auto",
         "type": "bar",
         "x": [
          1,
          2,
          3,
          6,
          7,
          8,
          5,
          4
         ],
         "xaxis": "x",
         "y": [
          "conceptnet-numberbatch-17-06-300",
          "fasttext-wiki-news-subwords-300",
          "word2vec-google-news-300",
          "glove-wiki-gigaword-300",
          "glove-wiki-gigaword-200",
          "glove-wiki-gigaword-100",
          "glove-twitter-100",
          "glove-twitter-200"
         ],
         "yaxis": "y"
        },
        {
         "alignmentgroup": "True",
         "hoverlabel": {
          "namelength": 0
         },
         "hovertemplate": "Metric=WEAT EZ<br>Ranking=%{x}<br>Embedding model=%{y}",
         "legendgroup": "Metric=WEAT EZ",
         "marker": {
          "color": "#EF553B"
         },
         "name": "WEAT EZ",
         "offsetgroup": "Metric=WEAT EZ",
         "orientation": "h",
         "showlegend": true,
         "textposition": "auto",
         "type": "bar",
         "x": [
          2,
          1,
          3,
          7,
          6,
          8,
          5,
          4
         ],
         "xaxis": "x",
         "y": [
          "conceptnet-numberbatch-17-06-300",
          "fasttext-wiki-news-subwords-300",
          "word2vec-google-news-300",
          "glove-wiki-gigaword-300",
          "glove-wiki-gigaword-200",
          "glove-wiki-gigaword-100",
          "glove-twitter-100",
          "glove-twitter-200"
         ],
         "yaxis": "y"
        },
        {
         "alignmentgroup": "True",
         "hoverlabel": {
          "namelength": 0
         },
         "hovertemplate": "Metric=RND<br>Ranking=%{x}<br>Embedding model=%{y}",
         "legendgroup": "Metric=RND",
         "marker": {
          "color": "#00cc96"
         },
         "name": "RND",
         "offsetgroup": "Metric=RND",
         "orientation": "h",
         "showlegend": true,
         "textposition": "auto",
         "type": "bar",
         "x": [
          1,
          2,
          3,
          8,
          7,
          6,
          5,
          4
         ],
         "xaxis": "x",
         "y": [
          "conceptnet-numberbatch-17-06-300",
          "fasttext-wiki-news-subwords-300",
          "word2vec-google-news-300",
          "glove-wiki-gigaword-300",
          "glove-wiki-gigaword-200",
          "glove-wiki-gigaword-100",
          "glove-twitter-100",
          "glove-twitter-200"
         ],
         "yaxis": "y"
        },
        {
         "alignmentgroup": "True",
         "hoverlabel": {
          "namelength": 0
         },
         "hovertemplate": "Metric=RNSB<br>Ranking=%{x}<br>Embedding model=%{y}",
         "legendgroup": "Metric=RNSB",
         "marker": {
          "color": "#ab63fa"
         },
         "name": "RNSB",
         "offsetgroup": "Metric=RNSB",
         "orientation": "h",
         "showlegend": true,
         "textposition": "auto",
         "type": "bar",
         "x": [
          1,
          2,
          3,
          7,
          6,
          8,
          4,
          5
         ],
         "xaxis": "x",
         "y": [
          "conceptnet-numberbatch-17-06-300",
          "fasttext-wiki-news-subwords-300",
          "word2vec-google-news-300",
          "glove-wiki-gigaword-300",
          "glove-wiki-gigaword-200",
          "glove-wiki-gigaword-100",
          "glove-twitter-100",
          "glove-twitter-200"
         ],
         "yaxis": "y"
        }
       ],
       "layout": {
        "barmode": "stack",
        "legend": {
         "tracegroupgap": 0
        },
        "margin": {
         "t": 60
        },
        "showlegend": false,
        "template": {
         "data": {
          "bar": [
           {
            "error_x": {
             "color": "#2a3f5f"
            },
            "error_y": {
             "color": "#2a3f5f"
            },
            "marker": {
             "line": {
              "color": "#E5ECF6",
              "width": 0.5
             }
            },
            "type": "bar"
           }
          ],
          "barpolar": [
           {
            "marker": {
             "line": {
              "color": "#E5ECF6",
              "width": 0.5
             }
            },
            "type": "barpolar"
           }
          ],
          "carpet": [
           {
            "aaxis": {
             "endlinecolor": "#2a3f5f",
             "gridcolor": "white",
             "linecolor": "white",
             "minorgridcolor": "white",
             "startlinecolor": "#2a3f5f"
            },
            "baxis": {
             "endlinecolor": "#2a3f5f",
             "gridcolor": "white",
             "linecolor": "white",
             "minorgridcolor": "white",
             "startlinecolor": "#2a3f5f"
            },
            "type": "carpet"
           }
          ],
          "choropleth": [
           {
            "colorbar": {
             "outlinewidth": 0,
             "ticks": ""
            },
            "type": "choropleth"
           }
          ],
          "contour": [
           {
            "colorbar": {
             "outlinewidth": 0,
             "ticks": ""
            },
            "colorscale": [
             [
              0,
              "#0d0887"
             ],
             [
              0.1111111111111111,
              "#46039f"
             ],
             [
              0.2222222222222222,
              "#7201a8"
             ],
             [
              0.3333333333333333,
              "#9c179e"
             ],
             [
              0.4444444444444444,
              "#bd3786"
             ],
             [
              0.5555555555555556,
              "#d8576b"
             ],
             [
              0.6666666666666666,
              "#ed7953"
             ],
             [
              0.7777777777777778,
              "#fb9f3a"
             ],
             [
              0.8888888888888888,
              "#fdca26"
             ],
             [
              1,
              "#f0f921"
             ]
            ],
            "type": "contour"
           }
          ],
          "contourcarpet": [
           {
            "colorbar": {
             "outlinewidth": 0,
             "ticks": ""
            },
            "type": "contourcarpet"
           }
          ],
          "heatmap": [
           {
            "colorbar": {
             "outlinewidth": 0,
             "ticks": ""
            },
            "colorscale": [
             [
              0,
              "#0d0887"
             ],
             [
              0.1111111111111111,
              "#46039f"
             ],
             [
              0.2222222222222222,
              "#7201a8"
             ],
             [
              0.3333333333333333,
              "#9c179e"
             ],
             [
              0.4444444444444444,
              "#bd3786"
             ],
             [
              0.5555555555555556,
              "#d8576b"
             ],
             [
              0.6666666666666666,
              "#ed7953"
             ],
             [
              0.7777777777777778,
              "#fb9f3a"
             ],
             [
              0.8888888888888888,
              "#fdca26"
             ],
             [
              1,
              "#f0f921"
             ]
            ],
            "type": "heatmap"
           }
          ],
          "heatmapgl": [
           {
            "colorbar": {
             "outlinewidth": 0,
             "ticks": ""
            },
            "colorscale": [
             [
              0,
              "#0d0887"
             ],
             [
              0.1111111111111111,
              "#46039f"
             ],
             [
              0.2222222222222222,
              "#7201a8"
             ],
             [
              0.3333333333333333,
              "#9c179e"
             ],
             [
              0.4444444444444444,
              "#bd3786"
             ],
             [
              0.5555555555555556,
              "#d8576b"
             ],
             [
              0.6666666666666666,
              "#ed7953"
             ],
             [
              0.7777777777777778,
              "#fb9f3a"
             ],
             [
              0.8888888888888888,
              "#fdca26"
             ],
             [
              1,
              "#f0f921"
             ]
            ],
            "type": "heatmapgl"
           }
          ],
          "histogram": [
           {
            "marker": {
             "colorbar": {
              "outlinewidth": 0,
              "ticks": ""
             }
            },
            "type": "histogram"
           }
          ],
          "histogram2d": [
           {
            "colorbar": {
             "outlinewidth": 0,
             "ticks": ""
            },
            "colorscale": [
             [
              0,
              "#0d0887"
             ],
             [
              0.1111111111111111,
              "#46039f"
             ],
             [
              0.2222222222222222,
              "#7201a8"
             ],
             [
              0.3333333333333333,
              "#9c179e"
             ],
             [
              0.4444444444444444,
              "#bd3786"
             ],
             [
              0.5555555555555556,
              "#d8576b"
             ],
             [
              0.6666666666666666,
              "#ed7953"
             ],
             [
              0.7777777777777778,
              "#fb9f3a"
             ],
             [
              0.8888888888888888,
              "#fdca26"
             ],
             [
              1,
              "#f0f921"
             ]
            ],
            "type": "histogram2d"
           }
          ],
          "histogram2dcontour": [
           {
            "colorbar": {
             "outlinewidth": 0,
             "ticks": ""
            },
            "colorscale": [
             [
              0,
              "#0d0887"
             ],
             [
              0.1111111111111111,
              "#46039f"
             ],
             [
              0.2222222222222222,
              "#7201a8"
             ],
             [
              0.3333333333333333,
              "#9c179e"
             ],
             [
              0.4444444444444444,
              "#bd3786"
             ],
             [
              0.5555555555555556,
              "#d8576b"
             ],
             [
              0.6666666666666666,
              "#ed7953"
             ],
             [
              0.7777777777777778,
              "#fb9f3a"
             ],
             [
              0.8888888888888888,
              "#fdca26"
             ],
             [
              1,
              "#f0f921"
             ]
            ],
            "type": "histogram2dcontour"
           }
          ],
          "mesh3d": [
           {
            "colorbar": {
             "outlinewidth": 0,
             "ticks": ""
            },
            "type": "mesh3d"
           }
          ],
          "parcoords": [
           {
            "line": {
             "colorbar": {
              "outlinewidth": 0,
              "ticks": ""
             }
            },
            "type": "parcoords"
           }
          ],
          "pie": [
           {
            "automargin": true,
            "type": "pie"
           }
          ],
          "scatter": [
           {
            "marker": {
             "colorbar": {
              "outlinewidth": 0,
              "ticks": ""
             }
            },
            "type": "scatter"
           }
          ],
          "scatter3d": [
           {
            "line": {
             "colorbar": {
              "outlinewidth": 0,
              "ticks": ""
             }
            },
            "marker": {
             "colorbar": {
              "outlinewidth": 0,
              "ticks": ""
             }
            },
            "type": "scatter3d"
           }
          ],
          "scattercarpet": [
           {
            "marker": {
             "colorbar": {
              "outlinewidth": 0,
              "ticks": ""
             }
            },
            "type": "scattercarpet"
           }
          ],
          "scattergeo": [
           {
            "marker": {
             "colorbar": {
              "outlinewidth": 0,
              "ticks": ""
             }
            },
            "type": "scattergeo"
           }
          ],
          "scattergl": [
           {
            "marker": {
             "colorbar": {
              "outlinewidth": 0,
              "ticks": ""
             }
            },
            "type": "scattergl"
           }
          ],
          "scattermapbox": [
           {
            "marker": {
             "colorbar": {
              "outlinewidth": 0,
              "ticks": ""
             }
            },
            "type": "scattermapbox"
           }
          ],
          "scatterpolar": [
           {
            "marker": {
             "colorbar": {
              "outlinewidth": 0,
              "ticks": ""
             }
            },
            "type": "scatterpolar"
           }
          ],
          "scatterpolargl": [
           {
            "marker": {
             "colorbar": {
              "outlinewidth": 0,
              "ticks": ""
             }
            },
            "type": "scatterpolargl"
           }
          ],
          "scatterternary": [
           {
            "marker": {
             "colorbar": {
              "outlinewidth": 0,
              "ticks": ""
             }
            },
            "type": "scatterternary"
           }
          ],
          "surface": [
           {
            "colorbar": {
             "outlinewidth": 0,
             "ticks": ""
            },
            "colorscale": [
             [
              0,
              "#0d0887"
             ],
             [
              0.1111111111111111,
              "#46039f"
             ],
             [
              0.2222222222222222,
              "#7201a8"
             ],
             [
              0.3333333333333333,
              "#9c179e"
             ],
             [
              0.4444444444444444,
              "#bd3786"
             ],
             [
              0.5555555555555556,
              "#d8576b"
             ],
             [
              0.6666666666666666,
              "#ed7953"
             ],
             [
              0.7777777777777778,
              "#fb9f3a"
             ],
             [
              0.8888888888888888,
              "#fdca26"
             ],
             [
              1,
              "#f0f921"
             ]
            ],
            "type": "surface"
           }
          ],
          "table": [
           {
            "cells": {
             "fill": {
              "color": "#EBF0F8"
             },
             "line": {
              "color": "white"
             }
            },
            "header": {
             "fill": {
              "color": "#C8D4E3"
             },
             "line": {
              "color": "white"
             }
            },
            "type": "table"
           }
          ]
         },
         "layout": {
          "annotationdefaults": {
           "arrowcolor": "#2a3f5f",
           "arrowhead": 0,
           "arrowwidth": 1
          },
          "coloraxis": {
           "colorbar": {
            "outlinewidth": 0,
            "ticks": ""
           }
          },
          "colorscale": {
           "diverging": [
            [
             0,
             "#8e0152"
            ],
            [
             0.1,
             "#c51b7d"
            ],
            [
             0.2,
             "#de77ae"
            ],
            [
             0.3,
             "#f1b6da"
            ],
            [
             0.4,
             "#fde0ef"
            ],
            [
             0.5,
             "#f7f7f7"
            ],
            [
             0.6,
             "#e6f5d0"
            ],
            [
             0.7,
             "#b8e186"
            ],
            [
             0.8,
             "#7fbc41"
            ],
            [
             0.9,
             "#4d9221"
            ],
            [
             1,
             "#276419"
            ]
           ],
           "sequential": [
            [
             0,
             "#0d0887"
            ],
            [
             0.1111111111111111,
             "#46039f"
            ],
            [
             0.2222222222222222,
             "#7201a8"
            ],
            [
             0.3333333333333333,
             "#9c179e"
            ],
            [
             0.4444444444444444,
             "#bd3786"
            ],
            [
             0.5555555555555556,
             "#d8576b"
            ],
            [
             0.6666666666666666,
             "#ed7953"
            ],
            [
             0.7777777777777778,
             "#fb9f3a"
            ],
            [
             0.8888888888888888,
             "#fdca26"
            ],
            [
             1,
             "#f0f921"
            ]
           ],
           "sequentialminus": [
            [
             0,
             "#0d0887"
            ],
            [
             0.1111111111111111,
             "#46039f"
            ],
            [
             0.2222222222222222,
             "#7201a8"
            ],
            [
             0.3333333333333333,
             "#9c179e"
            ],
            [
             0.4444444444444444,
             "#bd3786"
            ],
            [
             0.5555555555555556,
             "#d8576b"
            ],
            [
             0.6666666666666666,
             "#ed7953"
            ],
            [
             0.7777777777777778,
             "#fb9f3a"
            ],
            [
             0.8888888888888888,
             "#fdca26"
            ],
            [
             1,
             "#f0f921"
            ]
           ]
          },
          "colorway": [
           "#636efa",
           "#EF553B",
           "#00cc96",
           "#ab63fa",
           "#FFA15A",
           "#19d3f3",
           "#FF6692",
           "#B6E880",
           "#FF97FF",
           "#FECB52"
          ],
          "font": {
           "color": "#2a3f5f"
          },
          "geo": {
           "bgcolor": "white",
           "lakecolor": "white",
           "landcolor": "#E5ECF6",
           "showlakes": true,
           "showland": true,
           "subunitcolor": "white"
          },
          "hoverlabel": {
           "align": "left"
          },
          "hovermode": "closest",
          "mapbox": {
           "style": "light"
          },
          "paper_bgcolor": "white",
          "plot_bgcolor": "#E5ECF6",
          "polar": {
           "angularaxis": {
            "gridcolor": "white",
            "linecolor": "white",
            "ticks": ""
           },
           "bgcolor": "#E5ECF6",
           "radialaxis": {
            "gridcolor": "white",
            "linecolor": "white",
            "ticks": ""
           }
          },
          "scene": {
           "xaxis": {
            "backgroundcolor": "#E5ECF6",
            "gridcolor": "white",
            "gridwidth": 2,
            "linecolor": "white",
            "showbackground": true,
            "ticks": "",
            "zerolinecolor": "white"
           },
           "yaxis": {
            "backgroundcolor": "#E5ECF6",
            "gridcolor": "white",
            "gridwidth": 2,
            "linecolor": "white",
            "showbackground": true,
            "ticks": "",
            "zerolinecolor": "white"
           },
           "zaxis": {
            "backgroundcolor": "#E5ECF6",
            "gridcolor": "white",
            "gridwidth": 2,
            "linecolor": "white",
            "showbackground": true,
            "ticks": "",
            "zerolinecolor": "white"
           }
          },
          "shapedefaults": {
           "line": {
            "color": "#2a3f5f"
           }
          },
          "ternary": {
           "aaxis": {
            "gridcolor": "white",
            "linecolor": "white",
            "ticks": ""
           },
           "baxis": {
            "gridcolor": "white",
            "linecolor": "white",
            "ticks": ""
           },
           "bgcolor": "#E5ECF6",
           "caxis": {
            "gridcolor": "white",
            "linecolor": "white",
            "ticks": ""
           }
          },
          "title": {
           "x": 0.05
          },
          "xaxis": {
           "automargin": true,
           "gridcolor": "white",
           "linecolor": "white",
           "ticks": "",
           "title": {
            "standoff": 15
           },
           "zerolinecolor": "white",
           "zerolinewidth": 2
          },
          "yaxis": {
           "automargin": true,
           "gridcolor": "white",
           "linecolor": "white",
           "ticks": "",
           "title": {
            "standoff": 15
           },
           "zerolinecolor": "white",
           "zerolinewidth": 2
          }
         }
        },
        "width": 1200,
        "xaxis": {
         "anchor": "y",
         "domain": [
          0,
          1
         ],
         "title": {
          "text": "Ranking"
         }
        },
        "yaxis": {
         "anchor": "x",
         "categoryorder": "total ascending",
         "domain": [
          0,
          1
         ],
         "tickfont": {
          "size": 10
         },
         "title": {
          "text": ""
         }
        }
       }
      }
     },
     "metadata": {}
    }
   ],
   "source": [
    "ranking_plots[1].show()"
   ]
  },
  {
   "cell_type": "markdown",
   "metadata": {},
   "source": [
    "### Religion Rankings"
   ]
  },
  {
   "cell_type": "code",
   "execution_count": 75,
   "metadata": {},
   "outputs": [
    {
     "output_type": "execute_result",
     "data": {
      "text/plain": "                                  WEAT  WEAT EZ  RND  RNSB\nmodel_name                                                \nconceptnet-numberbatch-17-06-300     1        4    1     1\nfasttext-wiki-news-subwords-300      3        3    2     2\nword2vec-google-news-300             4        5    3     3\nglove-wiki-gigaword-300              6        7    5     7\nglove-wiki-gigaword-200              8        8    6     8\nglove-wiki-gigaword-100              7        6    4     6\nglove-twitter-100                    5        1    8     4\nglove-twitter-200                    2        2    7     5",
      "text/html": "<div>\n<style scoped>\n    .dataframe tbody tr th:only-of-type {\n        vertical-align: middle;\n    }\n\n    .dataframe tbody tr th {\n        vertical-align: top;\n    }\n\n    .dataframe thead th {\n        text-align: right;\n    }\n</style>\n<table border=\"1\" class=\"dataframe\">\n  <thead>\n    <tr style=\"text-align: right;\">\n      <th></th>\n      <th>WEAT</th>\n      <th>WEAT EZ</th>\n      <th>RND</th>\n      <th>RNSB</th>\n    </tr>\n    <tr>\n      <th>model_name</th>\n      <th></th>\n      <th></th>\n      <th></th>\n      <th></th>\n    </tr>\n  </thead>\n  <tbody>\n    <tr>\n      <th>conceptnet-numberbatch-17-06-300</th>\n      <td>1</td>\n      <td>4</td>\n      <td>1</td>\n      <td>1</td>\n    </tr>\n    <tr>\n      <th>fasttext-wiki-news-subwords-300</th>\n      <td>3</td>\n      <td>3</td>\n      <td>2</td>\n      <td>2</td>\n    </tr>\n    <tr>\n      <th>word2vec-google-news-300</th>\n      <td>4</td>\n      <td>5</td>\n      <td>3</td>\n      <td>3</td>\n    </tr>\n    <tr>\n      <th>glove-wiki-gigaword-300</th>\n      <td>6</td>\n      <td>7</td>\n      <td>5</td>\n      <td>7</td>\n    </tr>\n    <tr>\n      <th>glove-wiki-gigaword-200</th>\n      <td>8</td>\n      <td>8</td>\n      <td>6</td>\n      <td>8</td>\n    </tr>\n    <tr>\n      <th>glove-wiki-gigaword-100</th>\n      <td>7</td>\n      <td>6</td>\n      <td>4</td>\n      <td>6</td>\n    </tr>\n    <tr>\n      <th>glove-twitter-100</th>\n      <td>5</td>\n      <td>1</td>\n      <td>8</td>\n      <td>4</td>\n    </tr>\n    <tr>\n      <th>glove-twitter-200</th>\n      <td>2</td>\n      <td>2</td>\n      <td>7</td>\n      <td>5</td>\n    </tr>\n  </tbody>\n</table>\n</div>"
     },
     "metadata": {},
     "execution_count": 75
    }
   ],
   "source": [
    "rankings[2]"
   ]
  },
  {
   "cell_type": "code",
   "execution_count": 82,
   "metadata": {},
   "outputs": [
    {
     "output_type": "display_data",
     "data": {
      "application/vnd.plotly.v1+json": {
       "config": {
        "plotlyServerURL": "https://plot.ly"
       },
       "data": [
        {
         "alignmentgroup": "True",
         "hoverlabel": {
          "namelength": 0
         },
         "hovertemplate": "Metric=WEAT<br>Ranking=%{x}<br>Embedding model=%{y}",
         "legendgroup": "Metric=WEAT",
         "marker": {
          "color": "#636efa"
         },
         "name": "WEAT",
         "offsetgroup": "Metric=WEAT",
         "orientation": "h",
         "showlegend": true,
         "textposition": "auto",
         "type": "bar",
         "x": [
          1,
          3,
          4,
          6,
          8,
          7,
          5,
          2
         ],
         "xaxis": "x",
         "y": [
          "conceptnet-numberbatch-17-06-300",
          "fasttext-wiki-news-subwords-300",
          "word2vec-google-news-300",
          "glove-wiki-gigaword-300",
          "glove-wiki-gigaword-200",
          "glove-wiki-gigaword-100",
          "glove-twitter-100",
          "glove-twitter-200"
         ],
         "yaxis": "y"
        },
        {
         "alignmentgroup": "True",
         "hoverlabel": {
          "namelength": 0
         },
         "hovertemplate": "Metric=WEAT EZ<br>Ranking=%{x}<br>Embedding model=%{y}",
         "legendgroup": "Metric=WEAT EZ",
         "marker": {
          "color": "#EF553B"
         },
         "name": "WEAT EZ",
         "offsetgroup": "Metric=WEAT EZ",
         "orientation": "h",
         "showlegend": true,
         "textposition": "auto",
         "type": "bar",
         "x": [
          4,
          3,
          5,
          7,
          8,
          6,
          1,
          2
         ],
         "xaxis": "x",
         "y": [
          "conceptnet-numberbatch-17-06-300",
          "fasttext-wiki-news-subwords-300",
          "word2vec-google-news-300",
          "glove-wiki-gigaword-300",
          "glove-wiki-gigaword-200",
          "glove-wiki-gigaword-100",
          "glove-twitter-100",
          "glove-twitter-200"
         ],
         "yaxis": "y"
        },
        {
         "alignmentgroup": "True",
         "hoverlabel": {
          "namelength": 0
         },
         "hovertemplate": "Metric=RND<br>Ranking=%{x}<br>Embedding model=%{y}",
         "legendgroup": "Metric=RND",
         "marker": {
          "color": "#00cc96"
         },
         "name": "RND",
         "offsetgroup": "Metric=RND",
         "orientation": "h",
         "showlegend": true,
         "textposition": "auto",
         "type": "bar",
         "x": [
          1,
          2,
          3,
          5,
          6,
          4,
          8,
          7
         ],
         "xaxis": "x",
         "y": [
          "conceptnet-numberbatch-17-06-300",
          "fasttext-wiki-news-subwords-300",
          "word2vec-google-news-300",
          "glove-wiki-gigaword-300",
          "glove-wiki-gigaword-200",
          "glove-wiki-gigaword-100",
          "glove-twitter-100",
          "glove-twitter-200"
         ],
         "yaxis": "y"
        },
        {
         "alignmentgroup": "True",
         "hoverlabel": {
          "namelength": 0
         },
         "hovertemplate": "Metric=RNSB<br>Ranking=%{x}<br>Embedding model=%{y}",
         "legendgroup": "Metric=RNSB",
         "marker": {
          "color": "#ab63fa"
         },
         "name": "RNSB",
         "offsetgroup": "Metric=RNSB",
         "orientation": "h",
         "showlegend": true,
         "textposition": "auto",
         "type": "bar",
         "x": [
          1,
          2,
          3,
          7,
          8,
          6,
          4,
          5
         ],
         "xaxis": "x",
         "y": [
          "conceptnet-numberbatch-17-06-300",
          "fasttext-wiki-news-subwords-300",
          "word2vec-google-news-300",
          "glove-wiki-gigaword-300",
          "glove-wiki-gigaword-200",
          "glove-wiki-gigaword-100",
          "glove-twitter-100",
          "glove-twitter-200"
         ],
         "yaxis": "y"
        }
       ],
       "layout": {
        "barmode": "stack",
        "legend": {
         "tracegroupgap": 0
        },
        "margin": {
         "t": 60
        },
        "showlegend": false,
        "template": {
         "data": {
          "bar": [
           {
            "error_x": {
             "color": "#2a3f5f"
            },
            "error_y": {
             "color": "#2a3f5f"
            },
            "marker": {
             "line": {
              "color": "#E5ECF6",
              "width": 0.5
             }
            },
            "type": "bar"
           }
          ],
          "barpolar": [
           {
            "marker": {
             "line": {
              "color": "#E5ECF6",
              "width": 0.5
             }
            },
            "type": "barpolar"
           }
          ],
          "carpet": [
           {
            "aaxis": {
             "endlinecolor": "#2a3f5f",
             "gridcolor": "white",
             "linecolor": "white",
             "minorgridcolor": "white",
             "startlinecolor": "#2a3f5f"
            },
            "baxis": {
             "endlinecolor": "#2a3f5f",
             "gridcolor": "white",
             "linecolor": "white",
             "minorgridcolor": "white",
             "startlinecolor": "#2a3f5f"
            },
            "type": "carpet"
           }
          ],
          "choropleth": [
           {
            "colorbar": {
             "outlinewidth": 0,
             "ticks": ""
            },
            "type": "choropleth"
           }
          ],
          "contour": [
           {
            "colorbar": {
             "outlinewidth": 0,
             "ticks": ""
            },
            "colorscale": [
             [
              0,
              "#0d0887"
             ],
             [
              0.1111111111111111,
              "#46039f"
             ],
             [
              0.2222222222222222,
              "#7201a8"
             ],
             [
              0.3333333333333333,
              "#9c179e"
             ],
             [
              0.4444444444444444,
              "#bd3786"
             ],
             [
              0.5555555555555556,
              "#d8576b"
             ],
             [
              0.6666666666666666,
              "#ed7953"
             ],
             [
              0.7777777777777778,
              "#fb9f3a"
             ],
             [
              0.8888888888888888,
              "#fdca26"
             ],
             [
              1,
              "#f0f921"
             ]
            ],
            "type": "contour"
           }
          ],
          "contourcarpet": [
           {
            "colorbar": {
             "outlinewidth": 0,
             "ticks": ""
            },
            "type": "contourcarpet"
           }
          ],
          "heatmap": [
           {
            "colorbar": {
             "outlinewidth": 0,
             "ticks": ""
            },
            "colorscale": [
             [
              0,
              "#0d0887"
             ],
             [
              0.1111111111111111,
              "#46039f"
             ],
             [
              0.2222222222222222,
              "#7201a8"
             ],
             [
              0.3333333333333333,
              "#9c179e"
             ],
             [
              0.4444444444444444,
              "#bd3786"
             ],
             [
              0.5555555555555556,
              "#d8576b"
             ],
             [
              0.6666666666666666,
              "#ed7953"
             ],
             [
              0.7777777777777778,
              "#fb9f3a"
             ],
             [
              0.8888888888888888,
              "#fdca26"
             ],
             [
              1,
              "#f0f921"
             ]
            ],
            "type": "heatmap"
           }
          ],
          "heatmapgl": [
           {
            "colorbar": {
             "outlinewidth": 0,
             "ticks": ""
            },
            "colorscale": [
             [
              0,
              "#0d0887"
             ],
             [
              0.1111111111111111,
              "#46039f"
             ],
             [
              0.2222222222222222,
              "#7201a8"
             ],
             [
              0.3333333333333333,
              "#9c179e"
             ],
             [
              0.4444444444444444,
              "#bd3786"
             ],
             [
              0.5555555555555556,
              "#d8576b"
             ],
             [
              0.6666666666666666,
              "#ed7953"
             ],
             [
              0.7777777777777778,
              "#fb9f3a"
             ],
             [
              0.8888888888888888,
              "#fdca26"
             ],
             [
              1,
              "#f0f921"
             ]
            ],
            "type": "heatmapgl"
           }
          ],
          "histogram": [
           {
            "marker": {
             "colorbar": {
              "outlinewidth": 0,
              "ticks": ""
             }
            },
            "type": "histogram"
           }
          ],
          "histogram2d": [
           {
            "colorbar": {
             "outlinewidth": 0,
             "ticks": ""
            },
            "colorscale": [
             [
              0,
              "#0d0887"
             ],
             [
              0.1111111111111111,
              "#46039f"
             ],
             [
              0.2222222222222222,
              "#7201a8"
             ],
             [
              0.3333333333333333,
              "#9c179e"
             ],
             [
              0.4444444444444444,
              "#bd3786"
             ],
             [
              0.5555555555555556,
              "#d8576b"
             ],
             [
              0.6666666666666666,
              "#ed7953"
             ],
             [
              0.7777777777777778,
              "#fb9f3a"
             ],
             [
              0.8888888888888888,
              "#fdca26"
             ],
             [
              1,
              "#f0f921"
             ]
            ],
            "type": "histogram2d"
           }
          ],
          "histogram2dcontour": [
           {
            "colorbar": {
             "outlinewidth": 0,
             "ticks": ""
            },
            "colorscale": [
             [
              0,
              "#0d0887"
             ],
             [
              0.1111111111111111,
              "#46039f"
             ],
             [
              0.2222222222222222,
              "#7201a8"
             ],
             [
              0.3333333333333333,
              "#9c179e"
             ],
             [
              0.4444444444444444,
              "#bd3786"
             ],
             [
              0.5555555555555556,
              "#d8576b"
             ],
             [
              0.6666666666666666,
              "#ed7953"
             ],
             [
              0.7777777777777778,
              "#fb9f3a"
             ],
             [
              0.8888888888888888,
              "#fdca26"
             ],
             [
              1,
              "#f0f921"
             ]
            ],
            "type": "histogram2dcontour"
           }
          ],
          "mesh3d": [
           {
            "colorbar": {
             "outlinewidth": 0,
             "ticks": ""
            },
            "type": "mesh3d"
           }
          ],
          "parcoords": [
           {
            "line": {
             "colorbar": {
              "outlinewidth": 0,
              "ticks": ""
             }
            },
            "type": "parcoords"
           }
          ],
          "pie": [
           {
            "automargin": true,
            "type": "pie"
           }
          ],
          "scatter": [
           {
            "marker": {
             "colorbar": {
              "outlinewidth": 0,
              "ticks": ""
             }
            },
            "type": "scatter"
           }
          ],
          "scatter3d": [
           {
            "line": {
             "colorbar": {
              "outlinewidth": 0,
              "ticks": ""
             }
            },
            "marker": {
             "colorbar": {
              "outlinewidth": 0,
              "ticks": ""
             }
            },
            "type": "scatter3d"
           }
          ],
          "scattercarpet": [
           {
            "marker": {
             "colorbar": {
              "outlinewidth": 0,
              "ticks": ""
             }
            },
            "type": "scattercarpet"
           }
          ],
          "scattergeo": [
           {
            "marker": {
             "colorbar": {
              "outlinewidth": 0,
              "ticks": ""
             }
            },
            "type": "scattergeo"
           }
          ],
          "scattergl": [
           {
            "marker": {
             "colorbar": {
              "outlinewidth": 0,
              "ticks": ""
             }
            },
            "type": "scattergl"
           }
          ],
          "scattermapbox": [
           {
            "marker": {
             "colorbar": {
              "outlinewidth": 0,
              "ticks": ""
             }
            },
            "type": "scattermapbox"
           }
          ],
          "scatterpolar": [
           {
            "marker": {
             "colorbar": {
              "outlinewidth": 0,
              "ticks": ""
             }
            },
            "type": "scatterpolar"
           }
          ],
          "scatterpolargl": [
           {
            "marker": {
             "colorbar": {
              "outlinewidth": 0,
              "ticks": ""
             }
            },
            "type": "scatterpolargl"
           }
          ],
          "scatterternary": [
           {
            "marker": {
             "colorbar": {
              "outlinewidth": 0,
              "ticks": ""
             }
            },
            "type": "scatterternary"
           }
          ],
          "surface": [
           {
            "colorbar": {
             "outlinewidth": 0,
             "ticks": ""
            },
            "colorscale": [
             [
              0,
              "#0d0887"
             ],
             [
              0.1111111111111111,
              "#46039f"
             ],
             [
              0.2222222222222222,
              "#7201a8"
             ],
             [
              0.3333333333333333,
              "#9c179e"
             ],
             [
              0.4444444444444444,
              "#bd3786"
             ],
             [
              0.5555555555555556,
              "#d8576b"
             ],
             [
              0.6666666666666666,
              "#ed7953"
             ],
             [
              0.7777777777777778,
              "#fb9f3a"
             ],
             [
              0.8888888888888888,
              "#fdca26"
             ],
             [
              1,
              "#f0f921"
             ]
            ],
            "type": "surface"
           }
          ],
          "table": [
           {
            "cells": {
             "fill": {
              "color": "#EBF0F8"
             },
             "line": {
              "color": "white"
             }
            },
            "header": {
             "fill": {
              "color": "#C8D4E3"
             },
             "line": {
              "color": "white"
             }
            },
            "type": "table"
           }
          ]
         },
         "layout": {
          "annotationdefaults": {
           "arrowcolor": "#2a3f5f",
           "arrowhead": 0,
           "arrowwidth": 1
          },
          "coloraxis": {
           "colorbar": {
            "outlinewidth": 0,
            "ticks": ""
           }
          },
          "colorscale": {
           "diverging": [
            [
             0,
             "#8e0152"
            ],
            [
             0.1,
             "#c51b7d"
            ],
            [
             0.2,
             "#de77ae"
            ],
            [
             0.3,
             "#f1b6da"
            ],
            [
             0.4,
             "#fde0ef"
            ],
            [
             0.5,
             "#f7f7f7"
            ],
            [
             0.6,
             "#e6f5d0"
            ],
            [
             0.7,
             "#b8e186"
            ],
            [
             0.8,
             "#7fbc41"
            ],
            [
             0.9,
             "#4d9221"
            ],
            [
             1,
             "#276419"
            ]
           ],
           "sequential": [
            [
             0,
             "#0d0887"
            ],
            [
             0.1111111111111111,
             "#46039f"
            ],
            [
             0.2222222222222222,
             "#7201a8"
            ],
            [
             0.3333333333333333,
             "#9c179e"
            ],
            [
             0.4444444444444444,
             "#bd3786"
            ],
            [
             0.5555555555555556,
             "#d8576b"
            ],
            [
             0.6666666666666666,
             "#ed7953"
            ],
            [
             0.7777777777777778,
             "#fb9f3a"
            ],
            [
             0.8888888888888888,
             "#fdca26"
            ],
            [
             1,
             "#f0f921"
            ]
           ],
           "sequentialminus": [
            [
             0,
             "#0d0887"
            ],
            [
             0.1111111111111111,
             "#46039f"
            ],
            [
             0.2222222222222222,
             "#7201a8"
            ],
            [
             0.3333333333333333,
             "#9c179e"
            ],
            [
             0.4444444444444444,
             "#bd3786"
            ],
            [
             0.5555555555555556,
             "#d8576b"
            ],
            [
             0.6666666666666666,
             "#ed7953"
            ],
            [
             0.7777777777777778,
             "#fb9f3a"
            ],
            [
             0.8888888888888888,
             "#fdca26"
            ],
            [
             1,
             "#f0f921"
            ]
           ]
          },
          "colorway": [
           "#636efa",
           "#EF553B",
           "#00cc96",
           "#ab63fa",
           "#FFA15A",
           "#19d3f3",
           "#FF6692",
           "#B6E880",
           "#FF97FF",
           "#FECB52"
          ],
          "font": {
           "color": "#2a3f5f"
          },
          "geo": {
           "bgcolor": "white",
           "lakecolor": "white",
           "landcolor": "#E5ECF6",
           "showlakes": true,
           "showland": true,
           "subunitcolor": "white"
          },
          "hoverlabel": {
           "align": "left"
          },
          "hovermode": "closest",
          "mapbox": {
           "style": "light"
          },
          "paper_bgcolor": "white",
          "plot_bgcolor": "#E5ECF6",
          "polar": {
           "angularaxis": {
            "gridcolor": "white",
            "linecolor": "white",
            "ticks": ""
           },
           "bgcolor": "#E5ECF6",
           "radialaxis": {
            "gridcolor": "white",
            "linecolor": "white",
            "ticks": ""
           }
          },
          "scene": {
           "xaxis": {
            "backgroundcolor": "#E5ECF6",
            "gridcolor": "white",
            "gridwidth": 2,
            "linecolor": "white",
            "showbackground": true,
            "ticks": "",
            "zerolinecolor": "white"
           },
           "yaxis": {
            "backgroundcolor": "#E5ECF6",
            "gridcolor": "white",
            "gridwidth": 2,
            "linecolor": "white",
            "showbackground": true,
            "ticks": "",
            "zerolinecolor": "white"
           },
           "zaxis": {
            "backgroundcolor": "#E5ECF6",
            "gridcolor": "white",
            "gridwidth": 2,
            "linecolor": "white",
            "showbackground": true,
            "ticks": "",
            "zerolinecolor": "white"
           }
          },
          "shapedefaults": {
           "line": {
            "color": "#2a3f5f"
           }
          },
          "ternary": {
           "aaxis": {
            "gridcolor": "white",
            "linecolor": "white",
            "ticks": ""
           },
           "baxis": {
            "gridcolor": "white",
            "linecolor": "white",
            "ticks": ""
           },
           "bgcolor": "#E5ECF6",
           "caxis": {
            "gridcolor": "white",
            "linecolor": "white",
            "ticks": ""
           }
          },
          "title": {
           "x": 0.05
          },
          "xaxis": {
           "automargin": true,
           "gridcolor": "white",
           "linecolor": "white",
           "ticks": "",
           "title": {
            "standoff": 15
           },
           "zerolinecolor": "white",
           "zerolinewidth": 2
          },
          "yaxis": {
           "automargin": true,
           "gridcolor": "white",
           "linecolor": "white",
           "ticks": "",
           "title": {
            "standoff": 15
           },
           "zerolinecolor": "white",
           "zerolinewidth": 2
          }
         }
        },
        "width": 1200,
        "xaxis": {
         "anchor": "y",
         "domain": [
          0,
          1
         ],
         "title": {
          "text": "Ranking"
         }
        },
        "yaxis": {
         "anchor": "x",
         "categoryorder": "total ascending",
         "domain": [
          0,
          1
         ],
         "tickfont": {
          "size": 10
         },
         "title": {
          "text": ""
         }
        }
       }
      }
     },
     "metadata": {}
    }
   ],
   "source": [
    "ranking_plots[2].show()"
   ]
  },
  {
   "cell_type": "markdown",
   "metadata": {},
   "source": [
    "### Overall Rankings "
   ]
  },
  {
   "cell_type": "code",
   "execution_count": 76,
   "metadata": {},
   "outputs": [
    {
     "output_type": "execute_result",
     "data": {
      "text/plain": "                                  WEAT  WEAT EZ  RND  RNSB\nmodel_name                                                \nconceptnet-numberbatch-17-06-300     3        7    3     3\nfasttext-wiki-news-subwords-300      8       11    6     6\nword2vec-google-news-300            13       16    9     9\nglove-wiki-gigaword-300             17       19   19    22\nglove-wiki-gigaword-200             23       20   21    21\nglove-wiki-gigaword-100             22       18   17    20\nglove-twitter-100                   14        9   18    12\nglove-twitter-200                    8        8   15    15",
      "text/html": "<div>\n<style scoped>\n    .dataframe tbody tr th:only-of-type {\n        vertical-align: middle;\n    }\n\n    .dataframe tbody tr th {\n        vertical-align: top;\n    }\n\n    .dataframe thead th {\n        text-align: right;\n    }\n</style>\n<table border=\"1\" class=\"dataframe\">\n  <thead>\n    <tr style=\"text-align: right;\">\n      <th></th>\n      <th>WEAT</th>\n      <th>WEAT EZ</th>\n      <th>RND</th>\n      <th>RNSB</th>\n    </tr>\n    <tr>\n      <th>model_name</th>\n      <th></th>\n      <th></th>\n      <th></th>\n      <th></th>\n    </tr>\n  </thead>\n  <tbody>\n    <tr>\n      <th>conceptnet-numberbatch-17-06-300</th>\n      <td>3</td>\n      <td>7</td>\n      <td>3</td>\n      <td>3</td>\n    </tr>\n    <tr>\n      <th>fasttext-wiki-news-subwords-300</th>\n      <td>8</td>\n      <td>11</td>\n      <td>6</td>\n      <td>6</td>\n    </tr>\n    <tr>\n      <th>word2vec-google-news-300</th>\n      <td>13</td>\n      <td>16</td>\n      <td>9</td>\n      <td>9</td>\n    </tr>\n    <tr>\n      <th>glove-wiki-gigaword-300</th>\n      <td>17</td>\n      <td>19</td>\n      <td>19</td>\n      <td>22</td>\n    </tr>\n    <tr>\n      <th>glove-wiki-gigaword-200</th>\n      <td>23</td>\n      <td>20</td>\n      <td>21</td>\n      <td>21</td>\n    </tr>\n    <tr>\n      <th>glove-wiki-gigaword-100</th>\n      <td>22</td>\n      <td>18</td>\n      <td>17</td>\n      <td>20</td>\n    </tr>\n    <tr>\n      <th>glove-twitter-100</th>\n      <td>14</td>\n      <td>9</td>\n      <td>18</td>\n      <td>12</td>\n    </tr>\n    <tr>\n      <th>glove-twitter-200</th>\n      <td>8</td>\n      <td>8</td>\n      <td>15</td>\n      <td>15</td>\n    </tr>\n  </tbody>\n</table>\n</div>"
     },
     "metadata": {},
     "execution_count": 76
    }
   ],
   "source": [
    "rankings[3]"
   ]
  },
  {
   "cell_type": "code",
   "execution_count": 77,
   "metadata": {},
   "outputs": [
    {
     "output_type": "display_data",
     "data": {
      "application/vnd.plotly.v1+json": {
       "config": {
        "plotlyServerURL": "https://plot.ly"
       },
       "data": [
        {
         "alignmentgroup": "True",
         "hoverlabel": {
          "namelength": 0
         },
         "hovertemplate": "Metric=WEAT<br>Ranking=%{x}<br>Embedding model=%{y}",
         "legendgroup": "Metric=WEAT",
         "marker": {
          "color": "#636efa"
         },
         "name": "WEAT",
         "offsetgroup": "Metric=WEAT",
         "orientation": "h",
         "showlegend": true,
         "textposition": "auto",
         "type": "bar",
         "x": [
          3,
          8,
          13,
          17,
          23,
          22,
          14,
          8
         ],
         "xaxis": "x",
         "y": [
          "conceptnet-numberbatch-17-06-300",
          "fasttext-wiki-news-subwords-300",
          "word2vec-google-news-300",
          "glove-wiki-gigaword-300",
          "glove-wiki-gigaword-200",
          "glove-wiki-gigaword-100",
          "glove-twitter-100",
          "glove-twitter-200"
         ],
         "yaxis": "y"
        },
        {
         "alignmentgroup": "True",
         "hoverlabel": {
          "namelength": 0
         },
         "hovertemplate": "Metric=WEAT EZ<br>Ranking=%{x}<br>Embedding model=%{y}",
         "legendgroup": "Metric=WEAT EZ",
         "marker": {
          "color": "#EF553B"
         },
         "name": "WEAT EZ",
         "offsetgroup": "Metric=WEAT EZ",
         "orientation": "h",
         "showlegend": true,
         "textposition": "auto",
         "type": "bar",
         "x": [
          7,
          11,
          16,
          19,
          20,
          18,
          9,
          8
         ],
         "xaxis": "x",
         "y": [
          "conceptnet-numberbatch-17-06-300",
          "fasttext-wiki-news-subwords-300",
          "word2vec-google-news-300",
          "glove-wiki-gigaword-300",
          "glove-wiki-gigaword-200",
          "glove-wiki-gigaword-100",
          "glove-twitter-100",
          "glove-twitter-200"
         ],
         "yaxis": "y"
        },
        {
         "alignmentgroup": "True",
         "hoverlabel": {
          "namelength": 0
         },
         "hovertemplate": "Metric=RND<br>Ranking=%{x}<br>Embedding model=%{y}",
         "legendgroup": "Metric=RND",
         "marker": {
          "color": "#00cc96"
         },
         "name": "RND",
         "offsetgroup": "Metric=RND",
         "orientation": "h",
         "showlegend": true,
         "textposition": "auto",
         "type": "bar",
         "x": [
          3,
          6,
          9,
          19,
          21,
          17,
          18,
          15
         ],
         "xaxis": "x",
         "y": [
          "conceptnet-numberbatch-17-06-300",
          "fasttext-wiki-news-subwords-300",
          "word2vec-google-news-300",
          "glove-wiki-gigaword-300",
          "glove-wiki-gigaword-200",
          "glove-wiki-gigaword-100",
          "glove-twitter-100",
          "glove-twitter-200"
         ],
         "yaxis": "y"
        },
        {
         "alignmentgroup": "True",
         "hoverlabel": {
          "namelength": 0
         },
         "hovertemplate": "Metric=RNSB<br>Ranking=%{x}<br>Embedding model=%{y}",
         "legendgroup": "Metric=RNSB",
         "marker": {
          "color": "#ab63fa"
         },
         "name": "RNSB",
         "offsetgroup": "Metric=RNSB",
         "orientation": "h",
         "showlegend": true,
         "textposition": "auto",
         "type": "bar",
         "x": [
          3,
          6,
          9,
          22,
          21,
          20,
          12,
          15
         ],
         "xaxis": "x",
         "y": [
          "conceptnet-numberbatch-17-06-300",
          "fasttext-wiki-news-subwords-300",
          "word2vec-google-news-300",
          "glove-wiki-gigaword-300",
          "glove-wiki-gigaword-200",
          "glove-wiki-gigaword-100",
          "glove-twitter-100",
          "glove-twitter-200"
         ],
         "yaxis": "y"
        }
       ],
       "layout": {
        "barmode": "stack",
        "legend": {
         "tracegroupgap": 0
        },
        "margin": {
         "t": 60
        },
        "showlegend": false,
        "template": {
         "data": {
          "bar": [
           {
            "error_x": {
             "color": "#2a3f5f"
            },
            "error_y": {
             "color": "#2a3f5f"
            },
            "marker": {
             "line": {
              "color": "#E5ECF6",
              "width": 0.5
             }
            },
            "type": "bar"
           }
          ],
          "barpolar": [
           {
            "marker": {
             "line": {
              "color": "#E5ECF6",
              "width": 0.5
             }
            },
            "type": "barpolar"
           }
          ],
          "carpet": [
           {
            "aaxis": {
             "endlinecolor": "#2a3f5f",
             "gridcolor": "white",
             "linecolor": "white",
             "minorgridcolor": "white",
             "startlinecolor": "#2a3f5f"
            },
            "baxis": {
             "endlinecolor": "#2a3f5f",
             "gridcolor": "white",
             "linecolor": "white",
             "minorgridcolor": "white",
             "startlinecolor": "#2a3f5f"
            },
            "type": "carpet"
           }
          ],
          "choropleth": [
           {
            "colorbar": {
             "outlinewidth": 0,
             "ticks": ""
            },
            "type": "choropleth"
           }
          ],
          "contour": [
           {
            "colorbar": {
             "outlinewidth": 0,
             "ticks": ""
            },
            "colorscale": [
             [
              0,
              "#0d0887"
             ],
             [
              0.1111111111111111,
              "#46039f"
             ],
             [
              0.2222222222222222,
              "#7201a8"
             ],
             [
              0.3333333333333333,
              "#9c179e"
             ],
             [
              0.4444444444444444,
              "#bd3786"
             ],
             [
              0.5555555555555556,
              "#d8576b"
             ],
             [
              0.6666666666666666,
              "#ed7953"
             ],
             [
              0.7777777777777778,
              "#fb9f3a"
             ],
             [
              0.8888888888888888,
              "#fdca26"
             ],
             [
              1,
              "#f0f921"
             ]
            ],
            "type": "contour"
           }
          ],
          "contourcarpet": [
           {
            "colorbar": {
             "outlinewidth": 0,
             "ticks": ""
            },
            "type": "contourcarpet"
           }
          ],
          "heatmap": [
           {
            "colorbar": {
             "outlinewidth": 0,
             "ticks": ""
            },
            "colorscale": [
             [
              0,
              "#0d0887"
             ],
             [
              0.1111111111111111,
              "#46039f"
             ],
             [
              0.2222222222222222,
              "#7201a8"
             ],
             [
              0.3333333333333333,
              "#9c179e"
             ],
             [
              0.4444444444444444,
              "#bd3786"
             ],
             [
              0.5555555555555556,
              "#d8576b"
             ],
             [
              0.6666666666666666,
              "#ed7953"
             ],
             [
              0.7777777777777778,
              "#fb9f3a"
             ],
             [
              0.8888888888888888,
              "#fdca26"
             ],
             [
              1,
              "#f0f921"
             ]
            ],
            "type": "heatmap"
           }
          ],
          "heatmapgl": [
           {
            "colorbar": {
             "outlinewidth": 0,
             "ticks": ""
            },
            "colorscale": [
             [
              0,
              "#0d0887"
             ],
             [
              0.1111111111111111,
              "#46039f"
             ],
             [
              0.2222222222222222,
              "#7201a8"
             ],
             [
              0.3333333333333333,
              "#9c179e"
             ],
             [
              0.4444444444444444,
              "#bd3786"
             ],
             [
              0.5555555555555556,
              "#d8576b"
             ],
             [
              0.6666666666666666,
              "#ed7953"
             ],
             [
              0.7777777777777778,
              "#fb9f3a"
             ],
             [
              0.8888888888888888,
              "#fdca26"
             ],
             [
              1,
              "#f0f921"
             ]
            ],
            "type": "heatmapgl"
           }
          ],
          "histogram": [
           {
            "marker": {
             "colorbar": {
              "outlinewidth": 0,
              "ticks": ""
             }
            },
            "type": "histogram"
           }
          ],
          "histogram2d": [
           {
            "colorbar": {
             "outlinewidth": 0,
             "ticks": ""
            },
            "colorscale": [
             [
              0,
              "#0d0887"
             ],
             [
              0.1111111111111111,
              "#46039f"
             ],
             [
              0.2222222222222222,
              "#7201a8"
             ],
             [
              0.3333333333333333,
              "#9c179e"
             ],
             [
              0.4444444444444444,
              "#bd3786"
             ],
             [
              0.5555555555555556,
              "#d8576b"
             ],
             [
              0.6666666666666666,
              "#ed7953"
             ],
             [
              0.7777777777777778,
              "#fb9f3a"
             ],
             [
              0.8888888888888888,
              "#fdca26"
             ],
             [
              1,
              "#f0f921"
             ]
            ],
            "type": "histogram2d"
           }
          ],
          "histogram2dcontour": [
           {
            "colorbar": {
             "outlinewidth": 0,
             "ticks": ""
            },
            "colorscale": [
             [
              0,
              "#0d0887"
             ],
             [
              0.1111111111111111,
              "#46039f"
             ],
             [
              0.2222222222222222,
              "#7201a8"
             ],
             [
              0.3333333333333333,
              "#9c179e"
             ],
             [
              0.4444444444444444,
              "#bd3786"
             ],
             [
              0.5555555555555556,
              "#d8576b"
             ],
             [
              0.6666666666666666,
              "#ed7953"
             ],
             [
              0.7777777777777778,
              "#fb9f3a"
             ],
             [
              0.8888888888888888,
              "#fdca26"
             ],
             [
              1,
              "#f0f921"
             ]
            ],
            "type": "histogram2dcontour"
           }
          ],
          "mesh3d": [
           {
            "colorbar": {
             "outlinewidth": 0,
             "ticks": ""
            },
            "type": "mesh3d"
           }
          ],
          "parcoords": [
           {
            "line": {
             "colorbar": {
              "outlinewidth": 0,
              "ticks": ""
             }
            },
            "type": "parcoords"
           }
          ],
          "pie": [
           {
            "automargin": true,
            "type": "pie"
           }
          ],
          "scatter": [
           {
            "marker": {
             "colorbar": {
              "outlinewidth": 0,
              "ticks": ""
             }
            },
            "type": "scatter"
           }
          ],
          "scatter3d": [
           {
            "line": {
             "colorbar": {
              "outlinewidth": 0,
              "ticks": ""
             }
            },
            "marker": {
             "colorbar": {
              "outlinewidth": 0,
              "ticks": ""
             }
            },
            "type": "scatter3d"
           }
          ],
          "scattercarpet": [
           {
            "marker": {
             "colorbar": {
              "outlinewidth": 0,
              "ticks": ""
             }
            },
            "type": "scattercarpet"
           }
          ],
          "scattergeo": [
           {
            "marker": {
             "colorbar": {
              "outlinewidth": 0,
              "ticks": ""
             }
            },
            "type": "scattergeo"
           }
          ],
          "scattergl": [
           {
            "marker": {
             "colorbar": {
              "outlinewidth": 0,
              "ticks": ""
             }
            },
            "type": "scattergl"
           }
          ],
          "scattermapbox": [
           {
            "marker": {
             "colorbar": {
              "outlinewidth": 0,
              "ticks": ""
             }
            },
            "type": "scattermapbox"
           }
          ],
          "scatterpolar": [
           {
            "marker": {
             "colorbar": {
              "outlinewidth": 0,
              "ticks": ""
             }
            },
            "type": "scatterpolar"
           }
          ],
          "scatterpolargl": [
           {
            "marker": {
             "colorbar": {
              "outlinewidth": 0,
              "ticks": ""
             }
            },
            "type": "scatterpolargl"
           }
          ],
          "scatterternary": [
           {
            "marker": {
             "colorbar": {
              "outlinewidth": 0,
              "ticks": ""
             }
            },
            "type": "scatterternary"
           }
          ],
          "surface": [
           {
            "colorbar": {
             "outlinewidth": 0,
             "ticks": ""
            },
            "colorscale": [
             [
              0,
              "#0d0887"
             ],
             [
              0.1111111111111111,
              "#46039f"
             ],
             [
              0.2222222222222222,
              "#7201a8"
             ],
             [
              0.3333333333333333,
              "#9c179e"
             ],
             [
              0.4444444444444444,
              "#bd3786"
             ],
             [
              0.5555555555555556,
              "#d8576b"
             ],
             [
              0.6666666666666666,
              "#ed7953"
             ],
             [
              0.7777777777777778,
              "#fb9f3a"
             ],
             [
              0.8888888888888888,
              "#fdca26"
             ],
             [
              1,
              "#f0f921"
             ]
            ],
            "type": "surface"
           }
          ],
          "table": [
           {
            "cells": {
             "fill": {
              "color": "#EBF0F8"
             },
             "line": {
              "color": "white"
             }
            },
            "header": {
             "fill": {
              "color": "#C8D4E3"
             },
             "line": {
              "color": "white"
             }
            },
            "type": "table"
           }
          ]
         },
         "layout": {
          "annotationdefaults": {
           "arrowcolor": "#2a3f5f",
           "arrowhead": 0,
           "arrowwidth": 1
          },
          "coloraxis": {
           "colorbar": {
            "outlinewidth": 0,
            "ticks": ""
           }
          },
          "colorscale": {
           "diverging": [
            [
             0,
             "#8e0152"
            ],
            [
             0.1,
             "#c51b7d"
            ],
            [
             0.2,
             "#de77ae"
            ],
            [
             0.3,
             "#f1b6da"
            ],
            [
             0.4,
             "#fde0ef"
            ],
            [
             0.5,
             "#f7f7f7"
            ],
            [
             0.6,
             "#e6f5d0"
            ],
            [
             0.7,
             "#b8e186"
            ],
            [
             0.8,
             "#7fbc41"
            ],
            [
             0.9,
             "#4d9221"
            ],
            [
             1,
             "#276419"
            ]
           ],
           "sequential": [
            [
             0,
             "#0d0887"
            ],
            [
             0.1111111111111111,
             "#46039f"
            ],
            [
             0.2222222222222222,
             "#7201a8"
            ],
            [
             0.3333333333333333,
             "#9c179e"
            ],
            [
             0.4444444444444444,
             "#bd3786"
            ],
            [
             0.5555555555555556,
             "#d8576b"
            ],
            [
             0.6666666666666666,
             "#ed7953"
            ],
            [
             0.7777777777777778,
             "#fb9f3a"
            ],
            [
             0.8888888888888888,
             "#fdca26"
            ],
            [
             1,
             "#f0f921"
            ]
           ],
           "sequentialminus": [
            [
             0,
             "#0d0887"
            ],
            [
             0.1111111111111111,
             "#46039f"
            ],
            [
             0.2222222222222222,
             "#7201a8"
            ],
            [
             0.3333333333333333,
             "#9c179e"
            ],
            [
             0.4444444444444444,
             "#bd3786"
            ],
            [
             0.5555555555555556,
             "#d8576b"
            ],
            [
             0.6666666666666666,
             "#ed7953"
            ],
            [
             0.7777777777777778,
             "#fb9f3a"
            ],
            [
             0.8888888888888888,
             "#fdca26"
            ],
            [
             1,
             "#f0f921"
            ]
           ]
          },
          "colorway": [
           "#636efa",
           "#EF553B",
           "#00cc96",
           "#ab63fa",
           "#FFA15A",
           "#19d3f3",
           "#FF6692",
           "#B6E880",
           "#FF97FF",
           "#FECB52"
          ],
          "font": {
           "color": "#2a3f5f"
          },
          "geo": {
           "bgcolor": "white",
           "lakecolor": "white",
           "landcolor": "#E5ECF6",
           "showlakes": true,
           "showland": true,
           "subunitcolor": "white"
          },
          "hoverlabel": {
           "align": "left"
          },
          "hovermode": "closest",
          "mapbox": {
           "style": "light"
          },
          "paper_bgcolor": "white",
          "plot_bgcolor": "#E5ECF6",
          "polar": {
           "angularaxis": {
            "gridcolor": "white",
            "linecolor": "white",
            "ticks": ""
           },
           "bgcolor": "#E5ECF6",
           "radialaxis": {
            "gridcolor": "white",
            "linecolor": "white",
            "ticks": ""
           }
          },
          "scene": {
           "xaxis": {
            "backgroundcolor": "#E5ECF6",
            "gridcolor": "white",
            "gridwidth": 2,
            "linecolor": "white",
            "showbackground": true,
            "ticks": "",
            "zerolinecolor": "white"
           },
           "yaxis": {
            "backgroundcolor": "#E5ECF6",
            "gridcolor": "white",
            "gridwidth": 2,
            "linecolor": "white",
            "showbackground": true,
            "ticks": "",
            "zerolinecolor": "white"
           },
           "zaxis": {
            "backgroundcolor": "#E5ECF6",
            "gridcolor": "white",
            "gridwidth": 2,
            "linecolor": "white",
            "showbackground": true,
            "ticks": "",
            "zerolinecolor": "white"
           }
          },
          "shapedefaults": {
           "line": {
            "color": "#2a3f5f"
           }
          },
          "ternary": {
           "aaxis": {
            "gridcolor": "white",
            "linecolor": "white",
            "ticks": ""
           },
           "baxis": {
            "gridcolor": "white",
            "linecolor": "white",
            "ticks": ""
           },
           "bgcolor": "#E5ECF6",
           "caxis": {
            "gridcolor": "white",
            "linecolor": "white",
            "ticks": ""
           }
          },
          "title": {
           "x": 0.05
          },
          "xaxis": {
           "automargin": true,
           "gridcolor": "white",
           "linecolor": "white",
           "ticks": "",
           "title": {
            "standoff": 15
           },
           "zerolinecolor": "white",
           "zerolinewidth": 2
          },
          "yaxis": {
           "automargin": true,
           "gridcolor": "white",
           "linecolor": "white",
           "ticks": "",
           "title": {
            "standoff": 15
           },
           "zerolinecolor": "white",
           "zerolinewidth": 2
          }
         }
        },
        "width": 1200,
        "xaxis": {
         "anchor": "y",
         "domain": [
          0,
          1
         ],
         "title": {
          "text": "Ranking"
         }
        },
        "yaxis": {
         "anchor": "x",
         "categoryorder": "total ascending",
         "domain": [
          0,
          1
         ],
         "tickfont": {
          "size": 10
         },
         "title": {
          "text": ""
         }
        }
       }
      }
     },
     "metadata": {}
    }
   ],
   "source": [
    "ranking_plots[3]"
   ]
  },
  {
   "cell_type": "code",
   "execution_count": 87,
   "metadata": {},
   "outputs": [],
   "source": [
    "for i, queries_set in enumerate(queries_sets):\n",
    "    queries_set_name = queries_set[1]\n",
    "    rankings[i].to_csv('./results/{}_ranking.csv'.format(queries_set_name))\n",
    "    ranking_plots[i].write_image('./results/{}_ranking.png'.format(queries_set_name), width = 1200, height= 600, scale=3)\n",
    "\n",
    "rankings[3].to_csv('./results/overall_ranking.csv')\n",
    "ranking_plots[3].write_image('./results/overall_ranking.png', width = 1200, height= 600, scale=3)"
   ]
  },
  {
   "cell_type": "markdown",
   "metadata": {},
   "source": [
    "## Correlations between rankings\n",
    "\n",
    "The last step. Here, we will calculate the correlation between the rankings by metric.\n",
    "These results will show how the rankings by metric match.\n",
    "\n",
    "The bluer the correlation matrix, the more confident it is that the rankings are indicating the same thing: that there are some embeddings that are less biased than others."
   ]
  },
  {
   "cell_type": "code",
   "execution_count": 99,
   "metadata": {},
   "outputs": [],
   "source": [
    "gender_correlations = calculate_ranking_correlations(rankings[0])\n",
    "ethnicity_correlations = calculate_ranking_correlations(rankings[1])\n",
    "religion_correlations = calculate_ranking_correlations(rankings[2])\n",
    "overall_correlations = calculate_ranking_correlations(rankings[3])"
   ]
  },
  {
   "cell_type": "code",
   "execution_count": 106,
   "metadata": {},
   "outputs": [
    {
     "output_type": "display_data",
     "data": {
      "application/vnd.plotly.v1+json": {
       "config": {
        "plotlyServerURL": "https://plot.ly"
       },
       "data": [
        {
         "colorscale": [
          [
           0,
           "rgb(210, 251, 212)"
          ],
          [
           0.16666666666666666,
           "rgb(165, 219, 194)"
          ],
          [
           0.3333333333333333,
           "rgb(123, 188, 176)"
          ],
          [
           0.5,
           "rgb(85, 156, 158)"
          ],
          [
           0.6666666666666666,
           "rgb(58, 124, 137)"
          ],
          [
           0.8333333333333334,
           "rgb(35, 93, 114)"
          ],
          [
           1,
           "rgb(18, 63, 90)"
          ]
         ],
         "hoverongaps": false,
         "type": "heatmap",
         "x": [
          "WEAT",
          "WEAT EZ",
          "RND",
          "RNSB"
         ],
         "xaxis": "x",
         "y": [
          "WEAT",
          "WEAT EZ",
          "RND",
          "RNSB"
         ],
         "yaxis": "y",
         "z": [
          [
           1,
           0.5952380952380953,
           0.8095238095238096,
           0.6428571428571429
          ],
          [
           0.5952380952380953,
           1,
           0.14285714285714288,
           0.11904761904761905
          ],
          [
           0.8095238095238096,
           0.14285714285714288,
           1,
           0.9047619047619048
          ],
          [
           0.6428571428571429,
           0.11904761904761905,
           0.9047619047619048,
           1
          ]
         ],
         "zmax": 1,
         "zmin": 0
        },
        {
         "colorscale": [
          [
           0,
           "rgb(210, 251, 212)"
          ],
          [
           0.16666666666666666,
           "rgb(165, 219, 194)"
          ],
          [
           0.3333333333333333,
           "rgb(123, 188, 176)"
          ],
          [
           0.5,
           "rgb(85, 156, 158)"
          ],
          [
           0.6666666666666666,
           "rgb(58, 124, 137)"
          ],
          [
           0.8333333333333334,
           "rgb(35, 93, 114)"
          ],
          [
           1,
           "rgb(18, 63, 90)"
          ]
         ],
         "hoverongaps": false,
         "type": "heatmap",
         "x": [
          "WEAT",
          "WEAT EZ",
          "RND",
          "RNSB"
         ],
         "xaxis": "x2",
         "y": [
          "WEAT",
          "WEAT EZ",
          "RND",
          "RNSB"
         ],
         "yaxis": "y2",
         "z": [
          [
           1,
           0.9523809523809524,
           0.9047619047619048,
           0.9523809523809524
          ],
          [
           0.9523809523809524,
           1,
           0.9047619047619048,
           0.9523809523809524
          ],
          [
           0.9047619047619048,
           0.9047619047619048,
           1,
           0.9047619047619048
          ],
          [
           0.9523809523809524,
           0.9523809523809524,
           0.9047619047619048,
           1
          ]
         ],
         "zmax": 1,
         "zmin": 0
        },
        {
         "colorscale": [
          [
           0,
           "rgb(210, 251, 212)"
          ],
          [
           0.16666666666666666,
           "rgb(165, 219, 194)"
          ],
          [
           0.3333333333333333,
           "rgb(123, 188, 176)"
          ],
          [
           0.5,
           "rgb(85, 156, 158)"
          ],
          [
           0.6666666666666666,
           "rgb(58, 124, 137)"
          ],
          [
           0.8333333333333334,
           "rgb(35, 93, 114)"
          ],
          [
           1,
           "rgb(18, 63, 90)"
          ]
         ],
         "hoverongaps": false,
         "type": "heatmap",
         "x": [
          "WEAT",
          "WEAT EZ",
          "RND",
          "RNSB"
         ],
         "xaxis": "x3",
         "y": [
          "WEAT",
          "WEAT EZ",
          "RND",
          "RNSB"
         ],
         "yaxis": "y3",
         "z": [
          [
           1,
           0.6666666666666669,
           0.4047619047619048,
           0.8333333333333335
          ],
          [
           0.6666666666666669,
           1,
           -0.19047619047619052,
           0.6190476190476191
          ],
          [
           0.4047619047619048,
           -0.19047619047619052,
           1,
           0.6190476190476191
          ],
          [
           0.8333333333333335,
           0.6190476190476191,
           0.6190476190476191,
           1
          ]
         ],
         "zmax": 1,
         "zmin": 0
        },
        {
         "colorscale": [
          [
           0,
           "rgb(210, 251, 212)"
          ],
          [
           0.16666666666666666,
           "rgb(165, 219, 194)"
          ],
          [
           0.3333333333333333,
           "rgb(123, 188, 176)"
          ],
          [
           0.5,
           "rgb(85, 156, 158)"
          ],
          [
           0.6666666666666666,
           "rgb(58, 124, 137)"
          ],
          [
           0.8333333333333334,
           "rgb(35, 93, 114)"
          ],
          [
           1,
           "rgb(18, 63, 90)"
          ]
         ],
         "hoverongaps": false,
         "type": "heatmap",
         "x": [
          "WEAT",
          "WEAT EZ",
          "RND",
          "RNSB"
         ],
         "xaxis": "x4",
         "y": [
          "WEAT",
          "WEAT EZ",
          "RND",
          "RNSB"
         ],
         "yaxis": "y4",
         "z": [
          [
           0.9999999999999998,
           0.8862434338158116,
           0.8862434338158116,
           0.8263621207201486
          ],
          [
           0.8862434338158116,
           1,
           0.7380952380952381,
           0.7619047619047621
          ],
          [
           0.8862434338158116,
           0.7380952380952381,
           1,
           0.9047619047619048
          ],
          [
           0.8263621207201486,
           0.7619047619047621,
           0.9047619047619048,
           1
          ]
         ],
         "zmax": 1,
         "zmin": 0
        }
       ],
       "layout": {
        "annotations": [
         {
          "font": {
           "size": 16
          },
          "showarrow": false,
          "text": "Gender Ranking Correlation",
          "x": 0.225,
          "xanchor": "center",
          "xref": "paper",
          "y": 1,
          "yanchor": "bottom",
          "yref": "paper"
         },
         {
          "font": {
           "size": 16
          },
          "showarrow": false,
          "text": "Ehtnicity Ranking Correlation",
          "x": 0.775,
          "xanchor": "center",
          "xref": "paper",
          "y": 1,
          "yanchor": "bottom",
          "yref": "paper"
         },
         {
          "font": {
           "size": 16
          },
          "showarrow": false,
          "text": "Religion Ranking Correlation",
          "x": 0.225,
          "xanchor": "center",
          "xref": "paper",
          "y": 0.375,
          "yanchor": "bottom",
          "yref": "paper"
         },
         {
          "font": {
           "size": 16
          },
          "showarrow": false,
          "text": "Overall Ranking Correlation",
          "x": 0.775,
          "xanchor": "center",
          "xref": "paper",
          "y": 0.375,
          "yanchor": "bottom",
          "yref": "paper"
         }
        ],
        "height": 800,
        "template": {
         "data": {
          "bar": [
           {
            "error_x": {
             "color": "#2a3f5f"
            },
            "error_y": {
             "color": "#2a3f5f"
            },
            "marker": {
             "line": {
              "color": "#E5ECF6",
              "width": 0.5
             }
            },
            "type": "bar"
           }
          ],
          "barpolar": [
           {
            "marker": {
             "line": {
              "color": "#E5ECF6",
              "width": 0.5
             }
            },
            "type": "barpolar"
           }
          ],
          "carpet": [
           {
            "aaxis": {
             "endlinecolor": "#2a3f5f",
             "gridcolor": "white",
             "linecolor": "white",
             "minorgridcolor": "white",
             "startlinecolor": "#2a3f5f"
            },
            "baxis": {
             "endlinecolor": "#2a3f5f",
             "gridcolor": "white",
             "linecolor": "white",
             "minorgridcolor": "white",
             "startlinecolor": "#2a3f5f"
            },
            "type": "carpet"
           }
          ],
          "choropleth": [
           {
            "colorbar": {
             "outlinewidth": 0,
             "ticks": ""
            },
            "type": "choropleth"
           }
          ],
          "contour": [
           {
            "colorbar": {
             "outlinewidth": 0,
             "ticks": ""
            },
            "colorscale": [
             [
              0,
              "#0d0887"
             ],
             [
              0.1111111111111111,
              "#46039f"
             ],
             [
              0.2222222222222222,
              "#7201a8"
             ],
             [
              0.3333333333333333,
              "#9c179e"
             ],
             [
              0.4444444444444444,
              "#bd3786"
             ],
             [
              0.5555555555555556,
              "#d8576b"
             ],
             [
              0.6666666666666666,
              "#ed7953"
             ],
             [
              0.7777777777777778,
              "#fb9f3a"
             ],
             [
              0.8888888888888888,
              "#fdca26"
             ],
             [
              1,
              "#f0f921"
             ]
            ],
            "type": "contour"
           }
          ],
          "contourcarpet": [
           {
            "colorbar": {
             "outlinewidth": 0,
             "ticks": ""
            },
            "type": "contourcarpet"
           }
          ],
          "heatmap": [
           {
            "colorbar": {
             "outlinewidth": 0,
             "ticks": ""
            },
            "colorscale": [
             [
              0,
              "#0d0887"
             ],
             [
              0.1111111111111111,
              "#46039f"
             ],
             [
              0.2222222222222222,
              "#7201a8"
             ],
             [
              0.3333333333333333,
              "#9c179e"
             ],
             [
              0.4444444444444444,
              "#bd3786"
             ],
             [
              0.5555555555555556,
              "#d8576b"
             ],
             [
              0.6666666666666666,
              "#ed7953"
             ],
             [
              0.7777777777777778,
              "#fb9f3a"
             ],
             [
              0.8888888888888888,
              "#fdca26"
             ],
             [
              1,
              "#f0f921"
             ]
            ],
            "type": "heatmap"
           }
          ],
          "heatmapgl": [
           {
            "colorbar": {
             "outlinewidth": 0,
             "ticks": ""
            },
            "colorscale": [
             [
              0,
              "#0d0887"
             ],
             [
              0.1111111111111111,
              "#46039f"
             ],
             [
              0.2222222222222222,
              "#7201a8"
             ],
             [
              0.3333333333333333,
              "#9c179e"
             ],
             [
              0.4444444444444444,
              "#bd3786"
             ],
             [
              0.5555555555555556,
              "#d8576b"
             ],
             [
              0.6666666666666666,
              "#ed7953"
             ],
             [
              0.7777777777777778,
              "#fb9f3a"
             ],
             [
              0.8888888888888888,
              "#fdca26"
             ],
             [
              1,
              "#f0f921"
             ]
            ],
            "type": "heatmapgl"
           }
          ],
          "histogram": [
           {
            "marker": {
             "colorbar": {
              "outlinewidth": 0,
              "ticks": ""
             }
            },
            "type": "histogram"
           }
          ],
          "histogram2d": [
           {
            "colorbar": {
             "outlinewidth": 0,
             "ticks": ""
            },
            "colorscale": [
             [
              0,
              "#0d0887"
             ],
             [
              0.1111111111111111,
              "#46039f"
             ],
             [
              0.2222222222222222,
              "#7201a8"
             ],
             [
              0.3333333333333333,
              "#9c179e"
             ],
             [
              0.4444444444444444,
              "#bd3786"
             ],
             [
              0.5555555555555556,
              "#d8576b"
             ],
             [
              0.6666666666666666,
              "#ed7953"
             ],
             [
              0.7777777777777778,
              "#fb9f3a"
             ],
             [
              0.8888888888888888,
              "#fdca26"
             ],
             [
              1,
              "#f0f921"
             ]
            ],
            "type": "histogram2d"
           }
          ],
          "histogram2dcontour": [
           {
            "colorbar": {
             "outlinewidth": 0,
             "ticks": ""
            },
            "colorscale": [
             [
              0,
              "#0d0887"
             ],
             [
              0.1111111111111111,
              "#46039f"
             ],
             [
              0.2222222222222222,
              "#7201a8"
             ],
             [
              0.3333333333333333,
              "#9c179e"
             ],
             [
              0.4444444444444444,
              "#bd3786"
             ],
             [
              0.5555555555555556,
              "#d8576b"
             ],
             [
              0.6666666666666666,
              "#ed7953"
             ],
             [
              0.7777777777777778,
              "#fb9f3a"
             ],
             [
              0.8888888888888888,
              "#fdca26"
             ],
             [
              1,
              "#f0f921"
             ]
            ],
            "type": "histogram2dcontour"
           }
          ],
          "mesh3d": [
           {
            "colorbar": {
             "outlinewidth": 0,
             "ticks": ""
            },
            "type": "mesh3d"
           }
          ],
          "parcoords": [
           {
            "line": {
             "colorbar": {
              "outlinewidth": 0,
              "ticks": ""
             }
            },
            "type": "parcoords"
           }
          ],
          "pie": [
           {
            "automargin": true,
            "type": "pie"
           }
          ],
          "scatter": [
           {
            "marker": {
             "colorbar": {
              "outlinewidth": 0,
              "ticks": ""
             }
            },
            "type": "scatter"
           }
          ],
          "scatter3d": [
           {
            "line": {
             "colorbar": {
              "outlinewidth": 0,
              "ticks": ""
             }
            },
            "marker": {
             "colorbar": {
              "outlinewidth": 0,
              "ticks": ""
             }
            },
            "type": "scatter3d"
           }
          ],
          "scattercarpet": [
           {
            "marker": {
             "colorbar": {
              "outlinewidth": 0,
              "ticks": ""
             }
            },
            "type": "scattercarpet"
           }
          ],
          "scattergeo": [
           {
            "marker": {
             "colorbar": {
              "outlinewidth": 0,
              "ticks": ""
             }
            },
            "type": "scattergeo"
           }
          ],
          "scattergl": [
           {
            "marker": {
             "colorbar": {
              "outlinewidth": 0,
              "ticks": ""
             }
            },
            "type": "scattergl"
           }
          ],
          "scattermapbox": [
           {
            "marker": {
             "colorbar": {
              "outlinewidth": 0,
              "ticks": ""
             }
            },
            "type": "scattermapbox"
           }
          ],
          "scatterpolar": [
           {
            "marker": {
             "colorbar": {
              "outlinewidth": 0,
              "ticks": ""
             }
            },
            "type": "scatterpolar"
           }
          ],
          "scatterpolargl": [
           {
            "marker": {
             "colorbar": {
              "outlinewidth": 0,
              "ticks": ""
             }
            },
            "type": "scatterpolargl"
           }
          ],
          "scatterternary": [
           {
            "marker": {
             "colorbar": {
              "outlinewidth": 0,
              "ticks": ""
             }
            },
            "type": "scatterternary"
           }
          ],
          "surface": [
           {
            "colorbar": {
             "outlinewidth": 0,
             "ticks": ""
            },
            "colorscale": [
             [
              0,
              "#0d0887"
             ],
             [
              0.1111111111111111,
              "#46039f"
             ],
             [
              0.2222222222222222,
              "#7201a8"
             ],
             [
              0.3333333333333333,
              "#9c179e"
             ],
             [
              0.4444444444444444,
              "#bd3786"
             ],
             [
              0.5555555555555556,
              "#d8576b"
             ],
             [
              0.6666666666666666,
              "#ed7953"
             ],
             [
              0.7777777777777778,
              "#fb9f3a"
             ],
             [
              0.8888888888888888,
              "#fdca26"
             ],
             [
              1,
              "#f0f921"
             ]
            ],
            "type": "surface"
           }
          ],
          "table": [
           {
            "cells": {
             "fill": {
              "color": "#EBF0F8"
             },
             "line": {
              "color": "white"
             }
            },
            "header": {
             "fill": {
              "color": "#C8D4E3"
             },
             "line": {
              "color": "white"
             }
            },
            "type": "table"
           }
          ]
         },
         "layout": {
          "annotationdefaults": {
           "arrowcolor": "#2a3f5f",
           "arrowhead": 0,
           "arrowwidth": 1
          },
          "coloraxis": {
           "colorbar": {
            "outlinewidth": 0,
            "ticks": ""
           }
          },
          "colorscale": {
           "diverging": [
            [
             0,
             "#8e0152"
            ],
            [
             0.1,
             "#c51b7d"
            ],
            [
             0.2,
             "#de77ae"
            ],
            [
             0.3,
             "#f1b6da"
            ],
            [
             0.4,
             "#fde0ef"
            ],
            [
             0.5,
             "#f7f7f7"
            ],
            [
             0.6,
             "#e6f5d0"
            ],
            [
             0.7,
             "#b8e186"
            ],
            [
             0.8,
             "#7fbc41"
            ],
            [
             0.9,
             "#4d9221"
            ],
            [
             1,
             "#276419"
            ]
           ],
           "sequential": [
            [
             0,
             "#0d0887"
            ],
            [
             0.1111111111111111,
             "#46039f"
            ],
            [
             0.2222222222222222,
             "#7201a8"
            ],
            [
             0.3333333333333333,
             "#9c179e"
            ],
            [
             0.4444444444444444,
             "#bd3786"
            ],
            [
             0.5555555555555556,
             "#d8576b"
            ],
            [
             0.6666666666666666,
             "#ed7953"
            ],
            [
             0.7777777777777778,
             "#fb9f3a"
            ],
            [
             0.8888888888888888,
             "#fdca26"
            ],
            [
             1,
             "#f0f921"
            ]
           ],
           "sequentialminus": [
            [
             0,
             "#0d0887"
            ],
            [
             0.1111111111111111,
             "#46039f"
            ],
            [
             0.2222222222222222,
             "#7201a8"
            ],
            [
             0.3333333333333333,
             "#9c179e"
            ],
            [
             0.4444444444444444,
             "#bd3786"
            ],
            [
             0.5555555555555556,
             "#d8576b"
            ],
            [
             0.6666666666666666,
             "#ed7953"
            ],
            [
             0.7777777777777778,
             "#fb9f3a"
            ],
            [
             0.8888888888888888,
             "#fdca26"
            ],
            [
             1,
             "#f0f921"
            ]
           ]
          },
          "colorway": [
           "#636efa",
           "#EF553B",
           "#00cc96",
           "#ab63fa",
           "#FFA15A",
           "#19d3f3",
           "#FF6692",
           "#B6E880",
           "#FF97FF",
           "#FECB52"
          ],
          "font": {
           "color": "#2a3f5f"
          },
          "geo": {
           "bgcolor": "white",
           "lakecolor": "white",
           "landcolor": "#E5ECF6",
           "showlakes": true,
           "showland": true,
           "subunitcolor": "white"
          },
          "hoverlabel": {
           "align": "left"
          },
          "hovermode": "closest",
          "mapbox": {
           "style": "light"
          },
          "paper_bgcolor": "white",
          "plot_bgcolor": "#E5ECF6",
          "polar": {
           "angularaxis": {
            "gridcolor": "white",
            "linecolor": "white",
            "ticks": ""
           },
           "bgcolor": "#E5ECF6",
           "radialaxis": {
            "gridcolor": "white",
            "linecolor": "white",
            "ticks": ""
           }
          },
          "scene": {
           "xaxis": {
            "backgroundcolor": "#E5ECF6",
            "gridcolor": "white",
            "gridwidth": 2,
            "linecolor": "white",
            "showbackground": true,
            "ticks": "",
            "zerolinecolor": "white"
           },
           "yaxis": {
            "backgroundcolor": "#E5ECF6",
            "gridcolor": "white",
            "gridwidth": 2,
            "linecolor": "white",
            "showbackground": true,
            "ticks": "",
            "zerolinecolor": "white"
           },
           "zaxis": {
            "backgroundcolor": "#E5ECF6",
            "gridcolor": "white",
            "gridwidth": 2,
            "linecolor": "white",
            "showbackground": true,
            "ticks": "",
            "zerolinecolor": "white"
           }
          },
          "shapedefaults": {
           "line": {
            "color": "#2a3f5f"
           }
          },
          "ternary": {
           "aaxis": {
            "gridcolor": "white",
            "linecolor": "white",
            "ticks": ""
           },
           "baxis": {
            "gridcolor": "white",
            "linecolor": "white",
            "ticks": ""
           },
           "bgcolor": "#E5ECF6",
           "caxis": {
            "gridcolor": "white",
            "linecolor": "white",
            "ticks": ""
           }
          },
          "title": {
           "x": 0.05
          },
          "xaxis": {
           "automargin": true,
           "gridcolor": "white",
           "linecolor": "white",
           "ticks": "",
           "title": {
            "standoff": 15
           },
           "zerolinecolor": "white",
           "zerolinewidth": 2
          },
          "yaxis": {
           "automargin": true,
           "gridcolor": "white",
           "linecolor": "white",
           "ticks": "",
           "title": {
            "standoff": 15
           },
           "zerolinecolor": "white",
           "zerolinewidth": 2
          }
         }
        },
        "width": 1200,
        "xaxis": {
         "anchor": "y",
         "domain": [
          0,
          0.45
         ]
        },
        "xaxis2": {
         "anchor": "y2",
         "domain": [
          0.55,
          1
         ]
        },
        "xaxis3": {
         "anchor": "y3",
         "domain": [
          0,
          0.45
         ]
        },
        "xaxis4": {
         "anchor": "y4",
         "domain": [
          0.55,
          1
         ]
        },
        "yaxis": {
         "anchor": "x",
         "domain": [
          0.625,
          1
         ]
        },
        "yaxis2": {
         "anchor": "x2",
         "domain": [
          0.625,
          1
         ]
        },
        "yaxis3": {
         "anchor": "x3",
         "domain": [
          0,
          0.375
         ]
        },
        "yaxis4": {
         "anchor": "x4",
         "domain": [
          0,
          0.375
         ]
        }
       }
      }
     },
     "metadata": {}
    }
   ],
   "source": [
    "correlations_plot = make_subplots(2,2)\n",
    "\n",
    "fig = make_subplots(rows=2,\n",
    "                    cols=2,\n",
    "                    subplot_titles=(\"Gender Ranking Correlation\",\n",
    "                                    \"Ehtnicity Ranking Correlation\",\n",
    "                                    \"Religion Ranking Correlation\",\n",
    "                                    \"Overall Ranking Correlation\"))\n",
    "fig.add_trace(plot_ranking_correlations(gender_correlations).data[0], row=1, col=1)\n",
    "fig.add_trace(plot_ranking_correlations(ethnicity_correlations).data[0], row=1, col=2)\n",
    "fig.add_trace(plot_ranking_correlations(religion_correlations).data[0], row=2, col=1)\n",
    "fig.add_trace(plot_ranking_correlations(overall_correlations).data[0], row=2, col=2)\n",
    "\n",
    "fig.update_layout(width=1200, height = 800)\n",
    "fig.show()"
   ]
  }
 ],
 "metadata": {
  "kernelspec": {
   "display_name": "Python 3",
   "language": "python",
   "name": "python3"
  },
  "language_info": {
   "codemirror_mode": {
    "name": "ipython",
    "version": 3
   },
   "file_extension": ".py",
   "mimetype": "text/x-python",
   "name": "python",
   "nbconvert_exporter": "python",
   "pygments_lexer": "ipython3",
   "version": "3.7.4-final"
  },
  "toc": {
   "base_numbering": 1,
   "nav_menu": {},
   "number_sections": true,
   "sideBar": true,
   "skip_h1_title": true,
   "title_cell": "Table of Contents",
   "title_sidebar": "Contents",
   "toc_cell": false,
   "toc_position": {},
   "toc_section_display": true,
   "toc_window_display": false
  },
  "varInspector": {
   "cols": {
    "lenName": 16,
    "lenType": 16,
    "lenVar": 40
   },
   "kernels_config": {
    "python": {
     "delete_cmd_postfix": "",
     "delete_cmd_prefix": "del ",
     "library": "var_list.py",
     "varRefreshCmd": "print(var_dic_list())"
    },
    "r": {
     "delete_cmd_postfix": ") ",
     "delete_cmd_prefix": "rm(",
     "library": "var_list.r",
     "varRefreshCmd": "cat(var_dic_list()) "
    }
   },
   "types_to_exclude": [
    "module",
    "function",
    "builtin_function_or_method",
    "instance",
    "_Feature"
   ],
   "window_display": false
  }
 },
 "nbformat": 4,
 "nbformat_minor": 2
}