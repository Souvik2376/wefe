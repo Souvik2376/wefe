{
 "cells": [
  {
   "cell_type": "markdown",
   "metadata": {},
   "source": [
    "================================\n",
    "How to implement your own metric\n",
    "================================\n",
    "\n",
    "The following guide will show you how to implement your own metrics \n",
    "using WEFE.\n",
    "\n",
    "\n",
    "Create the class \n",
    "================\n",
    "\n",
    "The first step is to create the class that will contain the new metric and \n",
    "extend the ``BaseMetric`` class. \n",
    "Then, to create the class constructor, you must specify the template \n",
    "(explained below), the name of the metric and an abbreviated name or acronym \n",
    "for it.\n",
    "\n",
    "A **template** is a tuple that indicates the number (cardinality) of target \n",
    "and attribute word sets that the metric can process. \n",
    "It can take integer values as well as the string 'n', which would indicate \n",
    "that the metric can accept any amount of that type of set \n",
    "(target or attribute words).\n",
    "\n",
    ".. note::\n",
    "    Note that this will indicate that all queries that do not comply with the \n",
    "    template will be rejected when executed using this metric.\n",
    "    "
   ]
  },
  {
   "cell_type": "code",
   "execution_count": 5,
   "metadata": {
    "ExecuteTime": {
     "end_time": "2020-12-17T14:35:29.846247Z",
     "start_time": "2020-12-17T14:35:29.832223Z"
    }
   },
   "outputs": [
    {
     "ename": "ModuleNotFoundError",
     "evalue": "No module named 'base_metric'",
     "output_type": "error",
     "traceback": [
      "\u001b[1;31m---------------------------------------------------------------------------\u001b[0m",
      "\u001b[1;31mModuleNotFoundError\u001b[0m                       Traceback (most recent call last)",
      "\u001b[1;32m<ipython-input-5-9c46899548fa>\u001b[0m in \u001b[0;36m<module>\u001b[1;34m\u001b[0m\n\u001b[1;32m----> 1\u001b[1;33m \u001b[1;32mfrom\u001b[0m \u001b[0mbase_metric\u001b[0m \u001b[1;32mimport\u001b[0m \u001b[0mBaseMetric\u001b[0m\u001b[1;33m\u001b[0m\u001b[1;33m\u001b[0m\u001b[0m\n\u001b[0m\u001b[0;32m      2\u001b[0m \u001b[1;33m\u001b[0m\u001b[0m\n\u001b[0;32m      3\u001b[0m \u001b[1;32mclass\u001b[0m \u001b[0mExampleMetric\u001b[0m\u001b[1;33m(\u001b[0m\u001b[0mBaseMetric\u001b[0m\u001b[1;33m)\u001b[0m\u001b[1;33m:\u001b[0m\u001b[1;33m\u001b[0m\u001b[1;33m\u001b[0m\u001b[0m\n\u001b[0;32m      4\u001b[0m     \u001b[0mmetric_template\u001b[0m \u001b[1;33m=\u001b[0m \u001b[1;33m(\u001b[0m\u001b[1;36m2\u001b[0m\u001b[1;33m,\u001b[0m \u001b[1;36m1\u001b[0m\u001b[1;33m)\u001b[0m\u001b[1;33m\u001b[0m\u001b[1;33m\u001b[0m\u001b[0m\n\u001b[0;32m      5\u001b[0m     \u001b[0mmetric_name\u001b[0m \u001b[1;33m=\u001b[0m \u001b[1;34m'Example Metric'\u001b[0m\u001b[1;33m\u001b[0m\u001b[1;33m\u001b[0m\u001b[0m\n",
      "\u001b[1;31mModuleNotFoundError\u001b[0m: No module named 'base_metric'"
     ]
    }
   ],
   "source": [
    "from base_metric import BaseMetric\n",
    " \n",
    "class ExampleMetric(BaseMetric):\n",
    "    metric_template = (2, 1)\n",
    "    metric_name = 'Example Metric'\n",
    "    metric_short_name = 'EM'\n",
    "\n"
   ]
  },
  {
   "cell_type": "code",
   "execution_count": null,
   "metadata": {},
   "outputs": [],
   "source": [
    "An examples of template "
   ]
  },
  {
   "cell_type": "code",
   "execution_count": 4,
   "metadata": {
    "ExecuteTime": {
     "end_time": "2020-12-17T14:34:37.682549Z",
     "start_time": "2020-12-17T14:34:37.678551Z"
    }
   },
   "outputs": [],
   "source": [
    "# two target sets and one attribute set required to execute this metric.\n",
    "template_1 = (2, 1)\n",
    "\n",
    "# two target sets and two attribute set required to execute this metric.\n",
    "template_2 = (2, 2)\n",
    "\n",
    "# two target sets and one attribute set required to execute this metric.\n",
    "template_1 = ('n', 1)"
   ]
  },
  {
   "cell_type": "code",
   "execution_count": null,
   "metadata": {},
   "outputs": [],
   "source": [
    "Implement :code:`run_query` method\n",
    "==================================\n",
    "\n",
    "Next, you must implement the :code:`run_query` method. \n",
    "This method will evaluate the metric on a given embedding model.\n",
    "It must perform 2 basic operations before executing anything. \n",
    "\n",
    "1. Validate the inputs and Transforming :code:`query` to embeddings: \n",
    "\n",
    "    To do this, execute the function :code:`self._get_embeddings_from_query` \n",
    "    using the provided parameters.  \n",
    "\n",
    "    First, it validates that the parameters \n",
    "    :code:`query`, :code:`word_embedding`, \n",
    "    :code:`lost_vocabulary_threshold` and \n",
    "    :code:`warn_filtered_words` are of type :code:`Query`, \n",
    "    :code:``, ``bool`` and ``bool`` respectively.\n",
    "    It will raise an exception if it finds a problem with the parameters.\n",
    "\n",
    "    Second, if no error triggered an exception, it converts all word sets \n",
    "    into Word Embeddings.\n",
    "    This process could return either: \n",
    "    \n",
    "        - ``None`` None if for at least one of the word sets in the query there\n",
    "          are more words without embedding vector than those specified in the \n",
    "          ``lost_vocabulary_threshold`` parameter (specified as percentage \n",
    "          float).  \n",
    "        - A tuple is otherwise returned. This tuple will contain in the first \n",
    "          element an array of dictionaries with the embeddings of each target \n",
    "          set, and in the second element, an array of dictionaries with the \n",
    "          embeddings of each attribute set. Each dictionary will be a mapping \n",
    "          between words and their corresponding embedding vectors.        \n",
    "\n",
    "2. Check if the array of embeddings is None when there is a word set in which \n",
    "more than the threshold percentage of words does not have an embedding.\n",
    "\n",
    " \n",
    "\n",
    ".. note::\n",
    "    The idea of keeping the words and not just returning the \n",
    "    embeddings is because that there are some metrics that can \n",
    "    calculate per-word measurements and deliver useful information from these.\n",
    "\n",
    "\n",
    "Then, based on the above, you can implement your new metric."
   ]
  },
  {
   "cell_type": "code",
   "execution_count": null,
   "metadata": {},
   "outputs": [],
   "source": [
    "from .base_metric import BaseMetric\n",
    "from ..query import Query\n",
    "from ..word_embedding import \n",
    "\n",
    "\n",
    "class ExampleMetric(BaseMetric):\n",
    "    \n",
    "    metric_template = (2, 1)\n",
    "    metric_name = 'Example Metric'\n",
    "    metric_short_name = 'EM'\n",
    " \n",
    "    def run_query(self, query: Query, word_embedding: WordEmbedding,\n",
    "                  lost_vocabulary_threshold: float = 0.2,\n",
    "                warn_filtered_words: bool = True):\n",
    " \n",
    " \n",
    "         # check the inputs and get the embeddings.\n",
    "         embeddings = self._get_embeddings_from_query(\n",
    "             query, word_embedding, warn_filtered_words,\n",
    "             lost_vocabulary_threshold)\n",
    "\n",
    "         # if there's any set that has a percentage fewer words than the threshold,\n",
    "         # return the default value (nan)\n",
    "         if embeddings is None:\n",
    "             return {'query_name': query.query_name, 'result': np.nan}\n",
    "\n",
    "\n",
    "We can illustrate what the outputs of the previous transformation look like \n",
    "using the following query:\n"
   ]
  },
  {
   "cell_type": "code",
   "execution_count": null,
   "metadata": {},
   "outputs": [],
   "source": [
    " from wefe.word_embedding import \n",
    " from wefe.query import Query\n",
    " from wefe.utils import load_weat_w2v # a few embeddings of WEAT experiments\n",
    " from wefe.datasets.datasets import load_weat # the word sets of WEAT experiments\n",
    "  \n",
    "     \n",
    " weat = load_weat()\n",
    " model = (load_weat_w2v(), 'weat_w2v', '')\n",
    " \n",
    " flowers = weat['flowers'][0:4]\n",
    " weapons = weat['weapons'][0:4]\n",
    " pleasant = weat['pleasant_5'][0:4]\n",
    " query = Query([flowers, weapons], [pleasant],\n",
    "               ['Flowers', 'Weapons'], ['Pleasant'])\n",
    "\n",
    " # Execute the transformation\n",
    " target_embeddings_dict, attribute_embeddings_dict = ExampleMetric()._get_embeddings_from_query(\n",
    "    query, model)\n",
    "\n",
    "\n",
    "\n",
    "\n"
   ]
  },
  {
   "cell_type": "markdown",
   "metadata": {},
   "source": [
    "This is what the transformed :code:`target_embeddings_dict` would look like:"
   ]
  },
  {
   "cell_type": "code",
   "execution_count": null,
   "metadata": {},
   "outputs": [],
   "source": [
    "\n",
    "\n",
    " [{'aster': array([-0.22167969,  0.52734375,  0.01745605, ...], dtype=float32),\n",
    "   'clover': array([-0.03442383,  0.19042969, -0.17089844, ...], dtype=float32),\n",
    "   'hyacinth': array([-0.01391602,  0.3828125 , -0.21679688, ...], dtype=float32),\n",
    "   'marigold': array([-0.27539062,  0.1484375 ,  0.04516602, ...], dtype=float32),\n",
    "   'poppy': array([ 0.19433594, -0.14257812, -0.07324219, ...], dtype=float32)},\n",
    "  {'arrow': array([ 0.18164062,  0.125     , -0.12792969, ...], dtype=float32),\n",
    "   'club': array([-0.04907227, -0.07421875, -0.0390625, ... ], dtype=float32),\n",
    "   'gun': array([0.05566406, 0.15039062, 0.33398438, ...], dtype=float32),\n",
    "   'missile': array([ 4.7874451e-04,  5.1953125e-01, -1.3809204e-03, ...], dtype=float32),\n",
    "   'spear': array([ 0.1875    , -0.0008316 , -0.11816406, ...], dtype=float32)}]"
   ]
  },
  {
   "cell_type": "code",
   "execution_count": null,
   "metadata": {},
   "outputs": [],
   "source": [
    "This is what the transformed :code:`attribute_embeddings_dict` would look like:"
   ]
  },
  {
   "cell_type": "code",
   "execution_count": null,
   "metadata": {},
   "outputs": [],
   "source": [
    " [{'caress': array([ 0.2578125 , -0.22167969,  0.11669922, ...], dtype=float32),\n",
    "   'freedom': array([ 0.26757812, -0.078125  ,  0.09326172, ...], dtype=float32),\n",
    "   'health': array([-0.07421875,  0.11279297,  0.09472656, ...], dtype=float32),\n",
    "   'love': array([ 0.10302734, -0.15234375,  0.02587891, ...], dtype=float32),\n",
    "   'peace': array([0.15722656, 0.26171875, 0.27734375, ...], dtype=float32)}]"
   ]
  },
  {
   "cell_type": "code",
   "execution_count": null,
   "metadata": {},
   "outputs": [],
   "source": [
    "Implement the logic of the metric\n",
    "=================================\n",
    "\n",
    "\n",
    "Suppose we want to implement an extremely simple three-step metric, where:\n",
    "\n",
    "1. We calculate the average of all the sets,\n",
    "2. Then, calculate the cosine distance between the target set averages and the \n",
    "   attribute average.\n",
    "3. Subtract these distances.\n",
    "\n",
    "To do this, we create a new method :code:`__calc_metric` in which, using\n",
    "the array of embedding dict objects as input, we will implement the above."
   ]
  },
  {
   "cell_type": "code",
   "execution_count": null,
   "metadata": {},
   "outputs": [],
   "source": [
    "from .base_metric import BaseMetric\n",
    " from ..query import Query\n",
    " from ..word_embedding import \n",
    " from scipy.spatial import distance\n",
    " import numpy as np\n",
    " \n",
    " \n",
    " class ExampleMetric(BaseMetric):\n",
    "     def __init__(self):\n",
    " \n",
    "         template_needed = (2, 1)\n",
    "         metric_name = 'Example Metric'\n",
    "         metric_short_name = 'EM'\n",
    "         super().__init__(template_needed, metric_name, metric_short_name)\n",
    " \n",
    "     def __calc_metric(self, target_embeddings, attribute_embeddings):\n",
    "         \"\"\"Calculates the metric.\n",
    "         \n",
    "         Parameters\n",
    "         ----------\n",
    "         target_embeddings : np.array\n",
    "             An array with dicts. Each dict represents an target set. A dict is composed with a word and its embedding as key, value respectively.\n",
    "         attribute_embeddings : np.array\n",
    "             An array with dicts. Each dict represents an attribute set. A dict is composed with a word and its embedding as key, value respectively.\n",
    "         \n",
    "         Returns\n",
    "         -------\n",
    "         np.float\n",
    "             The value of the calculated metric.\n",
    "         \"\"\"\n",
    " \n",
    "         # get the embeddings from the dicts\n",
    "         target_embeddings_0 = np.array(list(target_embeddings[0].values()))\n",
    "         target_embeddings_1 = np.array(list(target_embeddings[1].values()))\n",
    " \n",
    "         attribute_embeddings_0 = np.array(\n",
    "             list(attribute_embeddings[0].values()))\n",
    " \n",
    "         # calculate the average embedding by target and attribute set.\n",
    "         target_embeddings_0_avg = np.mean(target_embeddings_0, axis=0)\n",
    "         target_embeddings_1_avg = np.mean(target_embeddings_1, axis=0)\n",
    "         attribute_embeddings_0_avg = np.mean(attribute_embeddings_0, axis=0)\n",
    " \n",
    "         # calculate the distances between the target sets and the attribute set\n",
    "         dist_target_0_attr = distance.cosine(target_embeddings_0_avg,\n",
    "                                              attribute_embeddings_0_avg)\n",
    "         dist_target_1_attr = distance.cosine(target_embeddings_1_avg,\n",
    "                                              attribute_embeddings_0_avg)\n",
    " \n",
    "         # subtract the distances\n",
    "         metric_result = dist_target_0_attr - dist_target_1_attr\n",
    "         return metric_result\n",
    " \n",
    "     def run_query(self, query: Query, word_embedding: ,\n",
    "                   lost_vocabulary_threshold: float = 0.2,\n",
    "                   warn_filtered_words: bool = True):\n",
    " \n",
    "         # check the inputs and get the embeddings\n",
    "         embeddings = self._get_embeddings_from_query(\n",
    "             query, word_embedding, warn_filtered_words,\n",
    "             lost_vocabulary_threshold)\n",
    " \n",
    "         # if there is any/some set has less words than the allowed limit, return the default value (nan)\n",
    "         if embeddings is None:\n",
    "             return {'query_name': query.query_name, 'result': np.nan}\n",
    " \n",
    "         # separate the embedding tuple\n",
    "         target_embeddings, attribute_embeddings = embeddings\n",
    " \n",
    "         # execute the metric\n",
    "         metric_result = self.__calc_metric(target_embeddings,\n",
    "                                            attribute_embeddings)\n",
    " \n",
    "         # return the results.\n",
    "         return {\n",
    "             \"query_name\": query.query_name,\n",
    "             \"result\": metric_result,\n",
    "         }\n",
    "\n",
    "We have completely defined a new metric.\n",
    "Congratulations!\n",
    "\n",
    ".. note::\n",
    "    Some comments regarding the implementation of new metrics:\n",
    "\n",
    "    - Note that the returned object must necessarily be a ``dict`` instance \n",
    "      containing the ``result`` and ``query_name`` key-values. Otherwise you \n",
    "      will not be able to run query batches using utility functions like \n",
    "      ``run_queries``.\n",
    "    - ``run_query`` can receive additional parameters. Simply add them to the \n",
    "      function signature. These parameters can also be used when running the \n",
    "      metric from the ``run_queries`` utility function.\n",
    "    - We recommend implementing the logic of the metric separated from the \n",
    "      ``run_query`` function. In other words, implement the logic in a \n",
    "      ``calc_your_metric`` function that receives the dictionaries with the \n",
    "      necessary embeddings and parameters.\n",
    "    - The file where ``ExampleMetric`` is located can be found inside the \n",
    "      distances folder of the `repository <https://github.com/dccuchile/wefe/blob/master/wefe/metrics/example_metric.py/>`_. \n",
    "\n",
    "Contribute\n",
    "==========\n",
    "\n",
    "If you want to contribute your own metric, please follow the conventions, \n",
    "document everything, create specific tests for the metric, and make a pull \n",
    "request to the project's Github repository. \n",
    "We would really appreciate it! \n",
    "\n",
    "You can visit the `Contributing <contribute.html>`_ section for more information."
   ]
  }
 ],
 "metadata": {
  "kernelspec": {
   "display_name": "Python 3",
   "language": "python",
   "name": "python3"
  },
  "language_info": {
   "codemirror_mode": {
    "name": "ipython",
    "version": 3
   },
   "file_extension": ".py",
   "mimetype": "text/x-python",
   "name": "python",
   "nbconvert_exporter": "python",
   "pygments_lexer": "ipython3",
   "version": "3.8.3"
  },
  "toc": {
   "base_numbering": 1,
   "nav_menu": {},
   "number_sections": true,
   "sideBar": true,
   "skip_h1_title": false,
   "title_cell": "Table of Contents",
   "title_sidebar": "Contents",
   "toc_cell": false,
   "toc_position": {},
   "toc_section_display": true,
   "toc_window_display": false
  },
  "varInspector": {
   "cols": {
    "lenName": 16,
    "lenType": 16,
    "lenVar": 40
   },
   "kernels_config": {
    "python": {
     "delete_cmd_postfix": "",
     "delete_cmd_prefix": "del ",
     "library": "var_list.py",
     "varRefreshCmd": "print(var_dic_list())"
    },
    "r": {
     "delete_cmd_postfix": ") ",
     "delete_cmd_prefix": "rm(",
     "library": "var_list.r",
     "varRefreshCmd": "cat(var_dic_list()) "
    }
   },
   "types_to_exclude": [
    "module",
    "function",
    "builtin_function_or_method",
    "instance",
    "_Feature"
   ],
   "window_display": false
  }
 },
 "nbformat": 4,
 "nbformat_minor": 4
}
