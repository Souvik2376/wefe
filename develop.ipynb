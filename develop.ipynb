{
 "cells": [
  {
   "cell_type": "code",
   "execution_count": null,
   "metadata": {
    "ExecuteTime": {
     "end_time": "2020-04-22T15:32:37.551561Z",
     "start_time": "2020-04-22T15:32:37.491666Z"
    }
   },
   "outputs": [],
   "source": [
    "%load_ext autoreload\n",
    "%autoreload 2"
   ]
  },
  {
   "cell_type": "code",
   "execution_count": null,
   "metadata": {
    "ExecuteTime": {
     "end_time": "2020-04-22T15:32:40.391432Z",
     "start_time": "2020-04-22T15:32:38.561759Z"
    }
   },
   "outputs": [],
   "source": [
    "from wefe.metrics import RNSB, RND\n",
    "from wefe.datasets import load_weat, fetch_eds\n",
    "\n",
    "from wefe.query import Query\n",
    "from wefe.word_embedding_model import WordEmbeddingModel\n",
    "\n",
    "import gensim.downloader as api"
   ]
  },
  {
   "cell_type": "code",
   "execution_count": null,
   "metadata": {
    "ExecuteTime": {
     "end_time": "2020-04-22T15:32:46.012233Z",
     "start_time": "2020-04-22T15:32:40.607176Z"
    }
   },
   "outputs": [],
   "source": [
    "WEAT_wordsets = load_weat()\n",
    "RND_wordsets = fetch_eds()"
   ]
  },
  {
   "cell_type": "code",
   "execution_count": null,
   "metadata": {
    "ExecuteTime": {
     "end_time": "2020-04-22T15:32:46.351680Z",
     "start_time": "2020-04-22T15:32:46.231468Z"
    }
   },
   "outputs": [],
   "source": [
    "query = Query([RND_wordsets['names_white'], RND_wordsets['names_black']],\n",
    "              [WEAT_wordsets['pleasant_5'], WEAT_wordsets['unpleasant_5']],\n",
    "              ['White last names', 'Black last names'],\n",
    "              ['Pleasant', 'Unpleasant'])\n",
    "query2 = Query([RND_wordsets['names_white'], RND_wordsets['names_asian']],\n",
    "              [WEAT_wordsets['pleasant_5'], WEAT_wordsets['unpleasant_5']],\n",
    "              ['White last names', 'Asian last names'],\n",
    "              ['Pleasant', 'Unpleasant'])"
   ]
  },
  {
   "cell_type": "code",
   "execution_count": null,
   "metadata": {
    "ExecuteTime": {
     "end_time": "2020-04-22T15:54:26.459586Z",
     "start_time": "2020-04-22T15:49:44.610141Z"
    }
   },
   "outputs": [],
   "source": [
    "model_1 = WordEmbeddingModel(api.load('glove-wiki-gigaword-100'), 'glove-100')\n",
    "model_2 = WordEmbeddingModel(api.load('glove-wiki-gigaword-200'), 'glove-200')\n",
    "model_3 = WordEmbeddingModel(api.load('glove-wiki-gigaword-300'), 'glove-300')"
   ]
  },
  {
   "cell_type": "code",
   "execution_count": null,
   "metadata": {
    "ExecuteTime": {
     "end_time": "2020-04-22T15:35:09.906179Z",
     "start_time": "2020-04-22T15:35:09.181063Z"
    }
   },
   "outputs": [],
   "source": [
    "r = RNSB().run_query(query, model, num_iterations=100)"
   ]
  },
  {
   "cell_type": "code",
   "execution_count": null,
   "metadata": {},
   "outputs": [],
   "source": [
    "# plot result"
   ]
  },
  {
   "cell_type": "code",
   "execution_count": null,
   "metadata": {
    "ExecuteTime": {
     "end_time": "2020-04-22T15:35:11.005779Z",
     "start_time": "2020-04-22T15:35:10.114726Z"
    }
   },
   "outputs": [],
   "source": [
    "import plotly.express as px\n",
    "import pandas as pd"
   ]
  },
  {
   "cell_type": "code",
   "execution_count": null,
   "metadata": {
    "ExecuteTime": {
     "end_time": "2020-04-22T15:35:11.381010Z",
     "start_time": "2020-04-22T15:35:11.261178Z"
    }
   },
   "outputs": [],
   "source": [
    "df = pd.DataFrame.from_dict(r['negative_sentiment_distribution'], orient='index', columns=['probability'])\n",
    "df = df.reset_index().rename(columns ={'index': 'word'})"
   ]
  },
  {
   "cell_type": "code",
   "execution_count": null,
   "metadata": {
    "ExecuteTime": {
     "end_time": "2020-04-22T15:35:12.950051Z",
     "start_time": "2020-04-22T15:35:11.617029Z"
    }
   },
   "outputs": [],
   "source": [
    "fig = px.bar(df, x=\"word\", y='probability')\n",
    "fig.show()"
   ]
  },
  {
   "cell_type": "code",
   "execution_count": null,
   "metadata": {
    "ExecuteTime": {
     "end_time": "2020-04-22T15:35:19.301359Z",
     "start_time": "2020-04-22T15:35:19.136366Z"
    }
   },
   "outputs": [],
   "source": [
    "from wefe.utils import run_queries"
   ]
  },
  {
   "cell_type": "code",
   "execution_count": null,
   "metadata": {
    "ExecuteTime": {
     "end_time": "2020-04-22T15:58:29.938967Z",
     "start_time": "2020-04-22T15:58:29.780068Z"
    },
    "scrolled": true
   },
   "outputs": [],
   "source": [
    "a = run_queries(RND, [query, query2, query, query, query2],\n",
    "                [model_1, model_2, model_3],\n",
    "                generate_subqueries=True)"
   ]
  },
  {
   "cell_type": "code",
   "execution_count": null,
   "metadata": {
    "ExecuteTime": {
     "end_time": "2020-04-22T15:58:30.594264Z",
     "start_time": "2020-04-22T15:58:30.439099Z"
    }
   },
   "outputs": [],
   "source": [
    "a"
   ]
  },
  {
   "cell_type": "code",
   "execution_count": null,
   "metadata": {
    "ExecuteTime": {
     "end_time": "2020-04-22T16:00:54.399127Z",
     "start_time": "2020-04-22T16:00:54.230588Z"
    }
   },
   "outputs": [],
   "source": [
    "a_2 = run_queries(RND, [query, query2, query, query, query2],\n",
    "                [model_1, model_2, model_3],\n",
    "                generate_subqueries=True,\n",
    "                aggregation_function='avg')\n",
    "a_2"
   ]
  },
  {
   "cell_type": "code",
   "execution_count": null,
   "metadata": {
    "ExecuteTime": {
     "end_time": "2020-04-22T15:58:33.669376Z",
     "start_time": "2020-04-22T15:58:33.499646Z"
    }
   },
   "outputs": [],
   "source": [
    "b = run_queries(RND, [query, query2, query, query, query2],\n",
    "                [model_1, model_2, model_3],\n",
    "                generate_subqueries=True,\n",
    "                aggregation_function='abs_sum')\n",
    "b"
   ]
  },
  {
   "cell_type": "code",
   "execution_count": null,
   "metadata": {
    "ExecuteTime": {
     "end_time": "2020-04-22T15:58:46.789262Z",
     "start_time": "2020-04-22T15:58:46.619424Z"
    }
   },
   "outputs": [],
   "source": [
    "c = run_queries(RND, [query, query2, query, query, query2],\n",
    "                [model_1, model_2, model_3],\n",
    "                generate_subqueries=True,\n",
    "                aggregation_function='sum')\n",
    "c"
   ]
  },
  {
   "cell_type": "code",
   "execution_count": null,
   "metadata": {
    "ExecuteTime": {
     "end_time": "2020-04-22T16:03:59.038981Z",
     "start_time": "2020-04-22T16:03:58.868875Z"
    },
    "scrolled": true
   },
   "outputs": [],
   "source": [
    "d = run_queries(RND, [query, query2, query, query, query2],\n",
    "                [model_1, model_2, model_3],\n",
    "                generate_subqueries=True,\n",
    "                aggregate_results=True,\n",
    "                queries_set_name='Ethnicity',\n",
    "                return_only_aggregation=True\n",
    "               )\n",
    "d"
   ]
  },
  {
   "cell_type": "code",
   "execution_count": null,
   "metadata": {
    "ExecuteTime": {
     "end_time": "2020-04-22T16:17:12.937766Z",
     "start_time": "2020-04-22T16:17:12.778447Z"
    }
   },
   "outputs": [],
   "source": [
    "from wefe.utils import create_ranking, plot_ranking, plot_ranking_correlations, calculate_ranking_correlations"
   ]
  },
  {
   "cell_type": "code",
   "execution_count": null,
   "metadata": {
    "ExecuteTime": {
     "end_time": "2020-04-22T16:17:57.477647Z",
     "start_time": "2020-04-22T16:17:57.329951Z"
    }
   },
   "outputs": [],
   "source": [
    "rank = create_ranking([a, b, c, d])\n",
    "rank"
   ]
  },
  {
   "cell_type": "code",
   "execution_count": null,
   "metadata": {
    "ExecuteTime": {
     "end_time": "2020-04-22T16:19:52.027057Z",
     "start_time": "2020-04-22T16:19:51.618183Z"
    }
   },
   "outputs": [],
   "source": [
    "plot_ranking(rank, use_metric_as_facet=False)"
   ]
  },
  {
   "cell_type": "code",
   "execution_count": null,
   "metadata": {
    "ExecuteTime": {
     "end_time": "2020-04-22T16:18:00.337495Z",
     "start_time": "2020-04-22T16:18:00.157575Z"
    }
   },
   "outputs": [],
   "source": [
    "calculate_ranking_correlations(rank)"
   ]
  },
  {
   "cell_type": "code",
   "execution_count": null,
   "metadata": {},
   "outputs": [],
   "source": [
    "male_terms = ['male', 'man', 'boy']\n",
    "female_terms = ['female', 'woman', 'girl']\n",
    "science_terms = ['science', 'technology', 'physics']\n",
    "query = Query([male_terms, female_terms], [science_terms],\n",
    "              ['Male terms', 'Female terms'], ['Science terms'])\n",
    "query.target_sets_"
   ]
  },
  {
   "cell_type": "markdown",
   "metadata": {
    "ExecuteTime": {
     "end_time": "2020-04-22T18:38:51.741279Z",
     "start_time": "2020-04-22T18:38:51.737262Z"
    }
   },
   "source": [
    "### utils test"
   ]
  },
  {
   "cell_type": "code",
   "execution_count": 31,
   "metadata": {
    "ExecuteTime": {
     "end_time": "2020-04-22T20:14:10.091252Z",
     "start_time": "2020-04-22T20:14:10.086265Z"
    }
   },
   "outputs": [],
   "source": [
    "from wefe.datasets import load_weat\n",
    "from wefe.utils import load_weat_w2v, run_queries\n",
    "from wefe.metrics import WEAT, RND\n",
    "from wefe.query import Query\n",
    "from wefe.word_embedding_model import WordEmbeddingModel"
   ]
  },
  {
   "cell_type": "code",
   "execution_count": 7,
   "metadata": {
    "ExecuteTime": {
     "end_time": "2020-04-22T18:39:09.569207Z",
     "start_time": "2020-04-22T18:39:09.452242Z"
    }
   },
   "outputs": [],
   "source": [
    "word_sets = load_weat()\n",
    "\n",
    "# Create gender queries\n",
    "gender_query_1 = Query(\n",
    "    [word_sets['male_terms'], word_sets['female_terms']],\n",
    "    [word_sets['career'], word_sets['family']],\n",
    "    ['Male terms', 'Female terms'], ['Career', 'Family'])\n",
    "gender_query_2 = Query(\n",
    "    [word_sets['male_terms'], word_sets['female_terms']],\n",
    "    [word_sets['science'], word_sets['arts']],\n",
    "    ['Male terms', 'Female terms'], ['Science', 'Arts'])\n",
    "gender_query_3 = Query(\n",
    "    [word_sets['male_terms'], word_sets['female_terms']],\n",
    "    [word_sets['math'], word_sets['arts_2']],\n",
    "    ['Male terms', 'Female terms'], ['Math', 'Arts'])\n",
    "\n",
    "# Create ethnicity queries\n",
    "test_query_1 = Query([word_sets['insects'], word_sets['flowers']],\n",
    "                     [word_sets['pleasant_5'], word_sets['unpleasant_5']],\n",
    "                     ['Flowers', 'Insects'], ['Pleasant', 'Unpleasant'])\n",
    "\n",
    "test_query_2 = Query([word_sets['weapons'], word_sets['instruments']],\n",
    "                     [word_sets['pleasant_5'], word_sets['unpleasant_5']],\n",
    "                     ['Instruments', 'Weapons'],\n",
    "                     ['Pleasant', 'Unpleasant'])\n",
    "\n",
    "gender_queries = [gender_query_1, gender_query_2, gender_query_3]\n",
    "negative_test_queries = [test_query_1, test_query_2]\n",
    "\n",
    "weat_w2v = load_weat_w2v()\n",
    "dummy_model_1 = weat_w2v\n",
    "dummy_model_2 = weat_w2v\n",
    "dummy_model_3 = weat_w2v\n",
    "\n",
    "models = [\n",
    "    WordEmbeddingModel(dummy_model_1, 'dummy_model_1'),\n",
    "    WordEmbeddingModel(dummy_model_2, 'dummy_model_2'),\n",
    "    WordEmbeddingModel(dummy_model_3, 'dummy_model_3')]"
   ]
  },
  {
   "cell_type": "code",
   "execution_count": 9,
   "metadata": {
    "ExecuteTime": {
     "end_time": "2020-04-22T18:39:13.801793Z",
     "start_time": "2020-04-22T18:39:13.747379Z"
    }
   },
   "outputs": [
    {
     "data": {
      "text/html": [
       "<div>\n",
       "<style scoped>\n",
       "    .dataframe tbody tr th:only-of-type {\n",
       "        vertical-align: middle;\n",
       "    }\n",
       "\n",
       "    .dataframe tbody tr th {\n",
       "        vertical-align: top;\n",
       "    }\n",
       "\n",
       "    .dataframe thead th {\n",
       "        text-align: right;\n",
       "    }\n",
       "</style>\n",
       "<table border=\"1\" class=\"dataframe\">\n",
       "  <thead>\n",
       "    <tr style=\"text-align: right;\">\n",
       "      <th>query_name</th>\n",
       "      <th>Male terms and Female terms wrt Career and Family</th>\n",
       "      <th>Male terms and Female terms wrt Science and Arts</th>\n",
       "      <th>Male terms and Female terms wrt Math and Arts</th>\n",
       "    </tr>\n",
       "    <tr>\n",
       "      <th>model_name</th>\n",
       "      <th></th>\n",
       "      <th></th>\n",
       "      <th></th>\n",
       "    </tr>\n",
       "  </thead>\n",
       "  <tbody>\n",
       "    <tr>\n",
       "      <th>dummy_model_1</th>\n",
       "      <td>0.72803</td>\n",
       "      <td>0.312159</td>\n",
       "      <td>0.301091</td>\n",
       "    </tr>\n",
       "    <tr>\n",
       "      <th>dummy_model_2</th>\n",
       "      <td>0.72803</td>\n",
       "      <td>0.312159</td>\n",
       "      <td>0.301091</td>\n",
       "    </tr>\n",
       "    <tr>\n",
       "      <th>dummy_model_3</th>\n",
       "      <td>0.72803</td>\n",
       "      <td>0.312159</td>\n",
       "      <td>0.301091</td>\n",
       "    </tr>\n",
       "  </tbody>\n",
       "</table>\n",
       "</div>"
      ],
      "text/plain": [
       "query_name     Male terms and Female terms wrt Career and Family  \\\n",
       "model_name                                                         \n",
       "dummy_model_1                                            0.72803   \n",
       "dummy_model_2                                            0.72803   \n",
       "dummy_model_3                                            0.72803   \n",
       "\n",
       "query_name     Male terms and Female terms wrt Science and Arts  \\\n",
       "model_name                                                        \n",
       "dummy_model_1                                          0.312159   \n",
       "dummy_model_2                                          0.312159   \n",
       "dummy_model_3                                          0.312159   \n",
       "\n",
       "query_name     Male terms and Female terms wrt Math and Arts  \n",
       "model_name                                                    \n",
       "dummy_model_1                                       0.301091  \n",
       "dummy_model_2                                       0.301091  \n",
       "dummy_model_3                                       0.301091  "
      ]
     },
     "execution_count": 9,
     "metadata": {},
     "output_type": "execute_result"
    }
   ],
   "source": [
    "results = run_queries(WEAT, gender_queries, models)\n",
    "results"
   ]
  },
  {
   "cell_type": "code",
   "execution_count": 11,
   "metadata": {
    "ExecuteTime": {
     "end_time": "2020-04-22T18:39:38.597956Z",
     "start_time": "2020-04-22T18:39:38.593818Z"
    }
   },
   "outputs": [],
   "source": [
    "expected_cols = [\n",
    "        'Male terms and Female terms wrt Career and Family',\n",
    "        'Male terms and Female terms wrt Science and Arts',\n",
    "        'Male terms and Female terms wrt Math and Arts'\n",
    "    ]\n",
    "\n",
    "for given_col, expected_col in zip(results.columns, expected_cols):\n",
    "        assert given_col == expected_col\n"
   ]
  },
  {
   "cell_type": "code",
   "execution_count": 12,
   "metadata": {
    "ExecuteTime": {
     "end_time": "2020-04-22T18:39:48.667117Z",
     "start_time": "2020-04-22T18:39:48.664147Z"
    }
   },
   "outputs": [],
   "source": [
    "expected_index = ['dummy_model_1', 'dummy_model_2', 'dummy_model_3']\n",
    "\n",
    "\n",
    "for given_idx, expected_idx in zip(results.index, expected_index):\n",
    "        assert given_idx, expected_idx\n"
   ]
  },
  {
   "cell_type": "code",
   "execution_count": 21,
   "metadata": {
    "ExecuteTime": {
     "end_time": "2020-04-22T18:41:41.113331Z",
     "start_time": "2020-04-22T18:41:41.109396Z"
    }
   },
   "outputs": [],
   "source": [
    "for row in results.values:\n",
    "    for value in row:\n",
    "        assert isinstance(value, (np.float_, np.nan))"
   ]
  },
  {
   "cell_type": "code",
   "execution_count": 27,
   "metadata": {
    "ExecuteTime": {
     "end_time": "2020-04-22T19:22:42.349447Z",
     "start_time": "2020-04-22T19:22:42.135812Z"
    }
   },
   "outputs": [],
   "source": [
    "results = run_queries(WEAT,\n",
    "                          negative_test_queries,\n",
    "                          models,\n",
    "                          aggregate_results=True,\n",
    "                          aggregation_function='abs_avg')"
   ]
  },
  {
   "cell_type": "code",
   "execution_count": 29,
   "metadata": {
    "ExecuteTime": {
     "end_time": "2020-04-22T19:56:35.993759Z",
     "start_time": "2020-04-22T19:56:35.963925Z"
    }
   },
   "outputs": [
    {
     "data": {
      "text/html": [
       "<div>\n",
       "<style scoped>\n",
       "    .dataframe tbody tr th:only-of-type {\n",
       "        vertical-align: middle;\n",
       "    }\n",
       "\n",
       "    .dataframe tbody tr th {\n",
       "        vertical-align: top;\n",
       "    }\n",
       "\n",
       "    .dataframe thead th {\n",
       "        text-align: right;\n",
       "    }\n",
       "</style>\n",
       "<table border=\"1\" class=\"dataframe\">\n",
       "  <thead>\n",
       "    <tr style=\"text-align: right;\">\n",
       "      <th></th>\n",
       "      <th>Flowers and Insects wrt Pleasant and Unpleasant</th>\n",
       "      <th>Instruments and Weapons wrt Pleasant and Unpleasant</th>\n",
       "      <th>WEAT: Unnamed queries set average of abs values score</th>\n",
       "    </tr>\n",
       "    <tr>\n",
       "      <th>model_name</th>\n",
       "      <th></th>\n",
       "      <th></th>\n",
       "      <th></th>\n",
       "    </tr>\n",
       "  </thead>\n",
       "  <tbody>\n",
       "    <tr>\n",
       "      <th>dummy_model_1</th>\n",
       "      <td>1.407829</td>\n",
       "      <td>1.747649</td>\n",
       "      <td>-1.577739</td>\n",
       "    </tr>\n",
       "    <tr>\n",
       "      <th>dummy_model_2</th>\n",
       "      <td>1.407829</td>\n",
       "      <td>1.747649</td>\n",
       "      <td>-1.577739</td>\n",
       "    </tr>\n",
       "    <tr>\n",
       "      <th>dummy_model_3</th>\n",
       "      <td>1.407829</td>\n",
       "      <td>1.747649</td>\n",
       "      <td>-1.577739</td>\n",
       "    </tr>\n",
       "  </tbody>\n",
       "</table>\n",
       "</div>"
      ],
      "text/plain": [
       "               Flowers and Insects wrt Pleasant and Unpleasant  \\\n",
       "model_name                                                       \n",
       "dummy_model_1                                         1.407829   \n",
       "dummy_model_2                                         1.407829   \n",
       "dummy_model_3                                         1.407829   \n",
       "\n",
       "               Instruments and Weapons wrt Pleasant and Unpleasant  \\\n",
       "model_name                                                           \n",
       "dummy_model_1                                           1.747649     \n",
       "dummy_model_2                                           1.747649     \n",
       "dummy_model_3                                           1.747649     \n",
       "\n",
       "               WEAT: Unnamed queries set average of abs values score  \n",
       "model_name                                                            \n",
       "dummy_model_1                                          -1.577739      \n",
       "dummy_model_2                                          -1.577739      \n",
       "dummy_model_3                                          -1.577739      "
      ]
     },
     "execution_count": 29,
     "metadata": {},
     "output_type": "execute_result"
    }
   ],
   "source": [
    "-results"
   ]
  },
  {
   "cell_type": "code",
   "execution_count": 34,
   "metadata": {
    "ExecuteTime": {
     "end_time": "2020-04-22T20:15:17.672332Z",
     "start_time": "2020-04-22T20:15:17.659357Z"
    }
   },
   "outputs": [],
   "source": [
    "results = run_queries(RND,\n",
    "                      gender_queries,\n",
    "                      models,\n",
    "                      generate_subqueries=True)"
   ]
  },
  {
   "cell_type": "code",
   "execution_count": 38,
   "metadata": {
    "ExecuteTime": {
     "end_time": "2020-04-22T20:16:28.008771Z",
     "start_time": "2020-04-22T20:16:28.003785Z"
    }
   },
   "outputs": [
    {
     "data": {
      "text/plain": [
       "'Male terms and Female terms wrt Career and Family'"
      ]
     },
     "execution_count": 38,
     "metadata": {},
     "output_type": "execute_result"
    }
   ],
   "source": [
    "gender_queries[0].query_name_"
   ]
  },
  {
   "cell_type": "code",
   "execution_count": 39,
   "metadata": {
    "ExecuteTime": {
     "end_time": "2020-04-22T20:16:33.085721Z",
     "start_time": "2020-04-22T20:16:33.080735Z"
    }
   },
   "outputs": [
    {
     "data": {
      "text/plain": [
       "'Male terms and Female terms wrt Science and Arts'"
      ]
     },
     "execution_count": 39,
     "metadata": {},
     "output_type": "execute_result"
    }
   ],
   "source": [
    "gender_queries[1].query_name_"
   ]
  },
  {
   "cell_type": "code",
   "execution_count": 40,
   "metadata": {
    "ExecuteTime": {
     "end_time": "2020-04-22T20:16:37.582419Z",
     "start_time": "2020-04-22T20:16:37.577459Z"
    }
   },
   "outputs": [
    {
     "data": {
      "text/plain": [
       "'Male terms and Female terms wrt Math and Arts'"
      ]
     },
     "execution_count": 40,
     "metadata": {},
     "output_type": "execute_result"
    }
   ],
   "source": [
    "gender_queries[2].query_name_"
   ]
  },
  {
   "cell_type": "code",
   "execution_count": 35,
   "metadata": {
    "ExecuteTime": {
     "end_time": "2020-04-22T20:15:18.855065Z",
     "start_time": "2020-04-22T20:15:18.846081Z"
    }
   },
   "outputs": [
    {
     "data": {
      "text/html": [
       "<div>\n",
       "<style scoped>\n",
       "    .dataframe tbody tr th:only-of-type {\n",
       "        vertical-align: middle;\n",
       "    }\n",
       "\n",
       "    .dataframe tbody tr th {\n",
       "        vertical-align: top;\n",
       "    }\n",
       "\n",
       "    .dataframe thead th {\n",
       "        text-align: right;\n",
       "    }\n",
       "</style>\n",
       "<table border=\"1\" class=\"dataframe\">\n",
       "  <thead>\n",
       "    <tr style=\"text-align: right;\">\n",
       "      <th>query_name</th>\n",
       "      <th>Male terms and Female terms wrt Career</th>\n",
       "      <th>Male terms and Female terms wrt Family</th>\n",
       "      <th>Male terms and Female terms wrt Science</th>\n",
       "      <th>Male terms and Female terms wrt Arts</th>\n",
       "      <th>Male terms and Female terms wrt Math</th>\n",
       "    </tr>\n",
       "    <tr>\n",
       "      <th>model_name</th>\n",
       "      <th></th>\n",
       "      <th></th>\n",
       "      <th></th>\n",
       "      <th></th>\n",
       "      <th></th>\n",
       "    </tr>\n",
       "  </thead>\n",
       "  <tbody>\n",
       "    <tr>\n",
       "      <th>dummy_model_1</th>\n",
       "      <td>-0.249261</td>\n",
       "      <td>-0.022747</td>\n",
       "      <td>-0.19374</td>\n",
       "      <td>-0.109587</td>\n",
       "      <td>-0.187317</td>\n",
       "    </tr>\n",
       "    <tr>\n",
       "      <th>dummy_model_2</th>\n",
       "      <td>-0.249261</td>\n",
       "      <td>-0.022747</td>\n",
       "      <td>-0.19374</td>\n",
       "      <td>-0.109587</td>\n",
       "      <td>-0.187317</td>\n",
       "    </tr>\n",
       "    <tr>\n",
       "      <th>dummy_model_3</th>\n",
       "      <td>-0.249261</td>\n",
       "      <td>-0.022747</td>\n",
       "      <td>-0.19374</td>\n",
       "      <td>-0.109587</td>\n",
       "      <td>-0.187317</td>\n",
       "    </tr>\n",
       "  </tbody>\n",
       "</table>\n",
       "</div>"
      ],
      "text/plain": [
       "query_name     Male terms and Female terms wrt Career  \\\n",
       "model_name                                              \n",
       "dummy_model_1                               -0.249261   \n",
       "dummy_model_2                               -0.249261   \n",
       "dummy_model_3                               -0.249261   \n",
       "\n",
       "query_name     Male terms and Female terms wrt Family  \\\n",
       "model_name                                              \n",
       "dummy_model_1                               -0.022747   \n",
       "dummy_model_2                               -0.022747   \n",
       "dummy_model_3                               -0.022747   \n",
       "\n",
       "query_name     Male terms and Female terms wrt Science  \\\n",
       "model_name                                               \n",
       "dummy_model_1                                 -0.19374   \n",
       "dummy_model_2                                 -0.19374   \n",
       "dummy_model_3                                 -0.19374   \n",
       "\n",
       "query_name     Male terms and Female terms wrt Arts  \\\n",
       "model_name                                            \n",
       "dummy_model_1                             -0.109587   \n",
       "dummy_model_2                             -0.109587   \n",
       "dummy_model_3                             -0.109587   \n",
       "\n",
       "query_name     Male terms and Female terms wrt Math  \n",
       "model_name                                           \n",
       "dummy_model_1                             -0.187317  \n",
       "dummy_model_2                             -0.187317  \n",
       "dummy_model_3                             -0.187317  "
      ]
     },
     "execution_count": 35,
     "metadata": {},
     "output_type": "execute_result"
    }
   ],
   "source": [
    "results"
   ]
  }
 ],
 "metadata": {
  "kernelspec": {
   "display_name": "Python 3",
   "language": "python",
   "name": "python3"
  },
  "language_info": {
   "codemirror_mode": {
    "name": "ipython",
    "version": 3
   },
   "file_extension": ".py",
   "mimetype": "text/x-python",
   "name": "python",
   "nbconvert_exporter": "python",
   "pygments_lexer": "ipython3",
   "version": "3.7.6"
  },
  "varInspector": {
   "cols": {
    "lenName": 16,
    "lenType": 16,
    "lenVar": 40
   },
   "kernels_config": {
    "python": {
     "delete_cmd_postfix": "",
     "delete_cmd_prefix": "del ",
     "library": "var_list.py",
     "varRefreshCmd": "print(var_dic_list())"
    },
    "r": {
     "delete_cmd_postfix": ") ",
     "delete_cmd_prefix": "rm(",
     "library": "var_list.r",
     "varRefreshCmd": "cat(var_dic_list()) "
    }
   },
   "types_to_exclude": [
    "module",
    "function",
    "builtin_function_or_method",
    "instance",
    "_Feature"
   ],
   "window_display": false
  }
 },
 "nbformat": 4,
 "nbformat_minor": 4
}
