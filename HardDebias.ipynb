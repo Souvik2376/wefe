{
 "cells": [
  {
   "cell_type": "markdown",
   "id": "ahead-writing",
   "metadata": {},
   "source": [
    "# Ejemplo DebiasWE"
   ]
  },
  {
   "cell_type": "code",
   "execution_count": 1,
   "id": "adapted-kidney",
   "metadata": {
    "ExecuteTime": {
     "end_time": "2021-03-25T22:13:59.335021Z",
     "start_time": "2021-03-25T22:13:59.247022Z"
    }
   },
   "outputs": [],
   "source": [
    "%load_ext autoreload\n",
    "%autoreload 2"
   ]
  },
  {
   "cell_type": "code",
   "execution_count": 2,
   "id": "together-ready",
   "metadata": {
    "ExecuteTime": {
     "end_time": "2021-03-25T22:14:03.504078Z",
     "start_time": "2021-03-25T22:13:59.338022Z"
    }
   },
   "outputs": [],
   "source": [
    "import gensim\n",
    "from gensim.models import KeyedVectors\n",
    "\n",
    "import numpy as np\n",
    "\n",
    "import pandas as pd\n",
    "from sklearn.manifold import TSNE\n",
    "import plotly.express as px\n"
   ]
  },
  {
   "cell_type": "code",
   "execution_count": 3,
   "id": "internal-fundamental",
   "metadata": {
    "ExecuteTime": {
     "end_time": "2021-03-25T22:14:03.614102Z",
     "start_time": "2021-03-25T22:14:03.507022Z"
    }
   },
   "outputs": [],
   "source": [
    "# w2v = KeyedVectors.load_word2vec_format('D:/gensim-data/word2vec-google-news-300/word2vec-google-news-300/GoogleNews-vectors-negative300.bin', binary=True)"
   ]
  },
  {
   "cell_type": "code",
   "execution_count": 4,
   "id": "invisible-execution",
   "metadata": {
    "ExecuteTime": {
     "end_time": "2021-03-25T22:14:03.818019Z",
     "start_time": "2021-03-25T22:14:03.617021Z"
    }
   },
   "outputs": [],
   "source": [
    "definitional_pairs = [[\"woman\", \"man\"], [\"girl\", \"boy\"], [\"she\", \"he\"], [\"mother\", \"father\"], [\"daughter\", \"son\"], [\"gal\", \"guy\"], [\"female\", \"male\"], [\"her\", \"his\"], [\"herself\", \"himself\"], [\"Mary\", \"John\"]]\n",
    "equalize_pairs = [[\"monastery\", \"convent\"], [\"spokesman\", \"spokeswoman\"], [\"Catholic_priest\", \"nun\"], [\"Dad\", \"Mom\"], [\"Men\", \"Women\"], [\"councilman\", \"councilwoman\"], [\"grandpa\", \"grandma\"], [\"grandsons\", \"granddaughters\"], [\"prostate_cancer\", \"ovarian_cancer\"], [\"testosterone\", \"estrogen\"], [\"uncle\", \"aunt\"], [\"wives\", \"husbands\"], [\"Father\", \"Mother\"], [\"Grandpa\", \"Grandma\"], [\"He\", \"She\"], [\"boy\", \"girl\"], [\"boys\", \"girls\"], [\"brother\", \"sister\"], [\"brothers\", \"sisters\"], [\"businessman\", \"businesswoman\"], [\"chairman\", \"chairwoman\"], [\"colt\", \"filly\"], [\"congressman\", \"congresswoman\"], [\"dad\", \"mom\"], [\"dads\", \"moms\"], [\"dudes\", \"gals\"], [\"ex_girlfriend\", \"ex_boyfriend\"], [\"father\", \"mother\"], [\"fatherhood\", \"motherhood\"], [\"fathers\", \"mothers\"], [\"fella\", \"granny\"], [\"fraternity\", \"sorority\"], [\"gelding\", \"mare\"], [\"gentleman\", \"lady\"], [\"gentlemen\", \"ladies\"], [\"grandfather\", \"grandmother\"], [\"grandson\", \"granddaughter\"], [\"he\", \"she\"], [\"himself\", \"herself\"], [\"his\", \"her\"], [\"king\", \"queen\"], [\"kings\", \"queens\"], [\"male\", \"female\"], [\"males\", \"females\"], [\"man\", \"woman\"], [\"men\", \"women\"], [\"nephew\", \"niece\"], [\"prince\", \"princess\"], [\"schoolboy\", \"schoolgirl\"], [\"son\", \"daughter\"], [\"sons\", \"daughters\"], [\"twin_brother\", \"twin_sister\"]]\n",
    "gender_specific = [\"he\", \"his\", \"He\", \"her\", \"she\", \"him\", \"She\", \"man\", \"women\", \"men\", \"His\", \"woman\", \"spokesman\", \"wife\", \"himself\", \"son\", \"mother\", \"father\", \"chairman\", \"daughter\", \"husband\", \"guy\", \"girls\", \"girl\", \"Her\", \"boy\", \"King\", \"boys\", \"brother\", \"Chairman\", \"spokeswoman\", \"female\", \"sister\", \"Women\", \"Man\", \"male\", \"herself\", \"Lions\", \"Lady\", \"brothers\", \"dad\", \"actress\", \"mom\", \"sons\", \"girlfriend\", \"Kings\", \"Men\", \"daughters\", \"Prince\", \"Queen\", \"teenager\", \"lady\", \"Bulls\", \"boyfriend\", \"sisters\", \"Colts\", \"mothers\", \"Sir\", \"king\", \"businessman\", \"Boys\", \"grandmother\", \"grandfather\", \"deer\", \"cousin\", \"Woman\", \"ladies\", \"Girls\", \"Father\", \"uncle\", \"PA\", \"Boy\", \"Councilman\", \"mum\", \"Brothers\", \"MA\", \"males\", \"Girl\", \"Mom\", \"Guy\", \"Queens\", \"congressman\", \"Dad\", \"Mother\", \"grandson\", \"twins\", \"bull\", \"queen\", \"businessmen\", \"wives\", \"widow\", \"nephew\", \"bride\", \"females\", \"aunt\", \"Congressman\", \"prostate_cancer\", \"lesbian\", \"chairwoman\", \"fathers\", \"Son\", \"moms\", \"Ladies\", \"maiden\", \"granddaughter\", \"younger_brother\", \"Princess\", \"Guys\", \"lads\", \"Ma\", \"Sons\", \"lion\", \"Bachelor\", \"gentleman\", \"fraternity\", \"bachelor\", \"niece\", \"Lion\", \"Sister\", \"bulls\", \"husbands\", \"prince\", \"colt\", \"salesman\", \"Bull\", \"Sisters\", \"hers\", \"dude\", \"Spokesman\", \"beard\", \"filly\", \"Actress\", \"Him\", \"princess\", \"Brother\", \"lesbians\", \"councilman\", \"actresses\", \"Viagra\", \"gentlemen\", \"stepfather\", \"Deer\", \"monks\", \"Beard\", \"Uncle\", \"ex_girlfriend\", \"lad\", \"sperm\", \"Daddy\", \"testosterone\", \"MAN\", \"Female\", \"nephews\", \"maid\", \"daddy\", \"mare\", \"fiance\", \"Wife\", \"fiancee\", \"kings\", \"dads\", \"waitress\", \"Male\", \"maternal\", \"heroine\", \"feminist\", \"Mama\", \"nieces\", \"girlfriends\", \"Councilwoman\", \"sir\", \"stud\", \"Mothers\", \"mistress\", \"lions\", \"estranged_wife\", \"womb\", \"Brotherhood\", \"Statesman\", \"grandma\", \"maternity\", \"estrogen\", \"ex_boyfriend\", \"widows\", \"gelding\", \"diva\", \"teenage_girls\", \"nuns\", \"Daughter\", \"czar\", \"ovarian_cancer\", \"HE\", \"Monk\", \"countrymen\", \"Grandma\", \"teenage_girl\", \"penis\", \"bloke\", \"nun\", \"Husband\", \"brides\", \"housewife\", \"spokesmen\", \"suitors\", \"menopause\", \"monastery\", \"patriarch\", \"Beau\", \"motherhood\", \"brethren\", \"stepmother\", \"Dude\", \"prostate\", \"Moms\", \"hostess\", \"twin_brother\", \"Colt\", \"schoolboy\", \"eldest\", \"brotherhood\", \"Godfather\", \"fillies\", \"stepson\", \"congresswoman\", \"Chairwoman\", \"Daughters\", \"uncles\", \"witch\", \"Mommy\", \"monk\", \"viagra\", \"paternity\", \"suitor\", \"chick\", \"Pa\", \"fianc\\u00e9\", \"sorority\", \"macho\", \"Spokeswoman\", \"businesswoman\", \"eldest_son\", \"gal\", \"statesman\", \"schoolgirl\", \"fathered\", \"goddess\", \"hubby\", \"mares\", \"stepdaughter\", \"blokes\", \"dudes\", \"socialite\", \"strongman\", \"Witch\", \"fianc\\u00e9e\", \"uterus\", \"grandsons\", \"Bride\", \"studs\", \"mama\", \"Aunt\", \"godfather\", \"hens\", \"hen\", \"mommy\", \"Babe\", \"estranged_husband\", \"Fathers\", \"elder_brother\", \"boyhood\", \"baritone\", \"Diva\", \"Lesbian\", \"grandmothers\", \"grandpa\", \"boyfriends\", \"feminism\", \"countryman\", \"stallion\", \"heiress\", \"queens\", \"Grandpa\", \"witches\", \"aunts\", \"semen\", \"fella\", \"granddaughters\", \"chap\", \"knight\", \"widower\", \"Maiden\", \"salesmen\", \"convent\", \"KING\", \"vagina\", \"beau\", \"babe\", \"HIS\", \"beards\", \"handyman\", \"twin_sister\", \"maids\", \"gals\", \"housewives\", \"Gentlemen\", \"horsemen\", \"Businessman\", \"obstetrics\", \"fatherhood\", \"beauty_queen\", \"councilwoman\", \"princes\", \"matriarch\", \"colts\", \"manly\", \"ma\", \"fraternities\", \"Spokesmen\", \"pa\", \"fellas\", \"Gentleman\", \"councilmen\", \"dowry\", \"barbershop\", \"Monks\", \"WOMAN\", \"fraternal\", \"ballerina\", \"manhood\", \"Dads\", \"heroines\", \"granny\", \"gynecologist\", \"princesses\", \"Goddess\", \"yo\", \"Granny\", \"knights\", \"eldest_daughter\", \"HER\", \"underage_girls\", \"masculinity\", \"Girlfriend\", \"bro\", \"Grandmother\", \"grandfathers\", \"crown_prince\", \"Restless\", \"paternal\", \"Queen_Mother\", \"Boyfriend\", \"womens\", \"Males\", \"SHE\", \"Countess\", \"stepchildren\", \"Belles\", \"bachelors\", \"matron\", \"momma\", \"Legs\", \"maidens\", \"goddesses\", \"landlady\", \"sisterhood\", \"Grandfather\", \"Fraternity\", \"Majesty\", \"Babes\", \"lass\", \"maternal_grandmother\", \"blondes\", \"ma'am\", \"Womens\", \"divorcee\", \"Momma\", \"fathering\", \"Effie\", \"Lad\", \"womanhood\", \"missus\", \"Sisterhood\", \"granddad\", \"Mens\", \"papa\", \"gf\", \"sis\", \"Husbands\", \"Hen\", \"womanizer\", \"gynecological\", \"stepsister\", \"Handsome\", \"Prince_Charming\", \"BOY\", \"stepdad\", \"teen_ager\", \"GIRL\", \"dame\", \"Sorority\", \"beauty_pageants\", \"raspy\", \"harem\", \"maternal_grandfather\", \"Hes\", \"deliveryman\", \"septuagenarian\", \"damsel\", \"paternal_grandmother\", \"paramour\", \"paternal_grandparents\", \"Nun\", \"DAD\", \"mothering\", \"shes\", \"HE_'S\", \"Nuns\", \"teenage_daughters\", \"auntie\", \"widowed_mother\", \"Girlfriends\", \"FATHER\", \"virile\", \"COUPLE\", \"grandmas\", \"Hubby\", \"nan\", \"vixen\", \"Joan_Crawford\", \"stepdaughters\", \"endometrial_cancer\", \"stepsons\", \"loins\", \"Grandson\", \"Mitchells\", \"erections\", \"Matron\", \"Fella\", \"daddies\", \"ter\", \"Sweetie\", \"Dudes\", \"Princesses\", \"Lads\", \"lioness\", \"Mamma\", \"virility\", \"bros\", \"womenfolk\", \"Heir\", \"BROTHERS\", \"manliness\", \"patriarchs\", \"earl\", \"sisterly\", \"Whore\", \"Gynaecology\", \"countess\", \"convents\", \"Oratory\", \"witch_doctor\", \"mamas\", \"yah\", \"aunty\", \"aunties\", \"Heiress\", \"lasses\", \"Breasts\", \"fairer_sex\", \"sorority_sisters\", \"WIFE\", \"Laurels\", \"penile\", \"nuh\", \"mah\", \"toms\", \"mam\", \"Granddad\", \"premenopausal_women\", \"Granddaddy\", \"nana\", \"coeds\", \"dames\", \"herdsman\", \"Mammy\", \"Fellas\", \"Niece\", \"menfolk\", \"Grandad\", \"bloods\", \"Gramps\", \"damsels\", \"Granddaughter\", \"mamma\", \"concubine\", \"Oros\", \"Blarney\", \"filial\", \"broads\", \"Ethel_Kennedy\", \"ACTRESS\", \"Tit\", \"fianc\", \"Hunk\", \"Night_Shift\", \"wifey\", \"Lothario\", \"Holy_Roman_Emperor\", \"horse_breeder\", \"grandnephew\", \"Lewises\", \"Muscular\", \"feminist_movement\", \"Sanan\", \"women\\u00e2_\\u20ac_\\u2122\", \"Fiancee\", \"dowries\", \"Carmelite\", \"rah\", \"n_roller\", \"bay_filly\", \"belles\", \"Uncles\", \"PRINCESS\", \"womans\", \"Homeboy\", \"Blokes\", \"Charmer\", \"codger\", \"Delta_Zeta\", \"courtesans\", \"grandaughter\", \"SISTER\", \"Highness\", \"grandbabies\", \"crone\", \"Skip_Away\", \"noblewoman\", \"bf\", \"jane\", \"philandering_husband\", \"Sisqo\", \"mammy\", \"daugher\", \"director_Skip_Bertman\", \"DAUGHTER\", \"Royal_Highness\", \"mannish\", \"spinsters\", \"Missus\", \"madame\", \"Godfathers\", \"saleswomen\", \"beaus\", \"Risha\", \"luh\", \"sah\", \"negligee\", \"Women\\u00e2_\\u20ac_\\u2122\", \"Hos\", \"salesgirl\", \"grandmom\", \"Grandmas\", \"Lawsons\", \"countrywomen\", \"Booby\", \"darlin\", \"Sheiks\", \"boyz\", \"wifes\", \"Bayi\", \"Il_Duce\", \"\\u00e2_\\u20ac_\\u0153My\", \"fem\", \"daugther\", \"Potti\", \"hussy\", \"tch\", \"Gelding\", \"stemmed_roses\", \"Damson\", \"puh\", \"Tylers\", \"neice\", \"Mutha\", \"GRANDMOTHER\", \"youse\", \"spurned_lover\", \"mae\", \"Britt_Ekland\", \"clotheshorse\", \"Carlita_Kilpatrick\", \"Cambest\", \"Pretty_Polly\", \"banshees\", \"male_chauvinist\", \"Arliss\", \"mommas\", \"maidservant\", \"Gale_Harold\", \"Little_Bo_Peep\", \"Cleavers\", \"hags\", \"blowsy\", \"Queen_Elizabeth_I.\", \"lassies\", \"papas\", \"BABE\", \"ugly_ducklings\", \"Jims\", \"hellion\", \"Beautician\", \"coalminer\", \"relaxin\", \"El_Mahroug\", \"Victoria_Secret_Angel\", \"shepherdess\", \"Mosco\", \"Slacks\", \"nanna\", \"wifely\", \"tomboys\", \"LAH\", \"hast\", \"apo\", \"Kaplans\", \"milkmaid\", \"Robin_Munis\", \"John_Barleycorn\", \"royal_highness\", \"Meanie\", \"NAH\", \"trollop\", \"roh\", \"Jewess\", \"Sheik_Hamad\", \"mumsy\", \"Big_Pussy\", \"chil_dren\", \"Aunt_Bea\", \"basso\", \"sista\", \"girlies\", \"nun_Sister\", \"chica\", \"Bubbas\", \"massa\", \"Southern_belles\", \"Nephews\", \"castrations\", \"Mister_Ed\", \"Grandsons\", \"Calaf\", \"Malachy_McCourt\", \"Shamash\", \"hey_hey\", \"Harmen\", \"sonofabitch\", \"Donovans\", \"Grannie\", \"Kalinka\", \"hisself\", \"Devean\", \"goatherd\", \"hinds\", \"El_Corredor\", \"Kens\", \"notorious_womanizer\", \"goh\", \"Mommas\", \"washerwoman\", \"Samaira\", \"Coo_Coo\", \"Governess\", \"grandsire\", \"PRINCE_WILLIAM\", \"gramma\", \"him.He\", \"Coptic_priest\", \"Corbie\", \"Kennys\", \"thathe\", \"Pa_Pa\", \"Bristols\", \"Hotep\", \"snowy_haired\", \"El_Prado_Ire\", \"Girl_hitmaker\", \"Hurleys\", \"St._Meinrad\", \"sexually_perverted\", \"authoress\", \"Prudie\", \"raven_haired_beauty\", \"Bonos\", \"domestic_shorthair\", \"brothas\", \"nymphet\", \"Neelma\", \"Seita\", \"stud_muffin\", \"St._Judes\", \"yenta\", \"bare_shouldered\", \"Pinkney_Sr.\", \"PRINCE_CHARLES\", \"Bisutti\", \"sistas\", \"Blanche_Devereaux\", \"Momoa\", \"Quiff\", \"Scotswoman\", \"balaclava_clad_men\", \"Louis_Leakey\", \"dearie\", \"vacuum_cleaner_salesman\", \"grandads\", \"postulant\", \"SARAH_JESSICA_PARKER\", \"AUNT\", \"Prince_Dauntless\", \"Dalys\", \"Darkie\", \"Czar_Nicholas\", \"Lion_Hearted\", \"Boy_recliner\", \"baby_mamas\", \"giantess\", \"Lawd\", \"GRANNY\", \"fianc_e\", \"Bilqis\", \"WCTU\", \"famly\", \"Ellas\", \"feminazis\", \"Pentheus\", \"MAMAS\", \"Town_Criers\", \"Saggy\", \"youngman\", \"grandam\", \"divorc\\u00e9\", \"bosomed\", \"roon\", \"Simmentals\", \"eponymous_heroine\", \"LEYLAND\", \"REE'\", \"cain't\", \"Evelynn\", \"WAH'\", \"sistah\", \"Horners\", \"Elsie_Poncher\", \"Coochie\", \"rat_terriers\", \"Limousins\", \"Buchinski\", \"Schicchi\", \"Carpitcher\", \"Khwezi\", \"HAH'\", \"Shazza\", \"Mackeson\", \"ROH'\", \"kuya\", \"novice_nun\", \"Shei\", \"Elmasri\", \"ladykiller\", \"6yo\", \"Yenta\", \"SHEL\", \"pater\", \"Souse\", \"Tahirah\", \"comedian_Rodney_Dangerfield\", \"Shottle\", \"carryin\", \"Sath\", \"fa'afafine\", \"royal_consort\", \"hus_band\", \"maternal_uncles\", \"dressing_provocatively\", \"dreamgirl\", \"millionaire_industrialist\", \"Georgie_Girl\", \"Must_Be_Obeyed\", \"joh\", \"Arabian_stallion\", \"ahr\", \"mso_para_margin_0in\", \"SOO'\", \"Biddles\", \"Chincoteague_Volunteer_Fire\", \"Lisa_Miceli\", \"gorgeous_brunette\", \"fianc\\u017d\", \"Moved_fluently\", \"Afternoon_Deelites\", \"biker_dude\", \"Vito_Spatafore\", \"MICK_JAGGER\", \"Adesida\", \"Reineman\", \"witz\", \"Djamila\", \"Glenroe\", \"daddys\", \"Romanzi\", \"gentlewomen\", \"Dandie_Dinmont_terrier\", \"Excess_Ire\", \"By_SYVJ_Staff\", \"zan\", \"CONFESSIONS\", \"Magees\", \"wimmin\", \"tash\", \"Theatrical_Ire\", \"Prince_Charmings\", \"chocolate_eclair\", \"bron\", \"daughers\", \"Felly\", \"fiftyish\", \"Spritely\", \"GRANDPA\", \"distaffer\", \"Norbertines\", \"DAH'\", \"leader_Muammar_Gadaffi\", \"swains\", \"Prince_Tomohito\", \"Honneur\", \"Soeur\", \"jouster\", \"Pharaoh_Amenhotep_III\", \"QUEEN_ELIZABETH_II\", \"Ne'er\", \"Galileo_Ire\", \"Fools_Crow\", \"Lannisters\", \"Devines\", \"gonzales\", \"columnist_Ann_Landers\", \"Moseleys\", \"hiz\", \"busch\", \"roastee\", \"toyboys\", \"Sheffields\", \"grandaunt\", \"Galvins\", \"Giongo\", \"geh\", \"flame_haired_actress\", \"Grammarian\", \"Greg_Evigan\", \"frontierswoman\", \"Debele\", \"rabs\", \"nymphets\", \"aai\", \"BREE\", \"Shaqs\", \"ZAY\", \"pappa\", \"Housa\", \"refrigerator_repairman\", \"artificial_inseminations\", \"chickie\", \"Rippa\", \"teenager_Tracy_Turnblad\", \"homebred_colt\", \"Abigaille\", \"hen_pecked_husband\", \"businesman\", \"her.She\", \"Kaikeyi\", \"Stittsworth\", \"self_proclaimed_redneck\", \"Khella\", \"NeW\", \"Evers_Swindell\", \"Asmerom_Gebreselassie\", \"Boy_recliners\", \"Cliff_Claven\", \"Legge_Bourke\", \"Costos\", \"d'_honneur\", \"sistahs\", \"Cabble\", \"sahn\", \"CROW_AGENCY_Mont\", \"jezebel\", \"Harrolds\", \"ROSARIO_DAWSON\", \"INXS_frontman_Michael_Hutchence\", \"Gursikh\", \"Dadas\", \"VIAGA\", \"keen_horsewoman\", \"Theodoric\", \"Eldery\", \"lihn\", \"Alice_Kramden\", \"Santarina\", \"radical_cleric_al_Sadr\", \"Curleys\", \"SY'\", \"Fidaa\", \"Saptapadi\", \"Actor_Sean_Astin\", \"Kellita_Smith\", \"Doly\", \"Libertina\", \"Money_McBags\", \"Chief_Bearhart\", \"choirgirl\", \"chestnut_stallion\", \"VIGRA\", \"BY_JIM_McCONNELL\", \"Sal_Vitale\", \"Trivia_buffs\", \"kumaris\", \"fraternal_lodge\", \"galpals\", \"Borino_Quinn\", \"lina\", \"LATEST_Rapper\", \"Bezar\", \"Manro\", \"bakla\", \"Grisetti\", \"blond_bimbo\", \"spinster_aunt\", \"gurls\", \"hiswife\", \"paleface\", \"Charlye\", \"hippie_chicks\", \"Khalifas\", \"Picture_JUSTIN_SANSON\", \"Hepburns\", \"yez\", \"ALDER\", \"Sanussi\", \"Lil_Sis\", \"McLoughlins\", \"Barbra_Jean\", \"Lulua\", \"thatshe\", \"actress_Shohreh_Aghdashloo\", \"SIR_ANTHONY_HOPKINS\", \"Gloddy\", \"ZAH'\", \"ORANGE_'S\", \"Danielle_Bimber\", \"grandmum\", \"Kulkis\", \"Brazington\", \"Marisa_Lenhard_CFA\", \"SIR_JOHN\", \"Clareman\", \"Aqila\", \"Heavily_tattooed\", \"Libbys\", \"thim\", \"elocutionist\", \"submissives\", \"Inja\", \"rahm\", \"Agnes_Gooch\", \"fake_tits\", \"nancy_boys\", \"Swaidan\", \"SHAH'\", \"ain'ta_bed\", \"Shumail_Raj\", \"Duchesse\", \"diethylstilbestrol_DES\", \"colt_foal\", \"unfaithful_lover\", \"Maseri\", \"nevah\", \"SAHN\", \"Barths\", \"Toughkenamon\", \"GUEST_STARS\", \"him.But\", \"Donna_Claspell\", \"gingham_dresses\", \"Massage_Parlour\", \"wae\", \"Wasacz\", \"Magistra\", \"vihl\", \"Smriti_Iraani\", \"boyish_haircut\", \"workingwoman\", \"borthers\", \"Capuchin_friars\", \"Nejma\", \"yes_sirs\", \"bivocational_pastor\", \"Grafters\", \"HOPWOOD\", \"Nicknamed_Godzilla\", \"yos\", \"Berkenfield\", \"Missis\", \"sitcom_Designing_Women\", \"Kafoa\", \"trainer_Emma_Lavelle\", \"sadomasochistic_dungeon\", \"iht\", \"desperates\", \"predessor\", \"wolf_cub\", \"indigenous_Peruvians\", \"Livia_Soprano\", \"troh\", \"colt_sired\", \"BOND_HILL\", \"ihl\", \"Drydens\", \"rahs\", \"Piserchia\", \"Sonny_Corinthos\", \"bankrobber\", \"Fwank\", \"feisty_redhead\", \"booze_guzzling\", \"COOPERS\", \"actress_Q'orianka_Kilcher\", \"Cortezar\", \"twe\", \"Jacoub\", \"Cindy_Iannarelli\", \"Hell_Raiser\", \"Fondly_referred\", \"Bridal_Shoppe\", \"Noleta\", \"Christinas\", \"IAGRA\", \"LaTanya_Richardson\", \"Sang_Bender\", \"Assasins\", \"sorrel_gelding\", \"septugenarian\", \"Hissy\", \"Muqtada_al_Sadr_mook\", \"Pfeni\", \"MADRID_AFX_Banco_Santander\", \"tuchis\", \"LeVaughn\", \"Gadzicki\", \"transvestite_hooker\", \"Fame_jockey_Laffit\", \"nun_Sister_Mary\", \"SAMSONOV\", \"Mayflower_Madam\", \"Shaque\", \"well.He\", \"Trainer_Julio_Canani\", \"sorrel_mare\", \"minivehicle_joint_venture\", \"wife_Dwina\", \"Aasiya_AH'_see\", \"Baratheon\", \"Rick_O'Shay\", \"Mammies\", \"goatie\", \"Nell_Gwynne\", \"charmingly_awkward\", \"Slamma\", \"DEHL\", \"Lorenzo_Borghese\", \"ALMA_Wis.\", \"Anne_Scurria\", \"father_Peruvians_alternately\", \"JULIE_ANDREWS\", \"Slim_Pickins\", \"Victoria_Secret_stunner\", \"BY'\", \"Sanam_Devdas\", \"pronounced_luh\", \"Pasha_Selim\", \"\\u4e2d\\u534e\", \"rson\", \"maternal_grandmothers\", \"IOWA_CITY_Ia\", \"Madame_de_Tourvel\", \"JAY'\", \"Sheika_Mozah_bint_Nasser\", \"Hotsy_Totsy\", \"D'_Ginto\", \"singer_Johnny_Paycheck\", \"uterine_prolapse_surgery\", \"SCOTTDALE_Pa.\", \"AdelaideNow_reports\", \"Marcus_Schenkenberg\", \"Clyse\", \"Obiter_Dicta\", \"comic_Sam_Kinison\", \"bitties\", \"ROCKVILLE_Ind.\", \"swimsuit_calendars\", \"Decicio_Smith\", \"Ma_ma\", \"Rie_Miyazawa\", \"celibate_chastity\", \"gwah\", \"ZAY'\", \"HER_Majesty\", \"Defrere\", \"Las_Madrinas\", \"\\u7c3f_\\u8042_\\u7ffb\", \"Bea_Hamill\", \"ARCADIA_Calif._Trainer\", \"Bold_Badgett\", \"stakes_victress\", \"Hoppin_Frog\", \"Narumiya\", \"Flayfil\", \"hardman_Vinnie_Jones\", \"Marilyn_Monroe_lookalike\", \"Kivanc_Tatlitug\", \"Persis_Khambatta\", \"SINKING_SPRING_Pa.\", \"len_3rd\", \"DEAR_TRYING\", \"Farndon_Cheshire\", \"Krishna_Madiga\", \"daughter_Princess_Chulabhorn\", \"Marshall_Rooster_Cogburn\", \"Kitty_Kiernan\", \"Yokich\", \"Jarou\", \"Serdaris\", \"ee_ay\", \"Montifiore\", \"Chuderewicz\", \"Samuel_Le_Bihan\", \"filly_Proud_Spell\", \"Umm_Hiba\", \"pronounced_koo\", \"Sandy_Fonzo\", \"KOR'\", \"Fielder_Civil_kisses\", \"Federalsburg_Maryland\", \"Nikah_ceremony\", \"Brinke_Stevens\", \"Yakama_Tribal_Council\", \"Capuchin_Father\", \"wife_Callista_Bisek\", \"Beau_Dare\", \"Bedoni\", \"Arjun_Punj\", \"JOHNNY_KNOXVILLE\", \"cap_tain\", \"Alderwood_Boys\", \"Chi_Eta_Phi\", \"ringleader_Charles_Graner\", \"Savoies\", \"Lalla_Salma\", \"Mrs._Potiphar\", \"fahn\", \"name_Taylor_Sumers\", \"Vernita_Green\", \"Bollywood_baddie\", \"BENBROOK_Texas\", \"Assemblyman_Lou_Papan\", \"virgin_brides\", \"Cho_Eun\", \"CATHY_Freeman\", \"Uncle_Saul\", \"Lao_Brewery\", \"Ibo_tribe\", \"ruf\", \"rival_Edurne_Pasaban\", \"Hei_Shangri_La\", \"Mommy_dearest\", \"interest_Angola_Sonogal\", \"Ger_Monsun\", \"PUSSYCAT_DOLL\", \"Crown_Jewels_Condoms\", \"Lord_Marke\", \"Patootie\", \"Nora_Bey\", \"huntin_shootin\", \"Minister_Raymond_Tshibanda\", \"La_Nina_la_NEEN\", \"signature_Whoppers\", \"estranged_hubby_Kevin_Federline\", \"UR'\", \"pill_poppin\", \"GEHR'\", \"purebred_Arabians\", \"husbandly_duties\", \"VIAGRA_TIMING\", \"Hereford_heifer\", \"hushed_monotone_voice\", \"Pola_Uddin\", \"Wee_Jimmy_Krankie\", \"Kwakwanso\", \"Our_Galvinator\", \"shoh\", \"Codependency_Anonymous_Group\", \"LA'\", \"Taufa'ahau\", \"Invincible_Spirit_colt\", \"SAH'_dur\", \"MOUNT_CARMEL_Pa.\", \"watches_attentively\", \"SNL_spinoffs\", \"Seth_Nitschke\", \"Duns_Berwickshire\", \"defendant_Colleen_LaRose\", \"Silky_O'Sullivan\", \"Highcliff_Farm\", \"REN'\", \"Comestar\", \"Satisfied_Frog\", \"Jai_Maharashtra\", \"ATTICA_Ind.\", \"lover_Larry_Birkhead\", \"Tami_Megal\", \"chauvinist_pigs\", \"Phi_sorority\", \"Micronesian_immigrant\", \"Lia_Boldt\", \"Sugar_Tits\", \"actress_Kathy_Najimy\", \"zhoo\", \"Colombo_underboss\", \"Katsav_accusers\", \"Bess_Houdini\", \"rap_mogul_Diddy\", \"companions_Khin_Khin\", \"Van_Het\", \"Mastoi_tribe\", \"VITALY\", \"ROLLING_STONES_rocker\", \"womanizing_cad\", \"LILY_COLE\", \"paternal_grandfathers\", \"Lt._Col._Kurt_Kosmatka\", \"Kasseem_Jr.\", \"Ji_Ji\", \"Wilburforce\", \"VIAGRA_DOSE\", \"English_Sheepdogs\", \"pronounced_Kah\", \"Htet_Htet_Oo\", \"Brisk_Breeze\", \"Eau_du\", \"BY_MELANIE_EVANS\", \"Neovasc_Medical\", \"British_funnyman_RICKY\", \"4YO_mare\", \"Hemaida\", \"MONKTON\", \"Mrs_Mujuru\", \"BaGhana_BaGhana\", \"Shaaban_Abdel_Rahim\", \"Edward_Jazlowiecki_lawyer\", \"Ajman_Stud\", \"manly_pharaoh_even\", \"Serra_Madeira_Islands\", \"FRAY'\", \"panto_dames\", \"Khin_Myo\", \"dancer_Karima_El_Mahroug\", \"CROWN_Princess\", \"Baseball_HOFer\", \"Hasta_la_Pasta\", \"GIRLS_NEXT_DOOR\", \"Benedict_Groeschel\", \"Bousamra\", \"Ruby_Rubacuori_Ruby\", \"Monde_Bleu\", \"Un_homme_qui\", \"Taylor_Sumers\", \"Rapper_EMINEM\", \"Joe_Menchetti\", \"VAY'\", \"supermodel_NAOMI_CAMPBELL\", \"Supermodel_GISELE_BUNDCHEN\", \"Au_Lait\", \"Radar_Installed\", \"THOMAS_TOWNSHIP_Mich.\", \"Rafinesque\", \"Herman_Weinrich\", \"Abraxas_Antelope\", \"raspy_voiced_rocker\", \"Manurewa_Cosmopolitan_Club\", \"Paraone\", \"THE_LEOPARD\", \"Boy_Incorporated_LZB\", \"Dansili_filly\", \"Lumpy_Rutherford\", \"unwedded_bliss\", \"Bhavna_Sharma\", \"Scarvagh\", \"en_flagrante\", \"Mottu_Maid\", \"Dowager_Queen\", \"NEEN\", \"model_Monika_Zsibrita\", \"ROSIE_PEREZ\", \"Mattock_Ranger\", \"Valorous\", \"Surpreme\", \"Marwari_businessmen\", \"Grandparents_aunts\", \"Kimberley_Vlaeminck\", \"Lyn_Treece_Boys\", \"PDX_Update\", \"Virsa_Punjab\", \"eyelash_fluttering\", \"Pi_fraternity\", \"HUNTLEIGH_Mo.\", \"novelist_Jilly_Cooper\", \"Naha_Shuri_temple\", \"Yasmine_Al_Massri\", \"Mu_Gamma_Xi\", \"Mica_Ertegun\", \"Ocleppo\", \"VIAGRA_CONTRAINDICATIONS\", \"daughter_PEACHES\", \"trainer_Geoff_Wragg\", \"OVERNIGHT_DELIVERY\", \"Fitts_retiree\", \"de_Tourvel\", \"Lil_Lad\", \"north_easterner\", \"Aol_Weird_News\", \"Somewhat_improbably\", \"Sikh_panth\", \"Worcester_2m_7f\", \"Zainab_Jah\", \"OLYMPIC_medalist\", \"Enoch_Petrucelly\", \"collie_Lassie\", \"LOW'\", \"clumsiness_Holloway\", \"ayr\", \"OHR'\", \"ROLLING_STONES_guitarist\", \"LAH'_nee\", \"Ian_Beefy_Botham\", \"Awapuni_trainer\", \"Glamorous_Granny\", \"Chiang_Ching\", \"MidAtlantic_Cardiovascular_Associates\", \"Yeke\", \"Seaforth_Huron_Expositor\", \"Westley_Cary_Elwes\", \"Cate_Blanchett_Veronica_Guerin\", \"Bellas_Gate\", \"witch_Glinda\", \"wives_mistresses\", \"Woodsville_Walmart\", \"2YO_colt\", \"Manav_Sushant_Singh\", \"Pupi_Avati_Il\", \"Sigma_Beta_Rho\", \"Bishop_Christopher_Senyonjo\", \"Vodou_priest\", \"Rubel_Chowdhury\", \"Claddagh_Ring\", \"TAH'_duh_al\", \"al_Sadr_mook_TAH'\", \"ROBIN_GIBB\", \"GAHN'\", \"BY_THOMAS_RANSON\", \"sister_Carine_Jena\", \"Lyphard_mare\", \"summa_cum\", \"Semenya_grandmother_Maputhi\", \"Clare_Nuns\", \"Talac\", \"sex_hormones_androgens\", \"majeste\", \"Saint_Ballado_mare\", \"Carrie_Huchel\", \"Mae_Dok\", \"wife_Dieula\", \"Earnest_Sirls\", \"spoof_bar_mitzvah\", \"von_Boetticher\", \"Audwin_Mosby\", \"Case_presentationWe\", \"Vincent_Papandrea\", \"KRAY'\", \"Sergi_Benavent\", \"Le_Poisson\", \"Von_Cramm\", \"Patti_Mell\", \"Raymi_Coya\", \"Benjamin_BeBe_Winans\", \"Nana_Akosua\", \"Auld_Acquaintance\", \"Desire_Burunga\", \"Company_Wrangler_Nestea\", \"ask_Krisy_Plourde\", \"JUANITA_BYNUM\", \"livia\", \"GAMB\", \"Gail_Rosario_Dawson\", \"Ramgarhia_Sikh\", \"Catholic_nun_Sister\", \"FOUR_WEDDINGS_AND\", \"Robyn_Scherer\", \"brother_King_Athelstan\", \"Santo_Loquasto_Fences\", \"Wee_Frees\", \"MARISOL\", \"Soliloquy_Stakes\", \"Whatever_Spoetzl\", \"Marc'Aurelio\", \"mon_petit\", \"Sabbar_al_Mashhadani\", \"KAY'_lee\", \"m_zah_MAH'\", \"BY_TAMI_ALTHOFF\", \"hobbit_Samwise_Gamgee\", \"Bahiya_Hariri_sister\", \"daddy_Larry_Birkhead\", \"Sow_Tracey_Ullman\", \"coach_Viljo_Nousiainen\", \"Carmen_Lebbos\", \"conjoined_twins_Zainab\", \"Rob_Komosa\", \"ample_bosomed\", \"Ageing_rocker\", \"psychic_Oda\"]\n",
    "\n",
    "bias_criterion_specific_words = gender_specific"
   ]
  },
  {
   "cell_type": "code",
   "execution_count": 5,
   "id": "drawn-increase",
   "metadata": {
    "ExecuteTime": {
     "end_time": "2021-03-25T22:14:04.772050Z",
     "start_time": "2021-03-25T22:14:03.821022Z"
    }
   },
   "outputs": [
    {
     "name": "stderr",
     "output_type": "stream",
     "text": [
      "INFO:gensim.models.utils_any2vec:loading projection weights from D:/gensim-data/word2vec-google-news-300/word2vec-google-news-300/GoogleNews-vectors-negative300.bin\n",
      "DEBUG:smart_open.smart_open_lib:{'uri': 'D:/gensim-data/word2vec-google-news-300/word2vec-google-news-300/GoogleNews-vectors-negative300.bin', 'mode': 'rb', 'buffering': -1, 'encoding': None, 'errors': None, 'newline': None, 'closefd': True, 'opener': None, 'ignore_ext': False, 'transport_params': None}\n",
      "INFO:gensim.models.utils_any2vec:loaded (100000, 300) matrix from D:/gensim-data/word2vec-google-news-300/word2vec-google-news-300/GoogleNews-vectors-negative300.bin\n"
     ]
    }
   ],
   "source": [
    "from wefe.debias.hard_debias import HardDebias\n",
    "from wefe.word_embedding_model import WordEmbeddingModel\n",
    "\n",
    "w2v_sm = KeyedVectors.load_word2vec_format(\n",
    "    'D:/gensim-data/word2vec-google-news-300/word2vec-google-news-300/GoogleNews-vectors-negative300.bin',\n",
    "    binary=True,\n",
    "    limit=100000)\n",
    "w2v_ = WordEmbeddingModel(w2v_sm, \"Word2Vec\")\n",
    "word_embedding_model = w2v_\n",
    "\n",
    "preprocessor_args = {\n",
    "    \"strip_accents\": False,\n",
    "    \"lowercase\": False,\n",
    "    \"preprocessor\": None,\n",
    "}\n",
    "secondary_preprocessor_args = None"
   ]
  },
  {
   "cell_type": "code",
   "execution_count": 6,
   "id": "seventh-swedish",
   "metadata": {
    "ExecuteTime": {
     "end_time": "2021-03-25T22:14:04.884050Z",
     "start_time": "2021-03-25T22:14:04.776054Z"
    }
   },
   "outputs": [],
   "source": [
    "# w2v_sm.save_word2vec_format('./w2v_sm.bin', binary=True)"
   ]
  },
  {
   "cell_type": "markdown",
   "id": "numeric-stamp",
   "metadata": {},
   "source": [
    "Ejecución del debias a mano"
   ]
  },
  {
   "cell_type": "code",
   "execution_count": 7,
   "id": "constitutional-norwegian",
   "metadata": {
    "ExecuteTime": {
     "end_time": "2021-03-25T22:14:05.010021Z",
     "start_time": "2021-03-25T22:14:04.888021Z"
    },
    "code_folding": []
   },
   "outputs": [],
   "source": [
    "from wefe.debias.hard_debias import HardDebias\n",
    "\n",
    "hd = HardDebias()\n",
    "verbose = True\n",
    "\n",
    "\n",
    "_definitional_pairs_embeddings = hd._get_embeddings_from_pairs_sets(\n",
    "            word_embedding_model=word_embedding_model,\n",
    "            pairs=definitional_pairs,\n",
    "            preprocessor_args=preprocessor_args,\n",
    "            secondary_preprocessor_args=secondary_preprocessor_args,\n",
    "            verbose=verbose,\n",
    "        )"
   ]
  },
  {
   "cell_type": "code",
   "execution_count": 8,
   "id": "proved-manitoba",
   "metadata": {
    "ExecuteTime": {
     "end_time": "2021-03-25T22:14:05.134052Z",
     "start_time": "2021-03-25T22:14:05.014022Z"
    }
   },
   "outputs": [],
   "source": [
    "_equalize_pairs_embeddings = hd._get_embeddings_from_pairs_sets(\n",
    "            word_embedding_model=word_embedding_model,\n",
    "            pairs=equalize_pairs,\n",
    "            preprocessor_args=preprocessor_args,\n",
    "            secondary_preprocessor_args=secondary_preprocessor_args,\n",
    "            verbose=verbose,\n",
    "        )"
   ]
  },
  {
   "cell_type": "code",
   "execution_count": 9,
   "id": "induced-fourth",
   "metadata": {
    "ExecuteTime": {
     "end_time": "2021-03-25T22:14:05.260021Z",
     "start_time": "2021-03-25T22:14:05.137021Z"
    }
   },
   "outputs": [],
   "source": [
    "_pca = hd._identify_bias_subspace(\n",
    "        _definitional_pairs_embeddings,\n",
    "    )\n"
   ]
  },
  {
   "cell_type": "code",
   "execution_count": 10,
   "id": "cosmetic-dictionary",
   "metadata": {
    "ExecuteTime": {
     "end_time": "2021-03-25T22:14:05.388020Z",
     "start_time": "2021-03-25T22:14:05.262033Z"
    },
    "scrolled": true
   },
   "outputs": [
    {
     "data": {
      "text/plain": [
       "array([0.60369664, 0.13059543, 0.10221026, 0.05036521, 0.03803022,\n",
       "       0.02693526, 0.02390356, 0.01335809, 0.00944711, 0.0049813 ],\n",
       "      dtype=float32)"
      ]
     },
     "execution_count": 10,
     "metadata": {},
     "output_type": "execute_result"
    }
   ],
   "source": [
    "_pca.explained_variance_"
   ]
  },
  {
   "cell_type": "code",
   "execution_count": 11,
   "id": "speaking-weekend",
   "metadata": {
    "ExecuteTime": {
     "end_time": "2021-03-25T22:14:05.516066Z",
     "start_time": "2021-03-25T22:14:05.390021Z"
    }
   },
   "outputs": [],
   "source": [
    "_bias_direction = _pca.components_[0]\n",
    "bias_criterion_specific_words = set(bias_criterion_specific_words)"
   ]
  },
  {
   "cell_type": "code",
   "execution_count": 12,
   "id": "honest-intellectual",
   "metadata": {
    "ExecuteTime": {
     "end_time": "2021-03-25T22:14:06.942023Z",
     "start_time": "2021-03-25T22:14:05.519023Z"
    }
   },
   "outputs": [
    {
     "name": "stderr",
     "output_type": "stream",
     "text": [
      "INFO:root:word 0\n",
      "INFO:root:word 10000\n",
      "INFO:root:word 20000\n",
      "INFO:root:word 30000\n",
      "INFO:root:word 40000\n",
      "INFO:root:word 50000\n",
      "INFO:root:word 60000\n",
      "INFO:root:word 70000\n",
      "INFO:root:word 80000\n",
      "INFO:root:word 90000\n"
     ]
    }
   ],
   "source": [
    "words, neutralized_embeddings = hd._neutralize_embeddings(\n",
    "    word_embedding_model, bias_criterion_specific_words, _bias_direction\n",
    ")\n"
   ]
  },
  {
   "cell_type": "code",
   "execution_count": 13,
   "id": "approximate-tomorrow",
   "metadata": {
    "ExecuteTime": {
     "end_time": "2021-03-25T22:14:07.068021Z",
     "start_time": "2021-03-25T22:14:06.946022Z"
    }
   },
   "outputs": [
    {
     "name": "stdout",
     "output_type": "stream",
     "text": [
      "Memory size of numpy array in bytes: 120.0\n"
     ]
    }
   ],
   "source": [
    "x = neutralized_embeddings\n",
    "# memory size of numpy array in bytes\n",
    "print(\"Memory size of numpy array in bytes:\",\n",
    "      x.size * x.itemsize / 1000000)"
   ]
  },
  {
   "cell_type": "code",
   "execution_count": 14,
   "id": "hungarian-norman",
   "metadata": {
    "ExecuteTime": {
     "end_time": "2021-03-25T22:14:07.288087Z",
     "start_time": "2021-03-25T22:14:07.072021Z"
    }
   },
   "outputs": [],
   "source": [
    "neutralized_embeddings = hd._normalize_embeddings(\n",
    "    neutralized_embeddings\n",
    ")"
   ]
  },
  {
   "cell_type": "code",
   "execution_count": 15,
   "id": "grave-imaging",
   "metadata": {
    "ExecuteTime": {
     "end_time": "2021-03-25T22:14:07.462021Z",
     "start_time": "2021-03-25T22:14:07.291036Z"
    }
   },
   "outputs": [
    {
     "name": "stderr",
     "output_type": "stream",
     "text": [
      "C:\\Users\\pablo\\Desktop\\WEFE\\wefe\\wefe\\debias\\hard_debias.py:154: RuntimeWarning: invalid value encountered in sqrt\n",
      "  z = np.sqrt(1 - np.linalg.norm(y) ** 2)\n"
     ]
    }
   ],
   "source": [
    "words, equalized_embeddings = hd._equalize_embeddings(\n",
    "    words,\n",
    "    neutralized_embeddings,\n",
    "    _equalize_pairs_embeddings,\n",
    "    _bias_direction,\n",
    ")\n"
   ]
  },
  {
   "cell_type": "code",
   "execution_count": 16,
   "id": "interim-quality",
   "metadata": {
    "ExecuteTime": {
     "end_time": "2021-03-25T22:14:07.668019Z",
     "start_time": "2021-03-25T22:14:07.466035Z"
    }
   },
   "outputs": [],
   "source": [
    "equalized_embeddings = hd._normalize_embeddings(\n",
    "    equalized_embeddings\n",
    ")"
   ]
  },
  {
   "cell_type": "markdown",
   "id": "convertible-participation",
   "metadata": {},
   "source": [
    "# Visualization"
   ]
  },
  {
   "cell_type": "code",
   "execution_count": 17,
   "id": "vocal-camel",
   "metadata": {
    "ExecuteTime": {
     "end_time": "2021-03-25T22:14:07.793023Z",
     "start_time": "2021-03-25T22:14:07.672040Z"
    }
   },
   "outputs": [],
   "source": [
    "centers = []\n",
    "for embedding_dict_pair in _definitional_pairs_embeddings:\n",
    "    pair_embeddings = np.array(list(embedding_dict_pair.values()))\n",
    "    center = np.mean(pair_embeddings, axis=0)\n",
    "    center_words = f\"center_{'_'.join(list(embedding_dict_pair.keys()))}\"\n",
    "    centers.append({\"word\": center_words, \"type\": \"pair_center\", \"wv\": center})"
   ]
  },
  {
   "cell_type": "code",
   "execution_count": 18,
   "id": "changed-problem",
   "metadata": {
    "ExecuteTime": {
     "end_time": "2021-03-25T22:14:10.733248Z",
     "start_time": "2021-03-25T22:14:07.797022Z"
    }
   },
   "outputs": [],
   "source": [
    "embeddings_dict = {\n",
    "    w: {\n",
    "        'word': w,\n",
    "        'wv': word_embedding_model[w],\n",
    "        'type': 'original'\n",
    "    }\n",
    "    for w in words\n",
    "}\n",
    "neutralized_embeddings_dict = {\n",
    "    w: {\n",
    "        'word': w,\n",
    "        'wv': e,\n",
    "        'type': 'debiased' if w not in gender_specific else 'gender_specific(no_debiased)'\n",
    "    }\n",
    "    for w, e in zip(words, equalized_embeddings)\n",
    "}\n",
    "\n",
    "bias_dir = {\n",
    "    'word': 'Bias direction',\n",
    "    'wv': _bias_direction,\n",
    "    'type': 'bias_direction'\n",
    "}"
   ]
  },
  {
   "cell_type": "code",
   "execution_count": 19,
   "id": "academic-soundtrack",
   "metadata": {
    "ExecuteTime": {
     "end_time": "2021-03-25T22:14:10.858020Z",
     "start_time": "2021-03-25T22:14:10.736095Z"
    }
   },
   "outputs": [],
   "source": [
    "# Anotar las palabras que sean parte de los definitional pairs\n",
    "for pair in definitional_pairs:\n",
    "    embeddings_dict[pair[0]]['type'] += '_def_pair'\n",
    "    embeddings_dict[pair[1]]['type'] += '_def_pair'\n",
    "\n",
    "    neutralized_embeddings_dict[pair[0]]['type'] += '_def_pair'\n",
    "    neutralized_embeddings_dict[pair[1]]['type'] += '_def_pair'\n"
   ]
  },
  {
   "cell_type": "code",
   "execution_count": 20,
   "id": "arabic-break",
   "metadata": {
    "ExecuteTime": {
     "end_time": "2021-03-25T22:14:11.158089Z",
     "start_time": "2021-03-25T22:14:10.861022Z"
    }
   },
   "outputs": [],
   "source": [
    "embeddings_df = pd.DataFrame(\n",
    "    list(embeddings_dict.values()) +\n",
    "    list(neutralized_embeddings_dict.values()) + [bias_dir] + centers)"
   ]
  },
  {
   "cell_type": "code",
   "execution_count": 21,
   "id": "junior-estonia",
   "metadata": {
    "ExecuteTime": {
     "end_time": "2021-03-25T22:14:11.300052Z",
     "start_time": "2021-03-25T22:14:11.160041Z"
    }
   },
   "outputs": [
    {
     "data": {
      "text/html": [
       "<div>\n",
       "<style scoped>\n",
       "    .dataframe tbody tr th:only-of-type {\n",
       "        vertical-align: middle;\n",
       "    }\n",
       "\n",
       "    .dataframe tbody tr th {\n",
       "        vertical-align: top;\n",
       "    }\n",
       "\n",
       "    .dataframe thead th {\n",
       "        text-align: right;\n",
       "    }\n",
       "</style>\n",
       "<table border=\"1\" class=\"dataframe\">\n",
       "  <thead>\n",
       "    <tr style=\"text-align: right;\">\n",
       "      <th></th>\n",
       "      <th>word</th>\n",
       "      <th>wv</th>\n",
       "      <th>type</th>\n",
       "    </tr>\n",
       "  </thead>\n",
       "  <tbody>\n",
       "    <tr>\n",
       "      <th>0</th>\n",
       "      <td>&lt;/s&gt;</td>\n",
       "      <td>[0.0011291504, -0.00089645386, 0.00031852722, ...</td>\n",
       "      <td>original</td>\n",
       "    </tr>\n",
       "    <tr>\n",
       "      <th>1</th>\n",
       "      <td>in</td>\n",
       "      <td>[0.0703125, 0.08691406, 0.087890625, 0.0625, 0...</td>\n",
       "      <td>original</td>\n",
       "    </tr>\n",
       "    <tr>\n",
       "      <th>2</th>\n",
       "      <td>for</td>\n",
       "      <td>[-0.011779785, -0.04736328, 0.044677734, 0.063...</td>\n",
       "      <td>original</td>\n",
       "    </tr>\n",
       "    <tr>\n",
       "      <th>3</th>\n",
       "      <td>that</td>\n",
       "      <td>[-0.01574707, -0.028320312, 0.083496094, 0.050...</td>\n",
       "      <td>original</td>\n",
       "    </tr>\n",
       "    <tr>\n",
       "      <th>4</th>\n",
       "      <td>is</td>\n",
       "      <td>[0.0070495605, -0.07324219, 0.171875, 0.022583...</td>\n",
       "      <td>original</td>\n",
       "    </tr>\n",
       "    <tr>\n",
       "      <th>...</th>\n",
       "      <td>...</td>\n",
       "      <td>...</td>\n",
       "      <td>...</td>\n",
       "    </tr>\n",
       "    <tr>\n",
       "      <th>200006</th>\n",
       "      <td>center_gal_guy</td>\n",
       "      <td>[0.15037537, 0.056884766, -0.10290527, 0.32812...</td>\n",
       "      <td>pair_center</td>\n",
       "    </tr>\n",
       "    <tr>\n",
       "      <th>200007</th>\n",
       "      <td>center_female_male</td>\n",
       "      <td>[-0.092285156, 0.072265625, -6.1035156e-05, -0...</td>\n",
       "      <td>pair_center</td>\n",
       "    </tr>\n",
       "    <tr>\n",
       "      <th>200008</th>\n",
       "      <td>center_her_his</td>\n",
       "      <td>[0.23242188, 0.08148193, 0.019714355, -0.02612...</td>\n",
       "      <td>pair_center</td>\n",
       "    </tr>\n",
       "    <tr>\n",
       "      <th>200009</th>\n",
       "      <td>center_herself_himself</td>\n",
       "      <td>[0.28173828, 0.06225586, 0.046203613, -0.09887...</td>\n",
       "      <td>pair_center</td>\n",
       "    </tr>\n",
       "    <tr>\n",
       "      <th>200010</th>\n",
       "      <td>center_Mary_John</td>\n",
       "      <td>[0.17993164, -0.029052734, -0.060546875, 0.120...</td>\n",
       "      <td>pair_center</td>\n",
       "    </tr>\n",
       "  </tbody>\n",
       "</table>\n",
       "<p>200011 rows × 3 columns</p>\n",
       "</div>"
      ],
      "text/plain": [
       "                          word  \\\n",
       "0                         </s>   \n",
       "1                           in   \n",
       "2                          for   \n",
       "3                         that   \n",
       "4                           is   \n",
       "...                        ...   \n",
       "200006          center_gal_guy   \n",
       "200007      center_female_male   \n",
       "200008          center_her_his   \n",
       "200009  center_herself_himself   \n",
       "200010        center_Mary_John   \n",
       "\n",
       "                                                       wv         type  \n",
       "0       [0.0011291504, -0.00089645386, 0.00031852722, ...     original  \n",
       "1       [0.0703125, 0.08691406, 0.087890625, 0.0625, 0...     original  \n",
       "2       [-0.011779785, -0.04736328, 0.044677734, 0.063...     original  \n",
       "3       [-0.01574707, -0.028320312, 0.083496094, 0.050...     original  \n",
       "4       [0.0070495605, -0.07324219, 0.171875, 0.022583...     original  \n",
       "...                                                   ...          ...  \n",
       "200006  [0.15037537, 0.056884766, -0.10290527, 0.32812...  pair_center  \n",
       "200007  [-0.092285156, 0.072265625, -6.1035156e-05, -0...  pair_center  \n",
       "200008  [0.23242188, 0.08148193, 0.019714355, -0.02612...  pair_center  \n",
       "200009  [0.28173828, 0.06225586, 0.046203613, -0.09887...  pair_center  \n",
       "200010  [0.17993164, -0.029052734, -0.060546875, 0.120...  pair_center  \n",
       "\n",
       "[200011 rows x 3 columns]"
      ]
     },
     "execution_count": 21,
     "metadata": {},
     "output_type": "execute_result"
    }
   ],
   "source": [
    "embeddings_df"
   ]
  },
  {
   "cell_type": "code",
   "execution_count": 22,
   "id": "bottom-honduras",
   "metadata": {
    "ExecuteTime": {
     "end_time": "2021-03-25T22:14:11.444251Z",
     "start_time": "2021-03-25T22:14:11.303022Z"
    }
   },
   "outputs": [
    {
     "data": {
      "text/plain": [
       "original                                 99980\n",
       "debiased                                 99587\n",
       "gender_specific(no_debiased)               393\n",
       "original_def_pair                           20\n",
       "gender_specific(no_debiased)_def_pair       18\n",
       "pair_center                                 10\n",
       "debiased_def_pair                            2\n",
       "bias_direction                               1\n",
       "Name: type, dtype: int64"
      ]
     },
     "execution_count": 22,
     "metadata": {},
     "output_type": "execute_result"
    }
   ],
   "source": [
    "embeddings_df['type'].value_counts()"
   ]
  },
  {
   "cell_type": "code",
   "execution_count": 23,
   "id": "ongoing-unemployment",
   "metadata": {
    "ExecuteTime": {
     "end_time": "2021-03-25T22:14:12.282021Z",
     "start_time": "2021-03-25T22:14:11.447022Z"
    }
   },
   "outputs": [
    {
     "ename": "ValueError",
     "evalue": "Input contains NaN, infinity or a value too large for dtype('float32').",
     "output_type": "error",
     "traceback": [
      "\u001b[1;31m---------------------------------------------------------------------------\u001b[0m",
      "\u001b[1;31mValueError\u001b[0m                                Traceback (most recent call last)",
      "\u001b[1;32m<ipython-input-23-c3f350d0d2a9>\u001b[0m in \u001b[0;36m<module>\u001b[1;34m\u001b[0m\n\u001b[0;32m     21\u001b[0m \u001b[1;33m\u001b[0m\u001b[0m\n\u001b[0;32m     22\u001b[0m \u001b[1;33m\u001b[0m\u001b[0m\n\u001b[1;32m---> 23\u001b[1;33m \u001b[0mdf_1\u001b[0m \u001b[1;33m=\u001b[0m \u001b[0mtsne\u001b[0m\u001b[1;33m(\u001b[0m\u001b[0mword_embedding_model\u001b[0m\u001b[1;33m,\u001b[0m \u001b[0membeddings_df\u001b[0m\u001b[1;33m)\u001b[0m\u001b[1;33m\u001b[0m\u001b[1;33m\u001b[0m\u001b[0m\n\u001b[0m",
      "\u001b[1;32m<ipython-input-23-c3f350d0d2a9>\u001b[0m in \u001b[0;36mtsne\u001b[1;34m(word_embedding_model, embeddings_df, num_of_plotted_words)\u001b[0m\n\u001b[0;32m     12\u001b[0m     \u001b[0membeddings_arr\u001b[0m \u001b[1;33m=\u001b[0m \u001b[0mnp\u001b[0m\u001b[1;33m.\u001b[0m\u001b[0marray\u001b[0m\u001b[1;33m(\u001b[0m\u001b[1;33m[\u001b[0m\u001b[0mval\u001b[0m \u001b[1;32mfor\u001b[0m \u001b[0mval\u001b[0m \u001b[1;32min\u001b[0m \u001b[0membeddings_to_show\u001b[0m\u001b[1;33m[\u001b[0m\u001b[1;34m'wv'\u001b[0m\u001b[1;33m]\u001b[0m\u001b[1;33m.\u001b[0m\u001b[0mvalues\u001b[0m\u001b[1;33m]\u001b[0m\u001b[1;33m)\u001b[0m\u001b[1;33m\u001b[0m\u001b[1;33m\u001b[0m\u001b[0m\n\u001b[0;32m     13\u001b[0m \u001b[1;33m\u001b[0m\u001b[0m\n\u001b[1;32m---> 14\u001b[1;33m     X_embedded = TSNE(n_components=2, n_jobs=-\n\u001b[0m\u001b[0;32m     15\u001b[0m                       1, random_state=10).fit_transform(embeddings_arr)\n\u001b[0;32m     16\u001b[0m \u001b[1;33m\u001b[0m\u001b[0m\n",
      "\u001b[1;32m~\\miniconda3\\envs\\ds\\lib\\site-packages\\sklearn\\manifold\\_t_sne.py\u001b[0m in \u001b[0;36mfit_transform\u001b[1;34m(self, X, y)\u001b[0m\n\u001b[0;32m    930\u001b[0m             \u001b[0mEmbedding\u001b[0m \u001b[0mof\u001b[0m \u001b[0mthe\u001b[0m \u001b[0mtraining\u001b[0m \u001b[0mdata\u001b[0m \u001b[1;32min\u001b[0m \u001b[0mlow\u001b[0m\u001b[1;33m-\u001b[0m\u001b[0mdimensional\u001b[0m \u001b[0mspace\u001b[0m\u001b[1;33m.\u001b[0m\u001b[1;33m\u001b[0m\u001b[1;33m\u001b[0m\u001b[0m\n\u001b[0;32m    931\u001b[0m         \"\"\"\n\u001b[1;32m--> 932\u001b[1;33m         \u001b[0membedding\u001b[0m \u001b[1;33m=\u001b[0m \u001b[0mself\u001b[0m\u001b[1;33m.\u001b[0m\u001b[0m_fit\u001b[0m\u001b[1;33m(\u001b[0m\u001b[0mX\u001b[0m\u001b[1;33m)\u001b[0m\u001b[1;33m\u001b[0m\u001b[1;33m\u001b[0m\u001b[0m\n\u001b[0m\u001b[0;32m    933\u001b[0m         \u001b[0mself\u001b[0m\u001b[1;33m.\u001b[0m\u001b[0membedding_\u001b[0m \u001b[1;33m=\u001b[0m \u001b[0membedding\u001b[0m\u001b[1;33m\u001b[0m\u001b[1;33m\u001b[0m\u001b[0m\n\u001b[0;32m    934\u001b[0m         \u001b[1;32mreturn\u001b[0m \u001b[0mself\u001b[0m\u001b[1;33m.\u001b[0m\u001b[0membedding_\u001b[0m\u001b[1;33m\u001b[0m\u001b[1;33m\u001b[0m\u001b[0m\n",
      "\u001b[1;32m~\\miniconda3\\envs\\ds\\lib\\site-packages\\sklearn\\manifold\\_t_sne.py\u001b[0m in \u001b[0;36m_fit\u001b[1;34m(self, X, skip_num_points)\u001b[0m\n\u001b[0;32m    700\u001b[0m             )\n\u001b[0;32m    701\u001b[0m         \u001b[1;32mif\u001b[0m \u001b[0mself\u001b[0m\u001b[1;33m.\u001b[0m\u001b[0mmethod\u001b[0m \u001b[1;33m==\u001b[0m \u001b[1;34m'barnes_hut'\u001b[0m\u001b[1;33m:\u001b[0m\u001b[1;33m\u001b[0m\u001b[1;33m\u001b[0m\u001b[0m\n\u001b[1;32m--> 702\u001b[1;33m             X = self._validate_data(X, accept_sparse=['csr'],\n\u001b[0m\u001b[0;32m    703\u001b[0m                                     \u001b[0mensure_min_samples\u001b[0m\u001b[1;33m=\u001b[0m\u001b[1;36m2\u001b[0m\u001b[1;33m,\u001b[0m\u001b[1;33m\u001b[0m\u001b[1;33m\u001b[0m\u001b[0m\n\u001b[0;32m    704\u001b[0m                                     dtype=[np.float32, np.float64])\n",
      "\u001b[1;32m~\\miniconda3\\envs\\ds\\lib\\site-packages\\sklearn\\base.py\u001b[0m in \u001b[0;36m_validate_data\u001b[1;34m(self, X, y, reset, validate_separately, **check_params)\u001b[0m\n\u001b[0;32m    419\u001b[0m             \u001b[0mout\u001b[0m \u001b[1;33m=\u001b[0m \u001b[0mX\u001b[0m\u001b[1;33m\u001b[0m\u001b[1;33m\u001b[0m\u001b[0m\n\u001b[0;32m    420\u001b[0m         \u001b[1;32melif\u001b[0m \u001b[0misinstance\u001b[0m\u001b[1;33m(\u001b[0m\u001b[0my\u001b[0m\u001b[1;33m,\u001b[0m \u001b[0mstr\u001b[0m\u001b[1;33m)\u001b[0m \u001b[1;32mand\u001b[0m \u001b[0my\u001b[0m \u001b[1;33m==\u001b[0m \u001b[1;34m'no_validation'\u001b[0m\u001b[1;33m:\u001b[0m\u001b[1;33m\u001b[0m\u001b[1;33m\u001b[0m\u001b[0m\n\u001b[1;32m--> 421\u001b[1;33m             \u001b[0mX\u001b[0m \u001b[1;33m=\u001b[0m \u001b[0mcheck_array\u001b[0m\u001b[1;33m(\u001b[0m\u001b[0mX\u001b[0m\u001b[1;33m,\u001b[0m \u001b[1;33m**\u001b[0m\u001b[0mcheck_params\u001b[0m\u001b[1;33m)\u001b[0m\u001b[1;33m\u001b[0m\u001b[1;33m\u001b[0m\u001b[0m\n\u001b[0m\u001b[0;32m    422\u001b[0m             \u001b[0mout\u001b[0m \u001b[1;33m=\u001b[0m \u001b[0mX\u001b[0m\u001b[1;33m\u001b[0m\u001b[1;33m\u001b[0m\u001b[0m\n\u001b[0;32m    423\u001b[0m         \u001b[1;32melse\u001b[0m\u001b[1;33m:\u001b[0m\u001b[1;33m\u001b[0m\u001b[1;33m\u001b[0m\u001b[0m\n",
      "\u001b[1;32m~\\miniconda3\\envs\\ds\\lib\\site-packages\\sklearn\\utils\\validation.py\u001b[0m in \u001b[0;36minner_f\u001b[1;34m(*args, **kwargs)\u001b[0m\n\u001b[0;32m     61\u001b[0m             \u001b[0mextra_args\u001b[0m \u001b[1;33m=\u001b[0m \u001b[0mlen\u001b[0m\u001b[1;33m(\u001b[0m\u001b[0margs\u001b[0m\u001b[1;33m)\u001b[0m \u001b[1;33m-\u001b[0m \u001b[0mlen\u001b[0m\u001b[1;33m(\u001b[0m\u001b[0mall_args\u001b[0m\u001b[1;33m)\u001b[0m\u001b[1;33m\u001b[0m\u001b[1;33m\u001b[0m\u001b[0m\n\u001b[0;32m     62\u001b[0m             \u001b[1;32mif\u001b[0m \u001b[0mextra_args\u001b[0m \u001b[1;33m<=\u001b[0m \u001b[1;36m0\u001b[0m\u001b[1;33m:\u001b[0m\u001b[1;33m\u001b[0m\u001b[1;33m\u001b[0m\u001b[0m\n\u001b[1;32m---> 63\u001b[1;33m                 \u001b[1;32mreturn\u001b[0m \u001b[0mf\u001b[0m\u001b[1;33m(\u001b[0m\u001b[1;33m*\u001b[0m\u001b[0margs\u001b[0m\u001b[1;33m,\u001b[0m \u001b[1;33m**\u001b[0m\u001b[0mkwargs\u001b[0m\u001b[1;33m)\u001b[0m\u001b[1;33m\u001b[0m\u001b[1;33m\u001b[0m\u001b[0m\n\u001b[0m\u001b[0;32m     64\u001b[0m \u001b[1;33m\u001b[0m\u001b[0m\n\u001b[0;32m     65\u001b[0m             \u001b[1;31m# extra_args > 0\u001b[0m\u001b[1;33m\u001b[0m\u001b[1;33m\u001b[0m\u001b[1;33m\u001b[0m\u001b[0m\n",
      "\u001b[1;32m~\\miniconda3\\envs\\ds\\lib\\site-packages\\sklearn\\utils\\validation.py\u001b[0m in \u001b[0;36mcheck_array\u001b[1;34m(array, accept_sparse, accept_large_sparse, dtype, order, copy, force_all_finite, ensure_2d, allow_nd, ensure_min_samples, ensure_min_features, estimator)\u001b[0m\n\u001b[0;32m    661\u001b[0m \u001b[1;33m\u001b[0m\u001b[0m\n\u001b[0;32m    662\u001b[0m         \u001b[1;32mif\u001b[0m \u001b[0mforce_all_finite\u001b[0m\u001b[1;33m:\u001b[0m\u001b[1;33m\u001b[0m\u001b[1;33m\u001b[0m\u001b[0m\n\u001b[1;32m--> 663\u001b[1;33m             _assert_all_finite(array,\n\u001b[0m\u001b[0;32m    664\u001b[0m                                allow_nan=force_all_finite == 'allow-nan')\n\u001b[0;32m    665\u001b[0m \u001b[1;33m\u001b[0m\u001b[0m\n",
      "\u001b[1;32m~\\miniconda3\\envs\\ds\\lib\\site-packages\\sklearn\\utils\\validation.py\u001b[0m in \u001b[0;36m_assert_all_finite\u001b[1;34m(X, allow_nan, msg_dtype)\u001b[0m\n\u001b[0;32m    101\u001b[0m                 not allow_nan and not np.isfinite(X).all()):\n\u001b[0;32m    102\u001b[0m             \u001b[0mtype_err\u001b[0m \u001b[1;33m=\u001b[0m \u001b[1;34m'infinity'\u001b[0m \u001b[1;32mif\u001b[0m \u001b[0mallow_nan\u001b[0m \u001b[1;32melse\u001b[0m \u001b[1;34m'NaN, infinity'\u001b[0m\u001b[1;33m\u001b[0m\u001b[1;33m\u001b[0m\u001b[0m\n\u001b[1;32m--> 103\u001b[1;33m             raise ValueError(\n\u001b[0m\u001b[0;32m    104\u001b[0m                     \u001b[0mmsg_err\u001b[0m\u001b[1;33m.\u001b[0m\u001b[0mformat\u001b[0m\u001b[1;33m\u001b[0m\u001b[1;33m\u001b[0m\u001b[0m\n\u001b[0;32m    105\u001b[0m                     (type_err,\n",
      "\u001b[1;31mValueError\u001b[0m: Input contains NaN, infinity or a value too large for dtype('float32')."
     ]
    }
   ],
   "source": [
    "def tsne(word_embedding_model, embeddings_df,  num_of_plotted_words=2000):\n",
    "    first_n_words = word_embedding_model.model.index2entity[0:num_of_plotted_words]\n",
    "    \n",
    "    words_to_query = first_n_words + ['Bias direction']\n",
    "    # Agregar los embeddings de las n palabras mas frecuentes\n",
    "    embeddings_to_show = embeddings_df[embeddings_df['word'].isin(words_to_query)].reset_index(drop=True)\n",
    "    \n",
    "    # Agregar centros\n",
    "    center_words = embeddings_df[embeddings_df['type'].str.contains('center')]\n",
    "    embeddings_to_show = pd.concat([embeddings_to_show, center_words], axis=0).reset_index(drop=True)\n",
    "        \n",
    "    embeddings_arr = np.array([val for val in embeddings_to_show['wv'].values])\n",
    "    \n",
    "    X_embedded = TSNE(n_components=2, n_jobs=-\n",
    "                      1, random_state=10).fit_transform(embeddings_arr)\n",
    "    \n",
    "    X_embedded_df = pd.DataFrame(X_embedded, columns=['x', 'y'])\n",
    "\n",
    "\n",
    "    return pd.concat([embeddings_to_show, X_embedded_df], axis=1)\n",
    "\n",
    "\n",
    "df_1 = tsne(word_embedding_model, embeddings_df)"
   ]
  },
  {
   "cell_type": "code",
   "execution_count": null,
   "id": "fundamental-andrew",
   "metadata": {
    "ExecuteTime": {
     "end_time": "2021-03-25T22:14:12.399051Z",
     "start_time": "2021-03-25T22:13:59.337Z"
    }
   },
   "outputs": [],
   "source": [
    "df_1"
   ]
  },
  {
   "cell_type": "code",
   "execution_count": null,
   "id": "applicable-shift",
   "metadata": {
    "ExecuteTime": {
     "end_time": "2021-03-25T22:14:12.400028Z",
     "start_time": "2021-03-25T22:13:59.343Z"
    }
   },
   "outputs": [],
   "source": [
    "fig = px.scatter(df_1, x=\"x\", y=\"y\", color=\"type\", hover_data=['word'])\n",
    "\n",
    "for data in fig.data:\n",
    "    if data.name != 'original' and data.name != 'debiased':\n",
    "        data.marker.size = 10\n",
    "        data.marker.line=dict(width=2,color='DarkSlateGrey')\n",
    "        \n",
    "fig.show()"
   ]
  },
  {
   "cell_type": "code",
   "execution_count": null,
   "id": "extended-station",
   "metadata": {
    "ExecuteTime": {
     "end_time": "2021-03-25T22:14:12.402021Z",
     "start_time": "2021-03-25T22:13:59.348Z"
    }
   },
   "outputs": [],
   "source": [
    "df_1[df_1['word'] == '</s>']"
   ]
  },
  {
   "cell_type": "code",
   "execution_count": null,
   "id": "iraqi-effect",
   "metadata": {
    "ExecuteTime": {
     "end_time": "2021-03-25T22:14:12.404022Z",
     "start_time": "2021-03-25T22:13:59.351Z"
    }
   },
   "outputs": [],
   "source": [
    "'woman' in \n",
    "bias_criterion_specific_words"
   ]
  }
 ],
 "metadata": {
  "kernelspec": {
   "display_name": "Python 3",
   "language": "python",
   "name": "python3"
  },
  "language_info": {
   "codemirror_mode": {
    "name": "ipython",
    "version": 3
   },
   "file_extension": ".py",
   "mimetype": "text/x-python",
   "name": "python",
   "nbconvert_exporter": "python",
   "pygments_lexer": "ipython3",
   "version": "3.9.2"
  },
  "toc": {
   "base_numbering": 1,
   "nav_menu": {},
   "number_sections": true,
   "sideBar": true,
   "skip_h1_title": false,
   "title_cell": "Table of Contents",
   "title_sidebar": "Contents",
   "toc_cell": false,
   "toc_position": {},
   "toc_section_display": true,
   "toc_window_display": false
  },
  "varInspector": {
   "cols": {
    "lenName": 16,
    "lenType": 16,
    "lenVar": 40
   },
   "kernels_config": {
    "python": {
     "delete_cmd_postfix": "",
     "delete_cmd_prefix": "del ",
     "library": "var_list.py",
     "varRefreshCmd": "print(var_dic_list())"
    },
    "r": {
     "delete_cmd_postfix": ") ",
     "delete_cmd_prefix": "rm(",
     "library": "var_list.r",
     "varRefreshCmd": "cat(var_dic_list()) "
    }
   },
   "types_to_exclude": [
    "module",
    "function",
    "builtin_function_or_method",
    "instance",
    "_Feature"
   ],
   "window_display": false
  }
 },
 "nbformat": 4,
 "nbformat_minor": 5
}
