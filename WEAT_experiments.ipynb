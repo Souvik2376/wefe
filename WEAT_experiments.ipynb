{
 "cells": [
  {
   "cell_type": "code",
   "execution_count": 1,
   "metadata": {
    "ExecuteTime": {
     "end_time": "2020-12-25T20:14:38.713390Z",
     "start_time": "2020-12-25T20:14:38.665398Z"
    }
   },
   "outputs": [],
   "source": [
    "%load_ext autoreload\n",
    "%autoreload 2"
   ]
  },
  {
   "cell_type": "markdown",
   "metadata": {},
   "source": [
    "# Replications of the Experiments in WEAT paper"
   ]
  },
  {
   "cell_type": "code",
   "execution_count": null,
   "metadata": {
    "ExecuteTime": {
     "end_time": "2020-04-24T17:50:42.998214Z",
     "start_time": "2020-04-24T17:46:12.890337Z"
    }
   },
   "outputs": [],
   "source": [
    "from wefe.metrics import WEAT\n",
    "from wefe.datasets import load_weat\n",
    "from wefe.query import Query\n",
    "from wefe.word_embedding import \n",
    "from wefe.utils import run_queries\n",
    "\n",
    "import gensim.downloader as api\n",
    "\n",
    "# Load the wordset\n",
    "weat_wordset = load_weat()\n",
    "\n",
    "# Define the 10 Queries:\n",
    "queries = [\n",
    "    # Flowers vs Insects wrt Pleasant (5) and Unpleasant (5)\n",
    "    Query([weat_wordset['flowers'], weat_wordset['insects']],\n",
    "          [weat_wordset['pleasant_5'], weat_wordset['unpleasant_5']],\n",
    "          ['Flowers', 'Insects'], ['Pleasant(5)', 'Unpleasant(5)']),\n",
    "\n",
    "    # Instruments vs Weapons wrt Pleasant (5) and Unpleasant (5)\n",
    "    Query([weat_wordset['instruments'], weat_wordset['weapons']],\n",
    "          [weat_wordset['pleasant_5'], weat_wordset['unpleasant_5']],\n",
    "          ['Instruments', 'Weapons'], ['Pleasant(5)', 'Unpleasant(5)']),\n",
    "\n",
    "    # European american names(5) vs African american names(5)\n",
    "    # wrt Pleasant (5) and Unpleasant (5)\n",
    "    Query([\n",
    "        weat_wordset['european_american_names_5'],\n",
    "        weat_wordset['african_american_names_5']\n",
    "    ], [weat_wordset['pleasant_5'], weat_wordset['unpleasant_5']],\n",
    "          ['European american names(5)', 'African american names(5)'],\n",
    "          ['Pleasant(5)', 'Unpleasant(5)']),\n",
    "\n",
    "    # European american names(7) vs African american names(7)\n",
    "    # wrt Pleasant (5) and Unpleasant (5)\n",
    "    Query([\n",
    "        weat_wordset['european_american_names_7'],\n",
    "        weat_wordset['african_american_names_7']\n",
    "    ], [weat_wordset['pleasant_5'], weat_wordset['unpleasant_5']],\n",
    "          ['European american names(7)', 'African american names(7)'],\n",
    "          ['Pleasant(5)', 'Unpleasant(5)']),\n",
    "\n",
    "    # European american names(7) vs African american names(7)\n",
    "    # wrt Pleasant (9) and Unpleasant (9)\n",
    "    Query([\n",
    "        weat_wordset['european_american_names_7'],\n",
    "        weat_wordset['african_american_names_7']\n",
    "    ], [weat_wordset['pleasant_9'], weat_wordset['unpleasant_9']],\n",
    "          ['European american names(7)', 'African american names(7)'],\n",
    "          ['Pleasant(9)', 'Unpleasant(9)']),\n",
    "\n",
    "    # Male and female names wrt Career and family\n",
    "    Query([weat_wordset['male_names'], weat_wordset['female_names']],\n",
    "          [weat_wordset['career'], weat_wordset['family']],\n",
    "          ['Male names', 'Female names'], ['Career', 'Family']),\n",
    "\n",
    "    # Math and arts wrt male and female terms\n",
    "    Query([weat_wordset['math'], weat_wordset['arts']],\n",
    "          [weat_wordset['male_terms'], weat_wordset['female_terms']],\n",
    "          ['Math', 'Arts'], ['Male terms', 'Female terms']),\n",
    "\n",
    "    # Science and arts wrt male and female terms\n",
    "    Query([weat_wordset['science'], weat_wordset['arts_2']],\n",
    "          [weat_wordset['male_terms'], weat_wordset['female_terms']],\n",
    "          ['Science', 'Arts 2'], ['Male terms', 'Female terms']),\n",
    "\n",
    "    # Mental and Physical disease wrt Temporary and Permanent\n",
    "    Query([weat_wordset['mental_disease'], weat_wordset['physical_disease']],\n",
    "          [weat_wordset['temporary'], weat_wordset['permanent']],\n",
    "          ['Mental disease', 'Physical disease'], ['Temporary', 'Permanent']),\n",
    "\n",
    "    # Young people names and Old people names disease wrt Pleasant(9) and Unpleasant(9)\n",
    "    Query(\n",
    "        [weat_wordset['young_people_names'], weat_wordset['old_people_names']],\n",
    "        [weat_wordset['pleasant_9'], weat_wordset['unpleasant_9']],\n",
    "        ['Young peoples names', 'Old peoples names'],\n",
    "        ['Pleasant(9)', 'Unpleasant(9)'])\n",
    "]\n",
    "\n",
    "# Load the embedding models\n",
    "w2v = (api.load('word2vec-google-news-300'),\n",
    "                         'word2vec-google-news-300')\n",
    "glove = (api.load('glove-wiki-gigaword-300'),\n",
    "                           'glove-wiki-gigaword-300')\n",
    "\n",
    "# Execute the queries with the models and WEAT\n",
    "results = run_queries(WEAT,\n",
    "                      queries, [w2v, glove],\n",
    "                      aggregate_results=True,\n",
    "                      aggregation_function='abs_avg',\n",
    "                      warn_filtered_words=True,\n",
    "                      metric_params={\n",
    "                          'return_effect_size': True\n",
    "                      },\n",
    "                      lost_vocabulary_threshold=.25)\n",
    "\n",
    "results.T.round(2)"
   ]
  },
  {
   "cell_type": "code",
   "execution_count": null,
   "metadata": {
    "ExecuteTime": {
     "end_time": "2020-04-24T18:08:27.031955Z",
     "start_time": "2020-04-24T18:08:26.602270Z"
    }
   },
   "outputs": [],
   "source": [
    "from wefe.utils import plot_queries_results\n",
    "\n",
    "fig = plot_queries_results(results)\n",
    "fig.show()"
   ]
  },
  {
   "cell_type": "code",
   "execution_count": null,
   "metadata": {
    "ExecuteTime": {
     "end_time": "2020-04-24T18:07:32.440285Z",
     "start_time": "2020-04-24T18:07:27.432373Z"
    }
   },
   "outputs": [],
   "source": [
    "fig.write_image('./doc/images/WEAT_replication.png', width = 1200, height= 600, scale=3)"
   ]
  },
  {
   "cell_type": "code",
   "execution_count": null,
   "metadata": {},
   "outputs": [],
   "source": []
  },
  {
   "cell_type": "code",
   "execution_count": 2,
   "metadata": {
    "ExecuteTime": {
     "end_time": "2020-12-25T20:18:24.984135Z",
     "start_time": "2020-12-25T20:14:41.762813Z"
    }
   },
   "outputs": [
    {
     "name": "stderr",
     "output_type": "stream",
     "text": [
      "INFO:gensim.models.keyedvectors:loading projection weights from C:\\Users\\pablo/gensim-data\\word2vec-google-news-300\\word2vec-google-news-300.gz\n",
      "DEBUG:smart_open.smart_open_lib:{'uri': 'C:\\\\Users\\\\pablo/gensim-data\\\\word2vec-google-news-300\\\\word2vec-google-news-300.gz', 'mode': 'rb', 'buffering': -1, 'encoding': None, 'errors': None, 'newline': None, 'closefd': True, 'opener': None, 'ignore_ext': False, 'transport_params': None}\n",
      "INFO:gensim.models.keyedvectors:loaded (3000000, 300) matrix from C:\\Users\\pablo/gensim-data\\word2vec-google-news-300\\word2vec-google-news-300.gz\n",
      "INFO:gensim.models.keyedvectors:loading projection weights from C:\\Users\\pablo/gensim-data\\glove-wiki-gigaword-300\\glove-wiki-gigaword-300.gz\n",
      "DEBUG:smart_open.smart_open_lib:{'uri': 'C:\\\\Users\\\\pablo/gensim-data\\\\glove-wiki-gigaword-300\\\\glove-wiki-gigaword-300.gz', 'mode': 'rb', 'buffering': -1, 'encoding': None, 'errors': None, 'newline': None, 'closefd': True, 'opener': None, 'ignore_ext': False, 'transport_params': None}\n",
      "INFO:gensim.models.keyedvectors:loaded (400000, 300) matrix from C:\\Users\\pablo/gensim-data\\glove-wiki-gigaword-300\\glove-wiki-gigaword-300.gz\n"
     ]
    }
   ],
   "source": [
    "from wefe.metrics import WEAT\n",
    "from wefe.datasets import load_weat\n",
    "from wefe.query import Query\n",
    "from wefe.word_embedding_model import WordEmbeddingModel\n",
    "from wefe.utils import run_queries\n",
    "\n",
    "import gensim.downloader as api\n",
    "\n",
    "# Load the wordset\n",
    "weat_wordset = load_weat()\n",
    "\n",
    "# Define the 10 Queries:\n",
    "queries = [\n",
    "    # Flowers vs Insects wrt Pleasant (5) and Unpleasant (5)\n",
    "    Query([weat_wordset['flowers'], weat_wordset['insects']],\n",
    "          [weat_wordset['pleasant_5'], weat_wordset['unpleasant_5']],\n",
    "          ['Flowers', 'Insects'], ['Pleasant(5)', 'Unpleasant(5)']),\n",
    "\n",
    "    # Instruments vs Weapons wrt Pleasant (5) and Unpleasant (5)\n",
    "    Query([weat_wordset['instruments'], weat_wordset['weapons']],\n",
    "          [weat_wordset['pleasant_5'], weat_wordset['unpleasant_5']],\n",
    "          ['Instruments', 'Weapons'], ['Pleasant(5)', 'Unpleasant(5)']),\n",
    "\n",
    "    # European american names(5) vs African american names(5)\n",
    "    # wrt Pleasant (5) and Unpleasant (5)\n",
    "    Query([\n",
    "        weat_wordset['european_american_names_5'],\n",
    "        weat_wordset['african_american_names_5']\n",
    "    ], [weat_wordset['pleasant_5'], weat_wordset['unpleasant_5']],\n",
    "          ['European american names(5)', 'African american names(5)'],\n",
    "          ['Pleasant(5)', 'Unpleasant(5)']),\n",
    "\n",
    "    # European american names(7) vs African american names(7)\n",
    "    # wrt Pleasant (5) and Unpleasant (5)\n",
    "    Query([\n",
    "        weat_wordset['european_american_names_7'],\n",
    "        weat_wordset['african_american_names_7']\n",
    "    ], [weat_wordset['pleasant_5'], weat_wordset['unpleasant_5']],\n",
    "          ['European american names(7)', 'African american names(7)'],\n",
    "          ['Pleasant(5)', 'Unpleasant(5)']),\n",
    "\n",
    "    # European american names(7) vs African american names(7)\n",
    "    # wrt Pleasant (9) and Unpleasant (9)\n",
    "    Query([\n",
    "        weat_wordset['european_american_names_7'],\n",
    "        weat_wordset['african_american_names_7']\n",
    "    ], [weat_wordset['pleasant_9'], weat_wordset['unpleasant_9']],\n",
    "          ['European american names(7)', 'African american names(7)'],\n",
    "          ['Pleasant(9)', 'Unpleasant(9)']),\n",
    "\n",
    "    # Male and female names wrt Career and family\n",
    "    Query([weat_wordset['male_names'], weat_wordset['female_names']],\n",
    "          [weat_wordset['career'], weat_wordset['family']],\n",
    "          ['Male names', 'Female names'], ['Career', 'Family']),\n",
    "\n",
    "    # Math and arts wrt male and female terms\n",
    "    Query([weat_wordset['math'], weat_wordset['arts']],\n",
    "          [weat_wordset['male_terms'], weat_wordset['female_terms']],\n",
    "          ['Math', 'Arts'], ['Male terms', 'Female terms']),\n",
    "\n",
    "    # Science and arts wrt male and female terms\n",
    "    Query([weat_wordset['science'], weat_wordset['arts_2']],\n",
    "          [weat_wordset['male_terms'], weat_wordset['female_terms']],\n",
    "          ['Science', 'Arts 2'], ['Male terms', 'Female terms']),\n",
    "\n",
    "    # Mental and Physical disease wrt Temporary and Permanent\n",
    "    Query([weat_wordset['mental_disease'], weat_wordset['physical_disease']],\n",
    "          [weat_wordset['temporary'], weat_wordset['permanent']],\n",
    "          ['Mental disease', 'Physical disease'], ['Temporary', 'Permanent']),\n",
    "\n",
    "    # Young people names and Old people names disease wrt Pleasant(9) and Unpleasant(9)\n",
    "    Query(\n",
    "        [weat_wordset['young_people_names'], weat_wordset['old_people_names']],\n",
    "        [weat_wordset['pleasant_9'], weat_wordset['unpleasant_9']],\n",
    "        ['Young peoples names', 'Old peoples names'],\n",
    "        ['Pleasant(9)', 'Unpleasant(9)'])\n",
    "]\n",
    "\n",
    "# Load the embedding models\n",
    "w2v = WordEmbeddingModel(api.load('word2vec-google-news-300'),\n",
    "                         'word2vec-google-news-300')\n",
    "glove = WordEmbeddingModel(api.load('glove-wiki-gigaword-300'),\n",
    "                           'glove-wiki-gigaword-300')\n",
    "\n"
   ]
  },
  {
   "cell_type": "code",
   "execution_count": null,
   "metadata": {},
   "outputs": [],
   "source": [
    "# Execute the queries with the models and WEAT\n",
    "results = run_queries(WEAT,\n",
    "                      queries, [w2v, glove],\n",
    "                      aggregate_results=True,\n",
    "                      aggregation_function='abs_avg',\n",
    "                      warn_filtered_words=True,\n",
    "                      metric_params={\n",
    "                          'return_effect_size': True\n",
    "                      },\n",
    "                      lost_vocabulary_threshold=.25)\n",
    "\n",
    "results.T.round(2)"
   ]
  },
  {
   "cell_type": "code",
   "execution_count": 24,
   "metadata": {
    "ExecuteTime": {
     "end_time": "2020-12-25T21:24:34.072538Z",
     "start_time": "2020-12-25T21:18:38.887272Z"
    }
   },
   "outputs": [
    {
     "name": "stderr",
     "output_type": "stream",
     "text": [
      "INFO:root:weat_original_result 1.4078285694122314\n",
      "INFO:root:Number of possible total permutations: 30414093201713378043612608166064768844377641568960512000000000000. Maximum iterations allowed: 10000\n",
      "INFO:root:WEAT p-value: 0 / 10000 runs\n",
      "INFO:root:WEAT p-value: 500 / 10000 runs\n",
      "INFO:root:WEAT p-value: 1000 / 10000 runs\n",
      "INFO:root:WEAT p-value: 1500 / 10000 runs\n",
      "INFO:root:WEAT p-value: 2000 / 10000 runs\n",
      "INFO:root:WEAT p-value: 2500 / 10000 runs\n",
      "INFO:root:WEAT p-value: 3000 / 10000 runs\n",
      "INFO:root:WEAT p-value: 3500 / 10000 runs\n",
      "INFO:root:WEAT p-value: 4000 / 10000 runs\n",
      "INFO:root:WEAT p-value: 4500 / 10000 runs\n",
      "INFO:root:WEAT p-value: 5000 / 10000 runs\n",
      "INFO:root:WEAT p-value: 5500 / 10000 runs\n",
      "INFO:root:WEAT p-value: 6000 / 10000 runs\n",
      "INFO:root:WEAT p-value: 6500 / 10000 runs\n",
      "INFO:root:WEAT p-value: 7000 / 10000 runs\n",
      "INFO:root:WEAT p-value: 7500 / 10000 runs\n",
      "INFO:root:WEAT p-value: 8000 / 10000 runs\n",
      "INFO:root:WEAT p-value: 8500 / 10000 runs\n",
      "INFO:root:WEAT p-value: 9000 / 10000 runs\n",
      "INFO:root:WEAT p-value: 9500 / 10000 runs\n",
      "INFO:root:0\n",
      "INFO:root:10000\n",
      "INFO:root:0.0\n"
     ]
    },
    {
     "data": {
      "text/plain": [
       "{'query_name': 'Flowers and Insects wrt Pleasant(5) and Unpleasant(5)',\n",
       " 'result': 1.4078286,\n",
       " 'weat': 1.4078286,\n",
       " 'effect_size': 1.5549757,\n",
       " 'p-value': 0.0}"
      ]
     },
     "execution_count": 24,
     "metadata": {},
     "output_type": "execute_result"
    }
   ],
   "source": [
    "from wefe.metrics import WEAT\n",
    "WEAT().run_query(queries[0], w2v, calc_p_value=True ,log_p_value_status=False)"
   ]
  }
 ],
 "metadata": {
  "kernelspec": {
   "display_name": "Python 3",
   "language": "python",
   "name": "python3"
  },
  "language_info": {
   "codemirror_mode": {
    "name": "ipython",
    "version": 3
   },
   "file_extension": ".py",
   "mimetype": "text/x-python",
   "name": "python",
   "nbconvert_exporter": "python",
   "pygments_lexer": "ipython3",
   "version": "3.8.3"
  },
  "toc": {
   "base_numbering": 1,
   "nav_menu": {},
   "number_sections": true,
   "sideBar": true,
   "skip_h1_title": true,
   "title_cell": "Table of Contents",
   "title_sidebar": "Contents",
   "toc_cell": false,
   "toc_position": {},
   "toc_section_display": true,
   "toc_window_display": false
  },
  "varInspector": {
   "cols": {
    "lenName": 16,
    "lenType": 16,
    "lenVar": 40
   },
   "kernels_config": {
    "python": {
     "delete_cmd_postfix": "",
     "delete_cmd_prefix": "del ",
     "library": "var_list.py",
     "varRefreshCmd": "print(var_dic_list())"
    },
    "r": {
     "delete_cmd_postfix": ") ",
     "delete_cmd_prefix": "rm(",
     "library": "var_list.r",
     "varRefreshCmd": "cat(var_dic_list()) "
    }
   },
   "types_to_exclude": [
    "module",
    "function",
    "builtin_function_or_method",
    "instance",
    "_Feature"
   ],
   "window_display": false
  }
 },
 "nbformat": 4,
 "nbformat_minor": 2
}
